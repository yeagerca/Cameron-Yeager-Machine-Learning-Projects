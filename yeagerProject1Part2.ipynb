{
  "nbformat": 4,
  "nbformat_minor": 0,
  "metadata": {
    "colab": {
      "provenance": [],
      "authorship_tag": "ABX9TyParixW1LJw5zUoa+kTSM4Q",
      "include_colab_link": true
    },
    "kernelspec": {
      "name": "python3",
      "display_name": "Python 3"
    },
    "language_info": {
      "name": "python"
    }
  },
  "cells": [
    {
      "cell_type": "markdown",
      "metadata": {
        "id": "view-in-github",
        "colab_type": "text"
      },
      "source": [
        "<a href=\"https://colab.research.google.com/github/yeagerca/Cameron-Yeager-Machine-Learning-Projects/blob/main/yeagerProject1Part2.ipynb\" target=\"_parent\"><img src=\"https://colab.research.google.com/assets/colab-badge.svg\" alt=\"Open In Colab\"/></a>"
      ]
    },
    {
      "cell_type": "markdown",
      "metadata": {
        "id": "c8_mJakmhrov"
      },
      "source": [
        "# Set A (First column)"
      ]
    },
    {
      "cell_type": "code",
      "metadata": {
        "id": "DRs8rJ1I4X8H"
      },
      "source": [
        "#imports\n",
        "import os\n",
        "import requests\n",
        "import zipfile\n",
        "import pandas as pd\n",
        "import numpy as np\n",
        "#for plotting\n",
        "import matplotlib.pyplot as plt\n",
        "from matplotlib.pyplot import figure\n",
        "#for split\n",
        "from operator import itemgetter\n",
        "from sklearn.model_selection import train_test_split\n",
        "#for training and evaluation\n",
        "from sklearn.preprocessing import PolynomialFeatures\n",
        "from sklearn.pipeline import make_pipeline\n",
        "from sklearn.linear_model import SGDRegressor\n",
        "from sklearn import metrics\n",
        "\n",
        "GoogleDriveFile = 'https://drive.google.com/file/d/1sVQ6oKQRlCLQ_42cBcXOp39nwvruSr6s/view?usp=sharing'\n",
        "url = 'https://drive.google.com/uc?id=' + GoogleDriveFile.split('/')[-2] #Get the url\n",
        "df = pd.read_csv(url)"
      ],
      "execution_count": null,
      "outputs": []
    },
    {
      "cell_type": "code",
      "metadata": {
        "id": "1jhkUr4IOl9w"
      },
      "source": [
        "#Funciton to strip the dollar signs from some columns\n",
        "def removeDollarsign(arr):\n",
        "  i = 0\n",
        "  for x in arr:\n",
        "    v = float(np.char.strip(x, '$'))\n",
        "    arr[i] = v\n",
        "    i = i + 1\n",
        "  return arr"
      ],
      "execution_count": null,
      "outputs": []
    },
    {
      "cell_type": "code",
      "metadata": {
        "id": "22FGutt4I4-j"
      },
      "source": [
        "#Put the columns into numpy arrays as numerics (without dollar signs).\n",
        "A = df.Call_Wt.to_numpy()\n",
        "B = df.Delivered_Wt.to_numpy()\n",
        "C = df.Dry_Weight.to_numpy()\n",
        "D = df.Num_Animals.to_numpy()\n",
        "E = removeDollarsign(df.Price.to_numpy())\n",
        "F = removeDollarsign(df.Price_Animal.to_numpy())\n",
        "G = df.DMI.to_numpy()"
      ],
      "execution_count": null,
      "outputs": []
    },
    {
      "cell_type": "code",
      "metadata": {
        "id": "5kXzlDNDTCmx"
      },
      "source": [
        "#Scale DMI\n",
        "G = (G - np.mean(G)) / np.std(G)"
      ],
      "execution_count": null,
      "outputs": []
    },
    {
      "cell_type": "code",
      "metadata": {
        "id": "6BZu2tEPTkx-",
        "colab": {
          "base_uri": "https://localhost:8080/",
          "height": 283
        },
        "outputId": "1bb3847e-907d-4d0b-f403-f9a874a6856f"
      },
      "source": [
        "#Visualize\n",
        "plt.scatter(A, G)\n",
        "plt.scatter(B, G)\n",
        "plt.scatter(C, G)\n",
        "plt.scatter(D, G)\n",
        "plt.scatter(E, G)\n",
        "plt.scatter(F, G)"
      ],
      "execution_count": null,
      "outputs": [
        {
          "output_type": "execute_result",
          "data": {
            "text/plain": [
              "<matplotlib.collections.PathCollection at 0x7f0cc3b5b450>"
            ]
          },
          "metadata": {},
          "execution_count": 5
        },
        {
          "output_type": "display_data",
          "data": {
            "image/png": "[encoded data removed]",
            "text/plain": [
              "<Figure size 432x288 with 1 Axes>"
            ]
          },
          "metadata": {
            "needs_background": "light"
          }
        }
      ]
    },
    {
      "cell_type": "code",
      "metadata": {
        "id": "aZrRsIziUm4l"
      },
      "source": [
        "#Splitting to train and test set\n",
        "A_train, A_test, G_train, G_test = train_test_split(A, G, test_size=0.2, random_state=0)\n",
        "#B_train, B_test, G_train, G_test = train_test_split(B, G, test_size=0.2, random_state=0)\n",
        "#C_train, C_test, G_train, G_test = train_test_split(C, G, test_size=0.2, random_state=0)\n",
        "#D_train, D_test, G_train, G_test = train_test_split(D, G, test_size=0.2, random_state=0)\n",
        "#E_train, E_test, G_train, G_test = train_test_split(E, G, test_size=0.2, random_state=0)\n",
        "#F_train, F_test, G_train, G_test = train_test_split(F, G, test_size=0.2, random_state=0)"
      ],
      "execution_count": null,
      "outputs": []
    },
    {
      "cell_type": "code",
      "metadata": {
        "id": "vdD8Tk6hWMA5"
      },
      "source": [
        "#Function to sort a test array set\n",
        "def sortABC_test(X_test, Y_test):\n",
        "  enumerate_x = enumerate(X_test)\n",
        "  sorted_pairs = sorted(enumerate_x, key=itemgetter(1))\n",
        "  sorted_indices = [index for index, element in sorted_pairs]\n",
        "  X_test = sorted(X_test)\n",
        "  Y_test = itemgetter(*sorted_indices)(Y_test)\n",
        "  X_test = np.array(X_test)\n",
        "  Y_test = np.array(Y_test)\n",
        "  return X_test, Y_test"
      ],
      "execution_count": null,
      "outputs": []
    },
    {
      "cell_type": "code",
      "metadata": {
        "id": "N-4HnfeaVEPK"
      },
      "source": [
        "#Sort ABC_test\n",
        "A_test, G_test = sortABC_test(A_test, G_test)\n",
        "#print(A_test, '\\n\\n', G_test)"
      ],
      "execution_count": null,
      "outputs": []
    },
    {
      "cell_type": "code",
      "metadata": {
        "id": "ZjqT24qoXPFd"
      },
      "source": [
        "#Function to visualize plot\n",
        "def visualizeMyPlot(X_train, Y_train, X_test, Y_test):\n",
        "  figure(figsize=(18, 6), dpi=80)\n",
        "  plt.subplot(1, 2, 1) # row 1, col 2 index 1\n",
        "  plt.scatter(X_train, Y_train)\n",
        "  plt.title(\"Training Data\")\n",
        "  plt.xlabel('X_train')\n",
        "  plt.ylabel('Y_train')\n",
        "  plt.subplot(1, 2, 2) # index 2\n",
        "  plt.scatter(X_test, Y_test)\n",
        "  plt.title(\"Test Data\")\n",
        "  plt.xlabel('X_test')\n",
        "  plt.ylabel('Y_test')\n",
        "  plt.tight_layout()\n",
        "  plt.show()"
      ],
      "execution_count": null,
      "outputs": []
    },
    {
      "cell_type": "code",
      "metadata": {
        "id": "YZTZwj_IWoj2",
        "colab": {
          "base_uri": "https://localhost:8080/",
          "height": 318
        },
        "outputId": "4b867bb1-2fb4-477c-8757-3e7aea85e5c1"
      },
      "source": [
        "#Visualizing more\n",
        "visualizeMyPlot(A_train, G_train, A_test, G_test)"
      ],
      "execution_count": null,
      "outputs": [
        {
          "output_type": "display_data",
          "data": {
            "image/png": "[encoded data removed]",
            "text/plain": [
              "<Figure size 1440x480 with 2 Axes>"
            ]
          },
          "metadata": {
            "needs_background": "light"
          }
        }
      ]
    },
    {
      "cell_type": "code",
      "metadata": {
        "id": "qWTlsiD0X9OA"
      },
      "source": [
        "#Function to Train on X data\n",
        "def trainMyPlot(X_train, X_test, degree):\n",
        "  X_train = X_train.reshape(-1,1)\n",
        "  X_test = X_test.reshape(-1,1)\n",
        "  X_train.shape, X_test.shape\n",
        "  polyreg_fit = make_pipeline(PolynomialFeatures(degree), SGDRegressor())\n",
        "  return polyreg_fit, X_train, X_test"
      ],
      "execution_count": null,
      "outputs": []
    },
    {
      "cell_type": "code",
      "metadata": {
        "id": "kwSWxpOqY3sS",
        "colab": {
          "base_uri": "https://localhost:8080/"
        },
        "outputId": "58f498df-2d92-470d-e64c-b489b8d81754"
      },
      "source": [
        "#Train A, G\n",
        "degree=1\n",
        "A_polyreg_fit, A_train, A_test = trainMyPlot(A_train, A_test, degree)\n",
        "A_polyreg_fit.fit(A_train, G_train)"
      ],
      "execution_count": null,
      "outputs": [
        {
          "output_type": "execute_result",
          "data": {
            "text/plain": [
              "Pipeline(memory=None,\n",
              "         steps=[('polynomialfeatures',\n",
              "                 PolynomialFeatures(degree=1, include_bias=True,\n",
              "                                    interaction_only=False, order='C')),\n",
              "                ('sgdregressor',\n",
              "                 SGDRegressor(alpha=0.0001, average=False, early_stopping=False,\n",
              "                              epsilon=0.1, eta0=0.01, fit_intercept=True,\n",
              "                              l1_ratio=0.15, learning_rate='invscaling',\n",
              "                              loss='squared_loss', max_iter=1000,\n",
              "                              n_iter_no_change=5, penalty='l2', power_t=0.25,\n",
              "                              random_state=None, shuffle=True, tol=0.001,\n",
              "                              validation_fraction=0.1, verbose=0,\n",
              "                              warm_start=False))],\n",
              "         verbose=False)"
            ]
          },
          "metadata": {},
          "execution_count": 12
        }
      ]
    },
    {
      "cell_type": "code",
      "metadata": {
        "id": "xdnQU1l2Zm_Z"
      },
      "source": [
        "#Function for Prediction\n",
        "def setUpPrediction(polyreg_fit, X_test, Y_test):\n",
        "  X_test_sorted = sorted(X_test)\n",
        "  Y_pred = polyreg_fit.predict(X_test_sorted)\n",
        "  return X_test_sorted, Y_pred"
      ],
      "execution_count": null,
      "outputs": []
    },
    {
      "cell_type": "code",
      "metadata": {
        "id": "hgur9G6tZFqi",
        "colab": {
          "base_uri": "https://localhost:8080/",
          "height": 276
        },
        "outputId": "107884d2-8ce8-4607-c710-df0d30c36d48"
      },
      "source": [
        "#Predict\n",
        "A_test_sorted, G_pred = setUpPrediction(A_polyreg_fit, A_test, G_test)\n",
        "#Plot the prediction\n",
        "plt.clf()\n",
        "plt.plot(A_test, G_test, 'go', label='True data')\n",
        "plt.plot(A_test_sorted, G_pred, '--', label='Predictions')\n",
        "plt.legend(loc='best')\n",
        "plt.show()"
      ],
      "execution_count": null,
      "outputs": [
        {
          "output_type": "display_data",
          "data": {
            "image/png": "[encoded data removed]",
            "text/plain": [
              "<Figure size 432x288 with 1 Axes>"
            ]
          },
          "metadata": {
            "needs_background": "light"
          }
        }
      ]
    },
    {
      "cell_type": "code",
      "metadata": {
        "id": "lKDS0EvHcUs9"
      },
      "source": [
        "#Function to estimate error\n",
        "def estimateError(Y_test, Y_pred):\n",
        "  print('Mean Absolute Error:', metrics.mean_absolute_error(Y_test, Y_pred))\n",
        "  print('Mean Squared Error:', metrics.mean_squared_error(Y_test, Y_pred))\n",
        "  print('Root Mean Squared Error:', np.sqrt(metrics.mean_squared_error(Y_test, Y_pred)))"
      ],
      "execution_count": null,
      "outputs": []
    },
    {
      "cell_type": "code",
      "metadata": {
        "id": "IbA9vkkX-lvy",
        "colab": {
          "base_uri": "https://localhost:8080/"
        },
        "outputId": "ddc98e12-b2a0-4a2c-de63-9a94ac290f99"
      },
      "source": [
        "#Estimate error of A\n",
        "estimateError(G_test, G_pred)"
      ],
      "execution_count": null,
      "outputs": [
        {
          "output_type": "stream",
          "name": "stdout",
          "text": [
            "Mean Absolute Error: 9.947266541418187e+16\n",
            "Mean Squared Error: 2.3659431222551467e+34\n",
            "Root Mean Squared Error: 1.5381622548532214e+17\n"
          ]
        }
      ]
    },
    {
      "cell_type": "markdown",
      "metadata": {
        "id": "PCz6RMHKhMuq"
      },
      "source": [
        "# Editted for reexecution of different columns"
      ]
    },
    {
      "cell_type": "code",
      "metadata": {
        "id": "zBdyiRJmArMq"
      },
      "source": [
        "# This code block is just a repeat of all of the above codeblocks to\n",
        "# be reexecuted using a different column.\n",
        "\n",
        "#imports\n",
        "import os\n",
        "import requests\n",
        "import zipfile\n",
        "import pandas as pd\n",
        "import numpy as np\n",
        "#for plotting\n",
        "import matplotlib.pyplot as plt\n",
        "from matplotlib.pyplot import figure\n",
        "#for split\n",
        "from operator import itemgetter\n",
        "from sklearn.model_selection import train_test_split\n",
        "#for training and evaluation\n",
        "from sklearn.preprocessing import PolynomialFeatures\n",
        "from sklearn.pipeline import make_pipeline\n",
        "from sklearn.linear_model import SGDRegressor\n",
        "from sklearn import metrics\n",
        "\n",
        "GoogleDriveFile = 'https://drive.google.com/file/d/1sVQ6oKQRlCLQ_42cBcXOp39nwvruSr6s/view?usp=sharing'\n",
        "url = 'https://drive.google.com/uc?id=' + GoogleDriveFile.split('/')[-2] #Get the url\n",
        "df = pd.read_csv(url)\n",
        "\n",
        "#Funciton to strip the dollar signs from some columns\n",
        "def removeDollarsign(arr):\n",
        "  i = 0\n",
        "  for x in arr:\n",
        "    v = float(np.char.strip(x, '$'))\n",
        "    arr[i] = v\n",
        "    i = i + 1\n",
        "  return arr\n",
        "\n",
        "#Put the columns into numpy arrays as numerics (without dollar signs).\n",
        "A = df.Call_Wt.to_numpy()\n",
        "B = df.Delivered_Wt.to_numpy()\n",
        "C = df.Dry_Weight.to_numpy()\n",
        "D = df.Num_Animals.to_numpy()\n",
        "E = removeDollarsign(df.Price.to_numpy())\n",
        "F = removeDollarsign(df.Price_Animal.to_numpy())\n",
        "G = df.DMI.to_numpy()\n",
        "\n",
        "#Scale DMI\n",
        "G = (G - np.mean(G)) / np.std(G)\n",
        "\n",
        "#Visualize\n",
        "plt.scatter(E, G)\n",
        "\n",
        "#Splitting to train and test set\n",
        "E_train, E_test, G_train, G_test = train_test_split(E, G, test_size=0.2, random_state=0)\n",
        "\n",
        "#Function to sort a test array set\n",
        "def sortABC_test(X_test, Y_test):\n",
        "  enumerate_x = enumerate(X_test)\n",
        "  sorted_pairs = sorted(enumerate_x, key=itemgetter(1))\n",
        "  sorted_indices = [index for index, element in sorted_pairs]\n",
        "  X_test = sorted(X_test)\n",
        "  Y_test = itemgetter(*sorted_indices)(Y_test)\n",
        "  X_test = np.array(X_test)\n",
        "  Y_test = np.array(Y_test)\n",
        "  return X_test, Y_test\n",
        "\n",
        "#Sort ABC_test\n",
        "E_test, G_test = sortABC_test(E_test, G_test)\n",
        "\n",
        "#Function to visualize plot\n",
        "def visualizeMyPlot(X_train, Y_train, X_test, Y_test):\n",
        "  figure(figsize=(18, 6), dpi=80)\n",
        "  plt.subplot(1, 2, 1) # row 1, col 2 index 1\n",
        "  plt.scatter(X_train, Y_train)\n",
        "  plt.title(\"Training Data\")\n",
        "  plt.xlabel('X_train')\n",
        "  plt.ylabel('Y_train')\n",
        "  plt.subplot(1, 2, 2) # index 2\n",
        "  plt.scatter(X_test, Y_test)\n",
        "  plt.title(\"Test Data\")\n",
        "  plt.xlabel('X_test')\n",
        "  plt.ylabel('Y_test')\n",
        "  plt.tight_layout()\n",
        "  plt.show()\n",
        "\n",
        "#Visualizing more\n",
        "visualizeMyPlot(E_train, G_train, E_test, G_test)\n",
        "\n",
        "#Function to Train on X data\n",
        "def trainMyPlot(X_train, X_test, degree):\n",
        "  X_train = X_train.reshape(-1,1)\n",
        "  X_test = X_test.reshape(-1,1)\n",
        "  X_train.shape, X_test.shape\n",
        "  polyreg_fit = make_pipeline(PolynomialFeatures(degree), SGDRegressor())\n",
        "  return polyreg_fit, X_train, X_test\n",
        "\n",
        "#Train A, G\n",
        "degree=1\n",
        "E_polyreg_fit, E_train, E_test = trainMyPlot(E_train, E_test, degree)\n",
        "E_polyreg_fit.fit(E_train, G_train)\n",
        "\n",
        "#Function for Prediction\n",
        "def setUpPrediction(polyreg_fit, X_test, Y_test):\n",
        "  X_test_sorted = sorted(X_test)\n",
        "  Y_pred = polyreg_fit.predict(X_test_sorted)\n",
        "  return X_test_sorted, Y_pred\n",
        "\n",
        "#Predict\n",
        "E_test_sorted, G_pred = setUpPrediction(E_polyreg_fit, E_test, G_test)\n",
        "#Plot the prediction\n",
        "plt.clf()\n",
        "plt.plot(E_test, G_test, 'go', label='True data')\n",
        "plt.plot(E_test_sorted, G_pred, '--', label='Predictions')\n",
        "plt.legend(loc='best')\n",
        "plt.show()\n",
        "\n",
        "#Function to estimate error\n",
        "def estimateError(Y_test, Y_pred):\n",
        "  print('Mean Absolute Error:', metrics.mean_absolute_error(Y_test, Y_pred))\n",
        "  print('Mean Squared Error:', metrics.mean_squared_error(Y_test, Y_pred))\n",
        "  print('Root Mean Squared Error:', np.sqrt(metrics.mean_squared_error(Y_test, Y_pred)))\n",
        "\n",
        "#Estimate error of A\n",
        "estimateError(G_test, G_pred)"
      ],
      "execution_count": null,
      "outputs": []
    },
    {
      "cell_type": "markdown",
      "metadata": {
        "id": "xubgL760hWu4"
      },
      "source": [
        "# Results of Single Input Linear Regression"
      ]
    },
    {
      "cell_type": "markdown",
      "metadata": {
        "id": "2O6sS-Y6-9BB"
      },
      "source": [
        "Set A vs G (Call_Wt vs DMI):\n",
        "*   Mean Absolute Error: 2.0033493653694e+16\n",
        "*   Mean Squared Error: 9.596620894200094e+32\n",
        "*   Root Mean Squared Error: 3.097841328118678e+16\n",
        "\n",
        "Set B vs G (Delivered_Wt vs DMI):\n",
        "*   Mean Absolute Error: 4179914473564771.0\n",
        "*   Mean Squared Error: 4.15590193636892e+31\n",
        "*   Root Mean Squared Error: 6446628526888237.0\n",
        "\n",
        "Set C vs G (Dry_Weight vs DMI):\n",
        "*   Mean Absolute Error: 1.984486825238144e+16\n",
        "*   Mean Squared Error: 9.422938156826563e+32\n",
        "*   Root Mean Squared Error: 3.069680464938747e+16\n",
        "\n",
        "Set D vs G (Num_Animals vs DMI):\n",
        "*   Mean Absolute Error: 80520327925.89607\n",
        "*   Mean Squared Error: 9.790559564486484e+21\n",
        "*   Root Mean Squared Error: 98947256477.81491\n",
        "\n",
        "Set E vs G (Price vs DMI):\n",
        "*   Mean Absolute Error: 90925495991551.69\n",
        "*   Mean Squared Error: 3.0026747721416152e+28\n",
        "*   Root Mean Squared Error: 173282277574529.1\n",
        "\n",
        "Set F vs G (Price_Animal vs DMI):\n",
        "*   Mean Absolute Error: 0.21733916964369537\n",
        "*   Mean Squared Error: 0.083478119469686\n",
        "*   Root Mean Squared Error: 0.28892580270665685\n",
        "\n",
        "**Price_Animal is clearly the best predictor,** all others have very high error."
      ]
    }
  ]
}