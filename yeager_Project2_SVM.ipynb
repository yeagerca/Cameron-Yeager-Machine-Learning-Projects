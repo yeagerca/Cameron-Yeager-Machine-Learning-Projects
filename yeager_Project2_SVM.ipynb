{
  "nbformat": 4,
  "nbformat_minor": 0,
  "metadata": {
    "colab": {
      "provenance": [],
      "collapsed_sections": [
        "kyoEl_DixmXl",
        "kUNUoMSwxr2V",
        "OCeKoJcnfaFd",
        "CRSKGcQt86Ba",
        "iK67WbzP7ZXo"
      ],
      "toc_visible": true,
      "authorship_tag": "ABX9TyMhl+SOaOhCRNWTUxXu4smR",
      "include_colab_link": true
    },
    "kernelspec": {
      "name": "python3",
      "display_name": "Python 3"
    },
    "language_info": {
      "name": "python"
    }
  },
  "cells": [
    {
      "cell_type": "markdown",
      "metadata": {
        "id": "view-in-github",
        "colab_type": "text"
      },
      "source": [
        "<a href=\"https://colab.research.google.com/github/yeagerca/Cameron-Yeager-Machine-Learning-Projects/blob/main/yeager_Project2_SVM.ipynb\" target=\"_parent\"><img src=\"https://colab.research.google.com/assets/colab-badge.svg\" alt=\"Open In Colab\"/></a>"
      ]
    },
    {
      "cell_type": "markdown",
      "metadata": {
        "id": "kyoEl_DixmXl"
      },
      "source": [
        "# Imports and Function(s)"
      ]
    },
    {
      "cell_type": "code",
      "metadata": {
        "id": "6LIHQADLyAt_"
      },
      "source": [
        "import numpy as np\n",
        "import pandas as pd\n",
        "import itertools\n",
        "import matplotlib.pyplot as plt\n",
        "\n",
        "from sklearn.model_selection import train_test_split\n",
        "from sklearn.metrics import accuracy_score\n",
        "from sklearn.metrics import confusion_matrix\n",
        "from sklearn import svm\n",
        "\n",
        "def plot_confusion_matrix(cm, classes, normalize=False,\n",
        "                          title='Confusion matrix', cmap=plt.cm.Blues):\n",
        "    if normalize:\n",
        "        cm = cm.astype('float') / cm.sum(axis=1)[:, np.newaxis]\n",
        "\n",
        "    plt.imshow(cm, interpolation='nearest', cmap=cmap)\n",
        "    plt.title(title)\n",
        "    plt.colorbar()\n",
        "    tick_marks = np.arange(len(classes))\n",
        "    plt.xticks(tick_marks, classes, rotation=45)\n",
        "    plt.yticks(tick_marks, classes)\n",
        "\n",
        "    fmt = '.2f' if normalize else 'd'\n",
        "    thresh = cm.max() / 2.\n",
        "    for i, j in itertools.product(range(cm.shape[0]), range(cm.shape[1])):\n",
        "        plt.text(j, i, format(cm[i, j], fmt), horizontalalignment=\"center\",\n",
        "                 color=\"white\" if cm[i, j] > thresh else \"black\")\n",
        "\n",
        "    plt.tight_layout()\n",
        "    plt.ylabel('True label')\n",
        "    plt.xlabel('Predicted label')"
      ],
      "execution_count": 24,
      "outputs": []
    },
    {
      "cell_type": "code",
      "source": [
        "#Suppress FutureWarning. Source: https://stackoverflow.com/a/46721064\n",
        "import warnings\n",
        "warnings.simplefilter(action='ignore', category=FutureWarning)\n",
        "print('x' in np.arange(5))   #returns False, without Warning"
      ],
      "metadata": {
        "colab": {
          "base_uri": "https://localhost:8080/"
        },
        "id": "28LKy5P_yYPx",
        "outputId": "9c2b0d84-f19c-4c06-c48e-01cf27268985"
      },
      "execution_count": 25,
      "outputs": [
        {
          "output_type": "stream",
          "name": "stdout",
          "text": [
            "False\n"
          ]
        }
      ]
    },
    {
      "cell_type": "markdown",
      "metadata": {
        "id": "kUNUoMSwxr2V"
      },
      "source": [
        "# First work-through (cm plot)"
      ]
    },
    {
      "cell_type": "code",
      "metadata": {
        "id": "o9-Rb083jvx-",
        "colab": {
          "base_uri": "https://localhost:8080/"
        },
        "outputId": "b03cdc4b-3844-4c03-a17a-aa61942741c9"
      },
      "source": [
        "data = pd.read_csv('http://nrvis.com/data/mldata/breast-cancer-wisconsin_wdbc.csv')\n",
        "\n",
        "X = data.iloc[:, 2:] #Gather all data from column index 2 and onward.\n",
        "y = data.iloc[:, 1] #Gather data from column index 1.\n",
        "#Skipping column index 0 because it is irrelevent.\n",
        "\n",
        "#labels for confusion matrix later\n",
        "cm_labels = [\"malignant\", \"benign\"]\n",
        "\n",
        "#Where y=='M' (malignant), set to 0, otherwise 1 (benign)\n",
        "y = np.where(y=='M', 0, 1)\n",
        "\n",
        "#Scale the data                                               #Test changes here\n",
        "X = (X - np.mean(X)) / np.std(X) #Standard Normal Distribution (mean 0, std 1)\n",
        "#X = (X - np.min(X)) / (np.max(X) - np.min(X)) #Normalization\n",
        "\n",
        "#Split the data\n",
        "X_train, X_test, y_train, y_test = train_test_split(X, y, test_size=0.2)\n",
        "print(\"X_shape:\", X.shape, \"X_train.shape:\", X_train.shape, \"X_test.shape:\",\n",
        "      X_test.shape, \"\\n\", \"y_train.shape:\", y_train.shape, \"y_test.shape:\",\n",
        "      y_test.shape)"
      ],
      "execution_count": 26,
      "outputs": [
        {
          "output_type": "stream",
          "name": "stdout",
          "text": [
            "X_shape: (569, 30) X_train.shape: (455, 30) X_test.shape: (114, 30) \n",
            " y_train.shape: (455,) y_test.shape: (114,)\n"
          ]
        }
      ]
    },
    {
      "cell_type": "code",
      "metadata": {
        "id": "f6e_BH2Gj3BR",
        "colab": {
          "base_uri": "https://localhost:8080/"
        },
        "outputId": "4b11e603-7670-4675-c92a-fa9cf627a159"
      },
      "source": [
        "#Train the model (Here you should change the hyperparameters)\n",
        "clf = svm.SVC() # Create SVM object                           #Test changes here\n",
        "clf.fit(X_train, y_train) # Train Logistic Regression Classifer\n",
        "print(\"clf:\", clf)\n",
        "\n",
        "#SVC(C=1.0, kernel='rbf', degree=3, gamma='scale', coef0=0.0, shrinking=True,\n",
        "#    probability=False, tol=0.001, cache_size=200, class_weight=None,\n",
        "#    verbose=False, max_iter=-1, decision_function_shape='ovr',\n",
        "#    break_ties=False, random_state=None)"
      ],
      "execution_count": 27,
      "outputs": [
        {
          "output_type": "stream",
          "name": "stdout",
          "text": [
            "clf: SVC()\n"
          ]
        }
      ]
    },
    {
      "cell_type": "code",
      "metadata": {
        "id": "ELdl0xOKj6CV",
        "colab": {
          "base_uri": "https://localhost:8080/",
          "height": 595
        },
        "outputId": "871fb3b3-2ba6-4131-87f8-51e9e9281a8e"
      },
      "source": [
        "#Predict the response for test dataset\n",
        "y_pred = clf.predict(X_test)\n",
        "print(\"y_pred_shape:\", y_pred.shape, \"y_pred:\", y_pred)\n",
        "\n",
        "# Model Accuracy: how often is the classifier correct?\n",
        "print(\"Accuracy:\", accuracy_score(y_test, y_pred))\n",
        "\n",
        "cm = confusion_matrix(y_test, y_pred)\n",
        "plot_confusion_matrix(cm, cm_labels, normalize=False)#normalize=False or =True\n",
        "plt.show()"
      ],
      "execution_count": 28,
      "outputs": [
        {
          "output_type": "stream",
          "name": "stdout",
          "text": [
            "y_pred_shape: (114,) y_pred: [1 0 0 1 0 0 1 1 0 0 0 1 0 0 1 0 1 1 1 1 1 0 1 0 1 0 0 1 0 0 0 1 1 0 0 0 1\n",
            " 1 1 0 1 1 1 0 0 1 0 1 1 1 1 0 1 1 1 1 1 0 0 0 1 0 0 0 1 1 1 1 0 0 1 0 1 1\n",
            " 1 1 0 1 1 1 1 0 0 0 0 1 1 0 1 0 0 0 0 1 1 1 1 0 1 1 1 0 1 1 0 1 1 1 0 1 1\n",
            " 0 1 1]\n",
            "Accuracy: 0.9912280701754386\n"
          ]
        },
        {
          "output_type": "display_data",
          "data": {
            "text/plain": [
              "<Figure size 640x480 with 2 Axes>"
            ],
            "image/png": "[encoded data removed]"
          },
          "metadata": {}
        }
      ]
    },
    {
      "cell_type": "markdown",
      "metadata": {
        "id": "OCeKoJcnfaFd"
      },
      "source": [
        "# Bulk Testing and Modifying (hyperparameter results)"
      ]
    },
    {
      "cell_type": "code",
      "metadata": {
        "id": "e6TWxSYrfZGt"
      },
      "source": [
        "count = 1000 #used for looping and averaging results later\n",
        "\n",
        "data = pd.read_csv('http://nrvis.com/data/mldata/breast-cancer-wisconsin_wdbc.csv')\n",
        "X = data.iloc[:, 2:] #Gather all data from column index 2 and onward.\n",
        "y = data.iloc[:, 1] #Gather data from column index 1.\n",
        "cm_labels = [\"malignant\", \"benign\"]#labels for confusion matrix later\n",
        "y = np.where(y=='M', 0, 1)#Where y=='M' set to 0(malignant), else 1(benign)\n",
        "\n",
        "def doStartSTDNormalDist(X, y):\n",
        "  X = (X - np.mean(X)) / np.std(X) #Standard Normal Distribution (mean 0, std 1)\n",
        "  X_train, X_test, y_train, y_test = train_test_split(X, y, test_size=0.2)#Split\n",
        "  return cm_labels, X_train, X_test, y_train, y_test\n",
        "\n",
        "def doStartNormalized(X, y):\n",
        "  X = (X - np.min(X)) / (np.max(X) - np.min(X)) #Normalization\n",
        "  X_train, X_test, y_train, y_test = train_test_split(X, y, test_size=0.2)#Split\n",
        "  return cm_labels, X_train, X_test, y_train, y_test\n",
        "\n",
        "def doEnd(clf, cm_labels, X_train, X_test, y_train, y_test, a, index):\n",
        "  clf.fit(X_train, y_train)#Train SVM Classifer\n",
        "  y_pred = clf.predict(X_test)#Predict the response for test dataset\n",
        "  a[index] = accuracy_score(y_test, y_pred)\n",
        "  return a  #Model Accuracy: how often is the classifier correct?"
      ],
      "execution_count": 29,
      "outputs": []
    },
    {
      "cell_type": "code",
      "metadata": {
        "id": "2H4ON33_kjU9"
      },
      "source": [
        "def stdData(a, index):\n",
        "  cm_labels, X_train, X_test, y_train, y_test = doStartSTDNormalDist(X, y)\n",
        "  clf = svm.SVC() # Create SVM object\n",
        "  a = doEnd(clf, cm_labels, X_train, X_test, y_train, y_test, a, index)\n",
        "  return a\n",
        "\n",
        "def normalizedData(a, index):\n",
        "  cm_labels, X_train, X_test, y_train, y_test = doStartNormalized(X, y)\n",
        "  clf = svm.SVC() # Create SVM object\n",
        "  a = doEnd(clf, cm_labels, X_train, X_test, y_train, y_test, a, index)\n",
        "  return a"
      ],
      "execution_count": 30,
      "outputs": []
    },
    {
      "cell_type": "code",
      "metadata": {
        "id": "kdY-Hjxikwvh",
        "colab": {
          "base_uri": "https://localhost:8080/"
        },
        "outputId": "5cf9750c-394f-4f0f-a327-c04f2405f895"
      },
      "source": [
        "index = 0\n",
        "a = [0] * count\n",
        "while (count > index):\n",
        "  a = stdData(a, index)\n",
        "  index += 1\n",
        "print(\"STD Normal Dist:\", np.mean(a))\n",
        "\n",
        "index = 0\n",
        "a = [0] * count\n",
        "while (count > index):\n",
        "  a = normalizedData(a, index)\n",
        "  index += 1\n",
        "print(\"Normalized:\", np.mean(a))\n",
        "\n",
        "#STD Normal Dist: 0.9745701754385964, 0.975, 0.975\n",
        "#Normalized: 0.9768070175438595, 0.9756929824561402, 0.9766666666666665\n",
        "#Over 3 runs of 1000 averaged samples...\n",
        "#Normalized data is slightly more accurate when using the default regressor."
      ],
      "execution_count": 31,
      "outputs": [
        {
          "output_type": "stream",
          "name": "stdout",
          "text": [
            "STD Normal Dist: 0.9742456140350877\n",
            "Normalized: 0.9774649122807016\n"
          ]
        }
      ]
    },
    {
      "cell_type": "code",
      "metadata": {
        "id": "xxtH5B15yyG6"
      },
      "source": [
        "def doNormalizedDataWithKernel(a, index, kernelType):\n",
        "  cm_labels, X_train, X_test, y_train, y_test = doStartNormalized(X, y)\n",
        "  clf = svm.SVC(kernel=kernelType) # Create SVM object\n",
        "  a = doEnd(clf, cm_labels, X_train, X_test, y_train, y_test, a, index)\n",
        "  return a"
      ],
      "execution_count": 32,
      "outputs": []
    },
    {
      "cell_type": "code",
      "metadata": {
        "id": "lQ81hCHe0orW",
        "colab": {
          "base_uri": "https://localhost:8080/"
        },
        "outputId": "a02649e1-aff8-4ec3-c5cf-ac96356d4875"
      },
      "source": [
        "index = 0\n",
        "a = [0] * count\n",
        "kernelType = 'linear'\n",
        "while (count > index):\n",
        "  a = doNormalizedDataWithKernel(a, index, kernelType)\n",
        "  index += 1\n",
        "print(\"Normalized Linear:\", np.mean(a))\n",
        "\n",
        "index = 0\n",
        "a = [0] * count\n",
        "kernelType = 'poly'\n",
        "while (count > index):\n",
        "  a = doNormalizedDataWithKernel(a, index, kernelType)\n",
        "  index += 1\n",
        "print(\"Normalized Polynomial:\", np.mean(a))\n",
        "\n",
        "index = 0\n",
        "a = [0] * count\n",
        "kernelType = 'rbf'\n",
        "while (count > index):\n",
        "  a = doNormalizedDataWithKernel(a, index, kernelType)\n",
        "  index += 1\n",
        "print(\"Normalized Radial Basis Function:\", np.mean(a))\n",
        "\n",
        "index = 0\n",
        "a = [0] * count\n",
        "kernelType = 'sigmoid'\n",
        "while (count > index):\n",
        "  a = doNormalizedDataWithKernel(a, index, kernelType)\n",
        "  index += 1\n",
        "print(\"Normalized Sigmoid:\", np.mean(a))\n",
        "\n",
        "#Normalized Linear: 0.9745087719298245, 0.9754824561403508, 0.9755175438596491\n",
        "#Normalized Polynomial: 0.972219298245614, 0.972780701754386, 0.9724122807017543\n",
        "#Normalized Radial Basis Function: 0.9772017543859648, 0.9765263157894736, 0.9763070175438595\n",
        "#Normalized Sigmoid: 0.3003157894736842, 0.2992456140350877, 0.3009473684210526\n",
        "#Over 3 runs of 1000 averaged samples...\n",
        "#RBF is consistantly the most accurate with Linear and Polynomial close behind.\n",
        "#The Sigmoid kernel is quite inaccurate."
      ],
      "execution_count": 33,
      "outputs": [
        {
          "output_type": "stream",
          "name": "stdout",
          "text": [
            "Normalized Linear: 0.9748859649122805\n",
            "Normalized Polynomial: 0.9728859649122806\n",
            "Normalized Radial Basis Function: 0.9762192982456139\n",
            "Normalized Sigmoid: 0.30090350877192984\n"
          ]
        }
      ]
    },
    {
      "cell_type": "code",
      "metadata": {
        "id": "dUgVKtR44T0j"
      },
      "source": [
        "def doNormalizedDataRBFWithC(a, index, kernelType, c):\n",
        "  cm_labels, X_train, X_test, y_train, y_test = doStartNormalized(X, y)\n",
        "  clf = svm.SVC(C=c, kernel=kernelType) # Create SVM object\n",
        "  a = doEnd(clf, cm_labels, X_train, X_test, y_train, y_test, a, index)\n",
        "  return a"
      ],
      "execution_count": 34,
      "outputs": []
    },
    {
      "cell_type": "code",
      "metadata": {
        "id": "rDX0tAI25b33",
        "colab": {
          "base_uri": "https://localhost:8080/"
        },
        "outputId": "580955dd-0ace-457f-ff7f-7274343d5c2b"
      },
      "source": [
        "kernelType = 'rbf'\n",
        "\n",
        "index = 0\n",
        "a = [0] * count\n",
        "c = 0.0001\n",
        "while (count > index):\n",
        "  a = doNormalizedDataRBFWithC(a, index, kernelType, c)\n",
        "  index += 1\n",
        "print(\"Normalized RBF C=0.0001:\", np.mean(a))\n",
        "\n",
        "index = 0\n",
        "a = [0] * count\n",
        "c = 0.001\n",
        "while (count > index):\n",
        "  a = doNormalizedDataRBFWithC(a, index, kernelType, c)\n",
        "  index += 1\n",
        "print(\"Normalized RBF C=0.001:\", np.mean(a))\n",
        "\n",
        "index = 0\n",
        "a = [0] * count\n",
        "c = 0.01\n",
        "while (count > index):\n",
        "  a = doNormalizedDataRBFWithC(a, index, kernelType, c)\n",
        "  index += 1\n",
        "print(\"Normalized RBF C=0.01:\", np.mean(a))\n",
        "\n",
        "index = 0\n",
        "a = [0] * count\n",
        "c = 0.1\n",
        "while (count > index):\n",
        "  a = doNormalizedDataRBFWithC(a, index, kernelType, c)\n",
        "  index += 1\n",
        "print(\"Normalized RBF C=0.1:\", np.mean(a))\n",
        "\n",
        "index = 0\n",
        "a = [0] * count\n",
        "c = 1\n",
        "while (count > index):\n",
        "  a = doNormalizedDataRBFWithC(a, index, kernelType, c)\n",
        "  index += 1\n",
        "print(\"Normalized RBF C=1:\", np.mean(a))\n",
        "\n",
        "index = 0\n",
        "a = [0] * count\n",
        "c = 10\n",
        "while (count > index):\n",
        "  a = doNormalizedDataRBFWithC(a, index, kernelType, c)\n",
        "  index += 1\n",
        "print(\"Normalized RBF C=10:\", np.mean(a))\n",
        "\n",
        "index = 0\n",
        "a = [0] * count\n",
        "c = 100\n",
        "while (count > index):\n",
        "  a = doNormalizedDataRBFWithC(a, index, kernelType, c)\n",
        "  index += 1\n",
        "print(\"Normalized RBF C=100:\", np.mean(a))\n",
        "\n",
        "#Normalized RBF C=0.0001: 0.629, 0.6261491228070175, 0.6282543859649122\n",
        "#Normalized RBF C=0.001: 0.6266315789473683, 0.6262543859649123, 0.625561403508772\n",
        "#Normalized RBF C=0.01: 0.6982719298245614, 0.6988070175438598, 0.6953947368421052\n",
        "#Normalized RBF C=0.1: 0.9517192982456141, 0.9510438596491229, 0.9508596491228073\n",
        "#Normalized RBF C=1: 0.9769385964912279, 0.9764736842105263, 0.9768947368421051\n",
        "#Normalized RBF C=10: 0.9762017543859648, 0.9772192982456139, 0.9780701754385964\n",
        "#Normalized RBF C=100: 0.9620614035087719, 0.9619035087719299, 0.962078947368421\n",
        "#Over 3 runs of 1000 averaged samples...\n",
        "#C=1 and C=10 provided the best accuracy, C=10 slightly moreso."
      ],
      "execution_count": 35,
      "outputs": [
        {
          "output_type": "stream",
          "name": "stdout",
          "text": [
            "Normalized RBF C=0.0001: 0.6263508771929824\n",
            "Normalized RBF C=0.001: 0.6284649122807018\n",
            "Normalized RBF C=0.01: 0.6952807017543859\n",
            "Normalized RBF C=0.1: 0.9500701754385966\n",
            "Normalized RBF C=1: 0.9774561403508771\n",
            "Normalized RBF C=10: 0.9770438596491227\n",
            "Normalized RBF C=100: 0.9621491228070177\n"
          ]
        }
      ]
    },
    {
      "cell_type": "markdown",
      "metadata": {
        "id": "CRSKGcQt86Ba"
      },
      "source": [
        "# Hyperparameter Results condensed"
      ]
    },
    {
      "cell_type": "code",
      "metadata": {
        "id": "H_i8x11_8_Hl"
      },
      "source": [
        "#STD Normal Dist: 0.9745701754385964, 0.975, 0.975\n",
        "#Normalized: 0.9768070175438595, 0.9756929824561402, 0.9766666666666665\n",
        "#Over 3 runs of 1000 averaged samples...\n",
        "#Normalized data is slightly more accurate when using the default regressor.\n",
        "\n",
        "#Normalized Linear: 0.9745087719298245, 0.9754824561403508, 0.9755175438596491\n",
        "#Normalized Polynomial: 0.972219298245614, 0.972780701754386, 0.9724122807017543\n",
        "#Normalized Radial Basis Function: 0.9772017543859648, 0.9765263157894736, 0.9763070175438595\n",
        "#Normalized Sigmoid: 0.3003157894736842, 0.2992456140350877, 0.3009473684210526\n",
        "#Over 3 runs of 1000 averaged samples...\n",
        "#RBF is consistantly the most accurate with Linear and Polynomial close behind.\n",
        "#The Sigmoid kernel is quite inaccurate.\n",
        "\n",
        "#Normalized RBF C=0.0001: 0.629, 0.6261491228070175, 0.6282543859649122\n",
        "#Normalized RBF C=0.001: 0.6266315789473683, 0.6262543859649123, 0.625561403508772\n",
        "#Normalized RBF C=0.01: 0.6982719298245614, 0.6988070175438598, 0.6953947368421052\n",
        "#Normalized RBF C=0.1: 0.9517192982456141, 0.9510438596491229, 0.9508596491228073\n",
        "#Normalized RBF C=1: 0.9769385964912279, 0.9764736842105263, 0.9768947368421051\n",
        "#Normalized RBF C=10: 0.9762017543859648, 0.9772192982456139, 0.9780701754385964\n",
        "#Normalized RBF C=100: 0.9620614035087719, 0.9619035087719299, 0.962078947368421\n",
        "#Over 3 runs of 1000 averaged samples...\n",
        "#C=1 and C=10 provided the best accuracy, C=10 slightly moreso."
      ],
      "execution_count": 36,
      "outputs": []
    },
    {
      "cell_type": "markdown",
      "metadata": {
        "id": "iK67WbzP7ZXo"
      },
      "source": [
        "# Notes and scrapped code, ignore"
      ]
    },
    {
      "cell_type": "code",
      "metadata": {
        "id": "E2PpKT5LkrR_",
        "colab": {
          "base_uri": "https://localhost:8080/",
          "height": 53
        },
        "outputId": "ca1601c4-1838-4594-d302-bebb7a151b97"
      },
      "source": [
        "\"\"\"\n",
        "a) Try out different scaling methods and write its impact on the accuracy: \n",
        "Normalization and Normal distribution scaling.\n",
        "b) With the best scaling, try out different SVM kernels: linear, poly \n",
        "(polynomial), rbf (radial basis function), and sigmoid.\n",
        "c) With the best fit kernel, change the value of C in the cases to get the \n",
        "best result (start from 0.0001 and go until 100 in a step of 10x).\"\"\"\n",
        "\n",
        "#svm.l1_min_c(X, y, loss='squared_hinge', fit_intercept=True,\n",
        "#             intercept_scaling=1.0)\n",
        "\n",
        "#svm.LinearSVC(penalty='l2', loss='squared_hinge', dual=True, tol=0.0001, C=1.0,\n",
        "#              multi_class='ovr', fit_intercept=True, intercept_scaling=1,\n",
        "#              class_weight=None, verbose=0, random_state=None, max_iter=1000)\n",
        "\n",
        "#svm.LinearSVR(epsilon=0.0, tol=0.0001, C=1.0, loss='epsilon_insensitive',\n",
        "#              fit_intercept=True, intercept_scaling=1.0, dual=True, verbose=0,\n",
        "#              random_state=None, max_iter=1000)\n",
        "\n",
        "#svm.NuSVC(nu=0.5, kernel='rbf', degree=3, gamma='scale', coef0=0.0,\n",
        "#          shrinking=True, probability=False, tol=0.001, cache_size=200,\n",
        "#          class_weight=None, verbose=False, max_iter=-1,\n",
        "#          decision_function_shape='ovr', break_ties=False, random_state=None)\n",
        "\n",
        "#svm.NuSVR(nu=0.5, C=1.0, kernel='rbf', degree=3, gamma='scale', coef0=0.0,\n",
        "#          shrinking=True, tol=0.001, cache_size=200, verbose=False, max_iter=-1)\n",
        "\n",
        "#svm.OneClassSVM(kernel='rbf', degree=3, gamma='scale', coef0=0.0, tol=0.001,\n",
        "#                nu=0.5, shrinking=True, cache_size=200, verbose=False,\n",
        "#                max_iter=-1)\n",
        "\n",
        "#svm.SVC(C=1.0, kernel='rbf', degree=3, gamma='scale', coef0=0.0, shrinking=True,\n",
        "#        probability=False, tol=0.001, cache_size=200, class_weight=None,\n",
        "#        verbose=False, max_iter=-1, decision_function_shape='ovr',\n",
        "#        break_ties=False, random_state=None)\n",
        "\"\"\"For large datasets consider using sklearn.svm.LinearSVC or \n",
        "sklearn.linear_model.SGDClassifier instead, possibly after a\n",
        "sklearn.kernel_approximation.Nystroem transformer.\"\"\"\n",
        "\n",
        "#svm.SVR(kernel='rbf', degree=3, gamma='scale', coef0=0.0, tol=0.001, C=1.0,\n",
        "#        epsilon=0.1, shrinking=True, cache_size=200, verbose=False, max_iter=-1)\n",
        "\"\"\"For large datasets consider using sklearn.svm.LinearSVR or\n",
        "sklearn.linear_model.SGDRegressor instead, possibly after a\n",
        "sklearn.kernel_approximation.Nystroem transformer.\"\"\"\n",
        "\n",
        "#from sklearn import svm\n",
        "#from sklearn.linear_model import SGDClassifier\n",
        "#from sklearn.linear_model import SGDRegressor\n",
        "#from sklearn.linear_model.SGDClassifier\n",
        "#from sklearn.linear_model.SGDRegressor\n",
        "#from sklearn.kernel_approximation\n",
        "\n",
        "#svm.SVC                                        #This is the one I want to use\n",
        "\"\"\"\n",
        "kernel : string, optional (default='rbf')\n",
        "  Specifies the kernel type to be used in the algorithm.\n",
        "It must be one of 'linear', 'poly', 'rbf', 'sigmoid', 'precomputed' or\n",
        "a callable.\n",
        "If none is given, 'rbf' will be used. If a callable is given it is\n",
        "used to pre-compute the kernel matrix from data matrices; that matrix\n",
        "should be an array of shape (n_samples, n_samples).\"\"\"\n",
        "\"\"\"\n",
        "C : float, optional (default=1.0)\n",
        "    Regularization parameter. The strength of the regularization is\n",
        "inversely proportional to C. Must be strictly positive. The penalty\n",
        "is a squared l2 penalty.\"\"\"\n",
        "\n",
        "#SGDClassifier(loss='hinge', penalty='l2', alpha=0.0001,\n",
        "#              l1_ratio=0.15, fit_intercept=True, max_iter=1000, tol=0.001,\n",
        "#              shuffle=True, verbose=0, epsilon=DEFAULT_EPSILON, n_jobs=None,\n",
        "#              random_state=None, learning_rate='optimal', eta0=0.0, power_t=0.5,\n",
        "#              early_stopping=False, validation_fraction=0.1, n_iter_no_change=5,\n",
        "#              class_weight=None, warm_start=False, average=False)\n",
        "#SGDRegressor(loss='squared_loss', penalty='l2', alpha=0.0001, l1_ratio=0.15,\n",
        "#             fit_intercept=True, max_iter=1000, tol=0.001, shuffle=True,\n",
        "#             verbose=0, epsilon=DEFAULT_EPSILON, random_state=None,\n",
        "#             learning_rate='invscaling', eta0=0.01, power_t=0.25,\n",
        "#             early_stopping=False, validation_fraction=0.1, n_iter_no_change=5,\n",
        "#             warm_start=False, average=False)"
      ],
      "execution_count": 37,
      "outputs": [
        {
          "output_type": "execute_result",
          "data": {
            "text/plain": [
              "'\\nC : float, optional (default=1.0)\\n    Regularization parameter. The strength of the regularization is\\ninversely proportional to C. Must be strictly positive. The penalty\\nis a squared l2 penalty.'"
            ],
            "application/vnd.google.colaboratory.intrinsic+json": {
              "type": "string"
            }
          },
          "metadata": {},
          "execution_count": 37
        }
      ]
    },
    {
      "cell_type": "code",
      "metadata": {
        "id": "PEjTW1L1rcwW"
      },
      "source": [
        "#def doEndNormalizeTrue(clf, cm_labels, X_train, X_test, y_train, y_test, a, index):\n",
        "#  clf.fit(X_train, y_train)#Train Logistic Regression Classifer\n",
        "#  y_pred = clf.predict(X_test)#Predict the response for test dataset\n",
        "#  #Model Accuracy: how often is the classifier correct?\n",
        "#  a[index] = accuracy_score(y_test, y_pred)\n",
        "#  return a\n",
        "#  print(\"Accuracy:\", accuracy_score(y_test, y_pred))\n",
        "#  cm = confusion_matrix(y_test, y_pred)\n",
        "#  plot_confusion_matrix(cm, cm_labels, normalize=True)#normalize=False or =True\n",
        "#  plt.show()\n",
        "#def stdTrue(a, index):\n",
        "#  cm_labels, X_train, X_test, y_train, y_test = doStartSTDNormalDist(X, y)\n",
        "#  clf = svm.SVC() # Create Logistic Regression object\n",
        "#  a = doEndNormalizeTrue(clf, cm_labels, X_train, X_test, y_train, y_test, a, index)\n",
        "#  return a\n",
        "#index = 0\n",
        "#a = [0] * count\n",
        "#while (count > index):\n",
        "#  a = stdTrue(a, index)\n",
        "#  index += 1\n",
        "#print(\"STD Normal Dist:\", np.mean(a))"
      ],
      "execution_count": 38,
      "outputs": []
    }
  ]
}