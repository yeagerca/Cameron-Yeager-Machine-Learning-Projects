{
  "nbformat": 4,
  "nbformat_minor": 0,
  "metadata": {
    "colab": {
      "provenance": [],
      "collapsed_sections": [
        "yRYM3yV89-oB",
        "i-qAeVsp9_nU",
        "xJRX7KCA-NYm",
        "2EQQ3EBmGmRw"
      ],
      "authorship_tag": "ABX9TyPtq+qa3TSDjGooV1Yv71uW",
      "include_colab_link": true
    },
    "kernelspec": {
      "name": "python3",
      "display_name": "Python 3"
    },
    "language_info": {
      "name": "python"
    }
  },
  "cells": [
    {
      "cell_type": "markdown",
      "metadata": {
        "id": "view-in-github",
        "colab_type": "text"
      },
      "source": [
        "<a href=\"https://colab.research.google.com/github/yeagerca/Cameron-Yeager-Machine-Learning-Projects/blob/main/yeager_Project2_Logistic.ipynb\" target=\"_parent\"><img src=\"https://colab.research.google.com/assets/colab-badge.svg\" alt=\"Open In Colab\"/></a>"
      ]
    },
    {
      "cell_type": "markdown",
      "metadata": {
        "id": "yRYM3yV89-oB"
      },
      "source": [
        "# Imports and Function(s)"
      ]
    },
    {
      "cell_type": "code",
      "metadata": {
        "id": "3FAg5Vh57mWi"
      },
      "source": [
        "import numpy as np\n",
        "import pandas as pd\n",
        "import itertools\n",
        "import matplotlib.pyplot as plt\n",
        "\n",
        "from sklearn.model_selection import train_test_split\n",
        "from sklearn.linear_model import LogisticRegression\n",
        "from sklearn.metrics import accuracy_score\n",
        "from sklearn.metrics import confusion_matrix\n",
        "\n",
        "def plot_confusion_matrix(cm, classes, normalize=False,\n",
        "                          title='Confusion matrix', cmap=plt.cm.Blues):\n",
        "    if normalize:\n",
        "        cm = cm.astype('float') / cm.sum(axis=1)[:, np.newaxis]\n",
        "\n",
        "    plt.imshow(cm, interpolation='nearest', cmap=cmap)\n",
        "    plt.title(title)\n",
        "    plt.colorbar()\n",
        "    tick_marks = np.arange(len(classes))\n",
        "    plt.xticks(tick_marks, classes, rotation=45)\n",
        "    plt.yticks(tick_marks, classes)\n",
        "\n",
        "    fmt = '.2f' if normalize else 'd'\n",
        "    thresh = cm.max() / 2.\n",
        "    for i, j in itertools.product(range(cm.shape[0]), range(cm.shape[1])):\n",
        "        plt.text(j, i, format(cm[i, j], fmt), horizontalalignment=\"center\",\n",
        "                 color=\"white\" if cm[i, j] > thresh else \"black\")\n",
        "\n",
        "    plt.tight_layout()\n",
        "    plt.ylabel('True label')\n",
        "    plt.xlabel('Predicted label')"
      ],
      "execution_count": 11,
      "outputs": []
    },
    {
      "cell_type": "code",
      "source": [
        "#Suppress FutureWarning. Source: https://stackoverflow.com/a/46721064\n",
        "import warnings\n",
        "warnings.simplefilter(action='ignore', category=FutureWarning)\n",
        "print('x' in np.arange(5))   #returns False, without Warning"
      ],
      "metadata": {
        "colab": {
          "base_uri": "https://localhost:8080/"
        },
        "id": "kvcd32_jxQcn",
        "outputId": "c5dedf41-bece-4e27-9fb9-7dac9deef32e"
      },
      "execution_count": 12,
      "outputs": [
        {
          "output_type": "stream",
          "name": "stdout",
          "text": [
            "False\n"
          ]
        }
      ]
    },
    {
      "cell_type": "markdown",
      "metadata": {
        "id": "i-qAeVsp9_nU"
      },
      "source": [
        "# First work-through (cm plot)"
      ]
    },
    {
      "cell_type": "code",
      "metadata": {
        "id": "L5r_Xq9zw_QC",
        "colab": {
          "base_uri": "https://localhost:8080/",
          "height": 631
        },
        "outputId": "dd4b433c-90da-496b-d394-ce7121605df6"
      },
      "source": [
        "data = pd.read_csv('http://nrvis.com/data/mldata/breast-cancer-wisconsin_wdbc.csv')\n",
        "\n",
        "X = data.iloc[:, 2:] #Gather all data from column index 2 and onward.\n",
        "y = data.iloc[:, 1] #Gather data from column index 1.\n",
        "#Skipping column index 0 because it is irrelevent.\n",
        "\n",
        "#labels for confusion matrix later\n",
        "cm_labels = [\"malignant\", \"benign\"]\n",
        "\n",
        "#Where y=='M' (malignant), set to 0, otherwise 1 (benign)\n",
        "y = np.where(y=='M', 0, 1)\n",
        "\n",
        "#Scale the data                                               #Test changes here\n",
        "X = (X - np.mean(X)) / np.std(X) #Standard Normal Distribution (mean 0, std 1)\n",
        "#X = (X - np.min(X)) / (np.max(X) - np.min(X)) #Normalization\n",
        "\n",
        "#Split the data\n",
        "X_train, X_test, y_train, y_test = train_test_split(X, y, test_size=0.2)\n",
        "print(\"X_shape:\", X.shape, \"X_train.shape:\", X_train.shape, \"X_test.shape:\",\n",
        "      X_test.shape, \"y_train.shape:\", y_train.shape, \"y_test.shape:\",\n",
        "      y_test.shape)\n",
        "\n",
        "#Train the model (Here you should change the hyperparameters)\n",
        "clf = LogisticRegression() # Create Logistic Regression object\n",
        "clf.fit(X_train, y_train) # Train Logistic Regression Classifer\n",
        "print(\"clf:\", clf)\n",
        "\n",
        "#Predict the response for test dataset\n",
        "y_pred = clf.predict(X_test)\n",
        "print(\"y_pred_shape:\", y_pred.shape, \"y_pred:\", y_pred)\n",
        "\n",
        "# Model Accuracy: how often is the classifier correct?\n",
        "print(\"Accuracy:\", accuracy_score(y_test, y_pred))\n",
        "\n",
        "cm = confusion_matrix(y_test, y_pred)                         #Test changes here\n",
        "plot_confusion_matrix(cm, cm_labels) #normalize=False, normalize=True\n",
        "plt.show()"
      ],
      "execution_count": 13,
      "outputs": [
        {
          "output_type": "stream",
          "name": "stdout",
          "text": [
            "X_shape: (569, 30) X_train.shape: (455, 30) X_test.shape: (114, 30) y_train.shape: (455,) y_test.shape: (114,)\n",
            "clf: LogisticRegression()\n",
            "y_pred_shape: (114,) y_pred: [1 1 1 1 0 0 0 1 1 1 0 1 0 0 0 1 0 0 1 1 1 0 1 0 1 1 1 1 1 0 0 1 1 1 1 0 0\n",
            " 0 0 1 1 0 1 1 1 1 1 0 1 0 1 1 1 0 1 1 1 0 0 0 1 0 0 1 0 1 1 0 1 0 1 1 0 1\n",
            " 1 1 1 1 1 1 1 0 1 0 0 0 1 1 1 0 1 1 1 1 1 0 1 0 0 1 0 1 1 0 0 1 1 1 1 1 1\n",
            " 1 0 1]\n",
            "Accuracy: 0.9649122807017544\n"
          ]
        },
        {
          "output_type": "display_data",
          "data": {
            "text/plain": [
              "<Figure size 640x480 with 2 Axes>"
            ],
            "image/png": "[encoded data removed]"
          },
          "metadata": {}
        }
      ]
    },
    {
      "cell_type": "markdown",
      "metadata": {
        "id": "xJRX7KCA-NYm"
      },
      "source": [
        "# Bulk Testing and Modifying (hyperparameter results)"
      ]
    },
    {
      "cell_type": "code",
      "metadata": {
        "id": "6CK-L5lK-Ql0"
      },
      "source": [
        "count = 1000 #used for looping and averaging results later\n",
        "\n",
        "data = pd.read_csv('http://nrvis.com/data/mldata/breast-cancer-wisconsin_wdbc.csv')\n",
        "X = data.iloc[:, 2:] #Gather all data from column index 2 and onward.\n",
        "y = data.iloc[:, 1] #Gather data from column index 1.\n",
        "cm_labels = [\"malignant\", \"benign\"]#labels for confusion matrix later\n",
        "y = np.where(y=='M', 0, 1)#Where y=='M' set to 0(malignant), else 1(benign)\n",
        "\n",
        "def doStartSTDNormalDist(X, y):\n",
        "  X = (X - np.mean(X)) / np.std(X) #Standard Normal Distribution (mean 0, std 1)\n",
        "  X_train, X_test, y_train, y_test = train_test_split(X, y, test_size=0.2)#Split\n",
        "  return cm_labels, X_train, X_test, y_train, y_test\n",
        "\n",
        "def doStartNormalized(X, y):\n",
        "  X = (X - np.min(X)) / (np.max(X) - np.min(X)) #Normalization\n",
        "  X_train, X_test, y_train, y_test = train_test_split(X, y, test_size=0.2)#Split\n",
        "  return cm_labels, X_train, X_test, y_train, y_test\n",
        "\n",
        "def doEnd(clf, cm_labels, X_train, X_test, y_train, y_test, a, index):\n",
        "  clf.fit(X_train, y_train)#Train Logistic Regression Classifer\n",
        "  y_pred = clf.predict(X_test)#Predict the response for test dataset\n",
        "  a[index] = accuracy_score(y_test, y_pred)\n",
        "  return a  #Model Accuracy: how often is the classifier correct?"
      ],
      "execution_count": 14,
      "outputs": []
    },
    {
      "cell_type": "code",
      "metadata": {
        "id": "1ml0GaW1-fal"
      },
      "source": [
        "def stdData(a, index):\n",
        "  cm_labels, X_train, X_test, y_train, y_test = doStartSTDNormalDist(X, y)\n",
        "  clf = LogisticRegression() # Create Logistic Regression object\n",
        "  a = doEnd(clf, cm_labels, X_train, X_test, y_train, y_test, a, index)\n",
        "  return a\n",
        "\n",
        "def normalizedData(a, index):\n",
        "  cm_labels, X_train, X_test, y_train, y_test = doStartNormalized(X, y)\n",
        "  clf = LogisticRegression() # Create Logistic Regression object\n",
        "  a = doEnd(clf, cm_labels, X_train, X_test, y_train, y_test, a, index)\n",
        "  return a"
      ],
      "execution_count": 15,
      "outputs": []
    },
    {
      "cell_type": "code",
      "metadata": {
        "id": "F7AyXMIi_T0f",
        "colab": {
          "base_uri": "https://localhost:8080/"
        },
        "outputId": "71bdacf2-198d-4eb6-c9de-37c0e01b3ed0"
      },
      "source": [
        "index = 0\n",
        "a = [0] * count\n",
        "while (count > index):\n",
        "  a = stdData(a, index)\n",
        "  index += 1\n",
        "print(\"STD Normal Dist:\", np.mean(a))\n",
        "\n",
        "index = 0\n",
        "a = [0] * count\n",
        "while (count > index):\n",
        "  a = normalizedData(a, index)\n",
        "  index += 1\n",
        "print(\"Normalized:\", np.mean(a))\n",
        "\n",
        "#STD Normal Dist: 0.9777631578947368, 0.977640350877193, 0.9770438596491227\n",
        "#Normalized: 0.9655438596491228, 0.9657631578947369, 0.9644385964912281\n",
        "#Over 3 runs of 1000 averaged samples...\n",
        "#Standard Normal Distributed data is slightly more accurate when using the default settings."
      ],
      "execution_count": 16,
      "outputs": [
        {
          "output_type": "stream",
          "name": "stdout",
          "text": [
            "STD Normal Dist: 0.9776052631578946\n",
            "Normalized: 0.9652543859649122\n"
          ]
        }
      ]
    },
    {
      "cell_type": "code",
      "metadata": {
        "id": "4NKTItxmBDXR"
      },
      "source": [
        "def doSTDDataWithC(a, index, c):\n",
        "  cm_labels, X_train, X_test, y_train, y_test = doStartNormalized(X, y)\n",
        "  clf = LogisticRegression(C=c) # Create Logistic Regression object\n",
        "  a = doEnd(clf, cm_labels, X_train, X_test, y_train, y_test, a, index)\n",
        "  return a"
      ],
      "execution_count": 17,
      "outputs": []
    },
    {
      "cell_type": "code",
      "metadata": {
        "id": "CcYbKPyIBrmH",
        "colab": {
          "base_uri": "https://localhost:8080/"
        },
        "outputId": "20a2c837-0979-46a3-ea58-e608ca6aa39e"
      },
      "source": [
        "index = 0\n",
        "a = [0] * count\n",
        "c = 0.0001\n",
        "while (count > index):\n",
        "  a = doSTDDataWithC(a, index, c)\n",
        "  index += 1\n",
        "print(\"STD Logistic Regression C=0.0001:\", np.mean(a))\n",
        "\n",
        "index = 0\n",
        "a = [0] * count\n",
        "c = 0.001\n",
        "while (count > index):\n",
        "  a = doSTDDataWithC(a, index, c)\n",
        "  index += 1\n",
        "print(\"STD Logistic Regression C=0.001:\", np.mean(a))\n",
        "\n",
        "index = 0\n",
        "a = [0] * count\n",
        "c = 0.01\n",
        "while (count > index):\n",
        "  a = doSTDDataWithC(a, index, c)\n",
        "  index += 1\n",
        "print(\"STD Logistic Regression C=0.01:\", np.mean(a))\n",
        "\n",
        "index = 0\n",
        "a = [0] * count\n",
        "c = 0.1\n",
        "while (count > index):\n",
        "  a = doSTDDataWithC(a, index, c)\n",
        "  index += 1\n",
        "print(\"STD Logistic Regression C=0.1:\", np.mean(a))\n",
        "\n",
        "index = 0\n",
        "a = [0] * count\n",
        "c = 1\n",
        "while (count > index):\n",
        "  a = doSTDDataWithC(a, index, c)\n",
        "  index += 1\n",
        "print(\"STD Logistic Regression C=1:\", np.mean(a))\n",
        "\n",
        "index = 0\n",
        "a = [0] * count\n",
        "c = 10\n",
        "while (count > index):\n",
        "  a = doSTDDataWithC(a, index, c)\n",
        "  index += 1\n",
        "print(\"STD Logistic Regression C=10:\", np.mean(a))\n",
        "\n",
        "#C=100 repeatedly failed to converge, so I stopped testing it.\n",
        "#/usr/local/lib/python3.7/dist-packages/sklearn/linear_model/_logistic.py:940: ConvergenceWarning: lbfgs failed to converge (status=1):\n",
        "#STOP: TOTAL NO. of ITERATIONS REACHED LIMIT.\n",
        "#\n",
        "#Increase the number of iterations (max_iter) or scale the data as shown in:\n",
        "#    https://scikit-learn.org/stable/modules/preprocessing.html\n",
        "#Please also refer to the documentation for alternative solver options:\n",
        "#    https://scikit-learn.org/stable/modules/linear_model.html#logistic-regression\n",
        "#  extra_warning_msg=_LOGISTIC_SOLVER_CONVERGENCE_MSG)\n",
        "\n",
        "#index = 0\n",
        "#a = [0] * count\n",
        "#c = 100\n",
        "#while (count > index):\n",
        "#  a = doSTDDataWithC(a, index, c)\n",
        "#  index += 1\n",
        "#print(\"STD Logistic Regression C=100:\", np.mean(a))\n",
        "\n",
        "\n",
        "#STD Logistic C=0.0001: 0.6271842105263158, 0.6280526315789474, 0.6256228070175439\n",
        "#STD Logistic C=0.001: 0.6271052631578947, 0.6262543859649123, 0.6300263157894738\n",
        "#STD Logistic C=0.01: 0.7704824561403509, 0.7696578947368421, 0.7681929824561403\n",
        "#STD Logistic C=0.1: 0.9358947368421052, 0.9373421052631579, 0.9372280701754387\n",
        "#STD Logistic C=1: 0.9651666666666666, 0.9662894736842105, 0.9661491228070177\n",
        "#STD Logistic C=10: 0.9764210526315787, 0.9757982456140349, 0.9760175438596491\n",
        "#STD Logistic C=100: Often failed to converge, results thrown out.\n",
        "#Over 3 runs of 1000 averaged samples...\n",
        "#C=10 consistantly provided the best accuracy."
      ],
      "execution_count": 18,
      "outputs": [
        {
          "output_type": "stream",
          "name": "stdout",
          "text": [
            "STD Logistic Regression C=0.0001: 0.6259473684210527\n",
            "STD Logistic Regression C=0.001: 0.6264912280701753\n",
            "STD Logistic Regression C=0.01: 0.7679473684210526\n",
            "STD Logistic Regression C=0.1: 0.9365701754385964\n",
            "STD Logistic Regression C=1: 0.965719298245614\n",
            "STD Logistic Regression C=10: 0.9759298245614034\n"
          ]
        }
      ]
    },
    {
      "cell_type": "markdown",
      "metadata": {
        "id": "2EQQ3EBmGmRw"
      },
      "source": [
        "# Hyperparameter Results condensed"
      ]
    },
    {
      "cell_type": "code",
      "metadata": {
        "id": "8GETC2A1GtXt"
      },
      "source": [
        "#STD Normal Dist: 0.9777631578947368, 0.977640350877193, 0.9770438596491227\n",
        "#Normalized: 0.9655438596491228, 0.9657631578947369, 0.9644385964912281\n",
        "#Over 3 runs of 1000 averaged samples...\n",
        "#Standard Normal Distributed data is slightly more accurate when using \n",
        "#the default settings.\n",
        "\n",
        "#STD Logistic C=0.0001: 0.6271842105263158, 0.6280526315789474, 0.6256228070175439\n",
        "#STD Logistic C=0.001: 0.6271052631578947, 0.6262543859649123, 0.6300263157894738\n",
        "#STD Logistic C=0.01: 0.7704824561403509, 0.7696578947368421, 0.7681929824561403\n",
        "#STD Logistic C=0.1: 0.9358947368421052, 0.9373421052631579, 0.9372280701754387\n",
        "#STD Logistic C=1: 0.9651666666666666, 0.9662894736842105, 0.9661491228070177\n",
        "#STD Logistic C=10: 0.9764210526315787, 0.9757982456140349, 0.9760175438596491\n",
        "#STD Logistic C=100: Often failed to converge, results thrown out.\n",
        "#Over 3 runs of 1000 averaged samples...\n",
        "#C=10 consistantly provided the best accuracy."
      ],
      "execution_count": 19,
      "outputs": []
    },
    {
      "cell_type": "markdown",
      "source": [],
      "metadata": {
        "id": "L7CrdOjlKy9S"
      }
    }
  ]
}