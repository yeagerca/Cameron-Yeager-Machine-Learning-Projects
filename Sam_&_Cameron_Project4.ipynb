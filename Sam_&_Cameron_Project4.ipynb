{
  "cells": [
    {
      "cell_type": "markdown",
      "metadata": {
        "id": "view-in-github",
        "colab_type": "text"
      },
      "source": [
        "<a href=\"https://colab.research.google.com/github/yeagerca/Cameron-Yeager-Machine-Learning-Projects/blob/main/Sam_%26_Cameron_Project4.ipynb\" target=\"_parent\"><img src=\"https://colab.research.google.com/assets/colab-badge.svg\" alt=\"Open In Colab\"/></a>"
      ]
    },
    {
      "cell_type": "markdown",
      "metadata": {
        "id": "jlEvhersH4iS"
      },
      "source": [
        "# Proposal"
      ]
    },
    {
      "cell_type": "markdown",
      "metadata": {
        "id": "NEl9VKwMVNIY"
      },
      "source": [
        "1) Project Title:\n",
        "> Predictors on Student Performance.\n",
        "\n",
        "Group Members:\n",
        "\n",
        "> Sam Hamilton, Cameron Yeager.\n",
        "\n",
        "2) Data set details:\n",
        "\n",
        "> a) Source (link): https://archive.ics.uci.edu/ml/datasets/Student+Performance\n",
        ">\n",
        "> b) Overview: This data set contains attributes relating to the characteristics of students at two high school level Portugues schools and their academic success in Math and Portuguese courses over 3 periods.\n",
        ">\n",
        "> c) Number of input features: there are 33 listed attributes, 32 of which are potential input features. We intend to make a model using all of the input features in addition to models that will use a number of select input features.\n",
        ">\n",
        "> d) Prediction variable: We plan to predict students G3 (final) grades.\n",
        "\n",
        "3) Application detail\n",
        "\n",
        "> a) What type of prediction it is: We plan to use classification by breaking G3 grades into up to 5 different categories to predict.\n",
        ">\n",
        "> b) What type of learning algorithm will you use: We plan to use Supervised Learning.\n",
        ">\n",
        "> c) What type of model you want to test: We plan to use logistic regression and SVM."
      ]
    },
    {
      "cell_type": "markdown",
      "metadata": {
        "id": "TzPr8ZiuH53x"
      },
      "source": [
        "#Data Handling\n"
      ]
    },
    {
      "cell_type": "code",
      "execution_count": 1,
      "metadata": {
        "id": "tRTKDe0hkbRi"
      },
      "outputs": [],
      "source": [
        "#Imports\n",
        "import numpy as np\n",
        "import pandas as pd\n",
        "import zipfile\n",
        "from zipfile import ZipFile\n",
        "from io import BytesIO\n",
        "from urllib.request import urlopen\n",
        "\n",
        "from sklearn.model_selection import train_test_split\n",
        "from sklearn import svm\n",
        "from sklearn.linear_model import LogisticRegression\n",
        "from sklearn import tree\n",
        "from sklearn.tree import DecisionTreeClassifier\n",
        "from sklearn import metrics\n",
        "import itertools\n",
        "import matplotlib.pyplot as plt\n",
        "from sklearn.metrics import confusion_matrix"
      ]
    },
    {
      "cell_type": "code",
      "execution_count": 2,
      "metadata": {
        "id": "ssQRB8EhMz1U"
      },
      "outputs": [],
      "source": [
        "resp = urlopen('https://archive.ics.uci.edu/ml/machine-learning-databases/00320/student.zip')\n",
        "files_zip = zipfile.ZipFile(BytesIO(resp.read()))\n",
        "# files_zip.namelist()\n",
        "directory_to_extract_to = 'student/'#YOUR_DESTINATION_FOLDER\n",
        "file = \"student-mat.csv\"\n",
        "with files_zip as zip_ref:\n",
        "    zip_ref.extract(file,directory_to_extract_to)\n",
        "dfMath = pd.read_csv(directory_to_extract_to + file, sep=';')\n",
        "\n",
        "feature_names = dfMath.columns\n",
        "labels = feature_names[32]\n",
        "\n",
        "X_pd = dfMath.iloc[:,:30] #30 and 31 are the G1 and G2 grades which will not be used for finding G3 grades\n",
        "Y = dfMath.iloc[:,32]"
      ]
    },
    {
      "cell_type": "code",
      "execution_count": 3,
      "metadata": {
        "colab": {
          "base_uri": "https://localhost:8080/"
        },
        "id": "8u4pmknCOct0",
        "outputId": "bde4bf8a-405b-415b-c4ff-21da7b68b072"
      },
      "outputs": [
        {
          "output_type": "stream",
          "name": "stdout",
          "text": [
            "Features:  Index(['school', 'sex', 'age', 'address', 'famsize', 'Pstatus', 'Medu', 'Fedu',\n",
            "       'Mjob', 'Fjob', 'reason', 'guardian', 'traveltime', 'studytime',\n",
            "       'failures', 'schoolsup', 'famsup', 'paid', 'activities', 'nursery',\n",
            "       'higher', 'internet', 'romantic', 'famrel', 'freetime', 'goout', 'Dalc',\n",
            "       'Walc', 'health', 'absences', 'G1', 'G2', 'G3'],\n",
            "      dtype='object')\n",
            "Labels:  G3\n"
          ]
        }
      ],
      "source": [
        "# print the names of the features\n",
        "print(\"Features: \", feature_names)\n",
        "\n",
        "# print the label type of targets\n",
        "print(\"Labels: \", labels)"
      ]
    },
    {
      "cell_type": "code",
      "execution_count": 4,
      "metadata": {
        "colab": {
          "base_uri": "https://localhost:8080/",
          "height": 424
        },
        "id": "SrNTOgQTRK01",
        "outputId": "e452f013-5b1b-4e77-812c-03ddb316f428"
      },
      "outputs": [
        {
          "output_type": "execute_result",
          "data": {
            "text/plain": [
              "     school  sex  age  address  famsize  Pstatus  Medu  Fedu  Mjob  Fjob  ...  \\\n",
              "0         1    0   18        1        0        0     4     4     3     0  ...   \n",
              "1         1    0   17        1        0        1     1     1     3     4  ...   \n",
              "2         1    0   15        1        1        1     1     1     3     4  ...   \n",
              "3         1    0   15        1        0        1     4     2     1     2  ...   \n",
              "4         1    0   16        1        0        1     3     3     4     4  ...   \n",
              "..      ...  ...  ...      ...      ...      ...   ...   ...   ...   ...  ...   \n",
              "390       0    1   20        1        1        0     2     2     2     2  ...   \n",
              "391       0    1   17        1        1        1     3     1     2     2  ...   \n",
              "392       0    1   21        0        0        1     1     1     4     4  ...   \n",
              "393       0    1   18        0        1        1     3     2     2     4  ...   \n",
              "394       0    1   19        1        1        1     1     1     4     3  ...   \n",
              "\n",
              "     higher  internet  romantic  famrel  freetime  goout  Dalc  Walc  health  \\\n",
              "0         1         0         0       4         3      4     1     1       3   \n",
              "1         1         1         0       5         3      3     1     1       3   \n",
              "2         1         1         0       4         3      2     2     3       3   \n",
              "3         1         1         1       3         2      2     1     1       5   \n",
              "4         1         0         0       4         3      2     1     2       5   \n",
              "..      ...       ...       ...     ...       ...    ...   ...   ...     ...   \n",
              "390       1         0         0       5         5      4     4     5       4   \n",
              "391       1         1         0       2         4      5     3     4       2   \n",
              "392       1         0         0       5         5      3     3     3       3   \n",
              "393       1         1         0       4         4      1     3     4       5   \n",
              "394       1         1         0       3         2      3     3     3       5   \n",
              "\n",
              "     absences  \n",
              "0           6  \n",
              "1           4  \n",
              "2          10  \n",
              "3           2  \n",
              "4           4  \n",
              "..        ...  \n",
              "390        11  \n",
              "391         3  \n",
              "392         3  \n",
              "393         0  \n",
              "394         5  \n",
              "\n",
              "[395 rows x 30 columns]"
            ],
            "text/html": [
              "\n",
              "  <div id=\"df-7254b31e-399f-411c-806f-d1482586459c\">\n",
              "    <div class=\"colab-df-container\">\n",
              "      <div>\n",
              "<style scoped>\n",
              "    .dataframe tbody tr th:only-of-type {\n",
              "        vertical-align: middle;\n",
              "    }\n",
              "\n",
              "    .dataframe tbody tr th {\n",
              "        vertical-align: top;\n",
              "    }\n",
              "\n",
              "    .dataframe thead th {\n",
              "        text-align: right;\n",
              "    }\n",
              "</style>\n",
              "<table border=\"1\" class=\"dataframe\">\n",
              "  <thead>\n",
              "    <tr style=\"text-align: right;\">\n",
              "      <th></th>\n",
              "      <th>school</th>\n",
              "      <th>sex</th>\n",
              "      <th>age</th>\n",
              "      <th>address</th>\n",
              "      <th>famsize</th>\n",
              "      <th>Pstatus</th>\n",
              "      <th>Medu</th>\n",
              "      <th>Fedu</th>\n",
              "      <th>Mjob</th>\n",
              "      <th>Fjob</th>\n",
              "      <th>...</th>\n",
              "      <th>higher</th>\n",
              "      <th>internet</th>\n",
              "      <th>romantic</th>\n",
              "      <th>famrel</th>\n",
              "      <th>freetime</th>\n",
              "      <th>goout</th>\n",
              "      <th>Dalc</th>\n",
              "      <th>Walc</th>\n",
              "      <th>health</th>\n",
              "      <th>absences</th>\n",
              "    </tr>\n",
              "  </thead>\n",
              "  <tbody>\n",
              "    <tr>\n",
              "      <th>0</th>\n",
              "      <td>1</td>\n",
              "      <td>0</td>\n",
              "      <td>18</td>\n",
              "      <td>1</td>\n",
              "      <td>0</td>\n",
              "      <td>0</td>\n",
              "      <td>4</td>\n",
              "      <td>4</td>\n",
              "      <td>3</td>\n",
              "      <td>0</td>\n",
              "      <td>...</td>\n",
              "      <td>1</td>\n",
              "      <td>0</td>\n",
              "      <td>0</td>\n",
              "      <td>4</td>\n",
              "      <td>3</td>\n",
              "      <td>4</td>\n",
              "      <td>1</td>\n",
              "      <td>1</td>\n",
              "      <td>3</td>\n",
              "      <td>6</td>\n",
              "    </tr>\n",
              "    <tr>\n",
              "      <th>1</th>\n",
              "      <td>1</td>\n",
              "      <td>0</td>\n",
              "      <td>17</td>\n",
              "      <td>1</td>\n",
              "      <td>0</td>\n",
              "      <td>1</td>\n",
              "      <td>1</td>\n",
              "      <td>1</td>\n",
              "      <td>3</td>\n",
              "      <td>4</td>\n",
              "      <td>...</td>\n",
              "      <td>1</td>\n",
              "      <td>1</td>\n",
              "      <td>0</td>\n",
              "      <td>5</td>\n",
              "      <td>3</td>\n",
              "      <td>3</td>\n",
              "      <td>1</td>\n",
              "      <td>1</td>\n",
              "      <td>3</td>\n",
              "      <td>4</td>\n",
              "    </tr>\n",
              "    <tr>\n",
              "      <th>2</th>\n",
              "      <td>1</td>\n",
              "      <td>0</td>\n",
              "      <td>15</td>\n",
              "      <td>1</td>\n",
              "      <td>1</td>\n",
              "      <td>1</td>\n",
              "      <td>1</td>\n",
              "      <td>1</td>\n",
              "      <td>3</td>\n",
              "      <td>4</td>\n",
              "      <td>...</td>\n",
              "      <td>1</td>\n",
              "      <td>1</td>\n",
              "      <td>0</td>\n",
              "      <td>4</td>\n",
              "      <td>3</td>\n",
              "      <td>2</td>\n",
              "      <td>2</td>\n",
              "      <td>3</td>\n",
              "      <td>3</td>\n",
              "      <td>10</td>\n",
              "    </tr>\n",
              "    <tr>\n",
              "      <th>3</th>\n",
              "      <td>1</td>\n",
              "      <td>0</td>\n",
              "      <td>15</td>\n",
              "      <td>1</td>\n",
              "      <td>0</td>\n",
              "      <td>1</td>\n",
              "      <td>4</td>\n",
              "      <td>2</td>\n",
              "      <td>1</td>\n",
              "      <td>2</td>\n",
              "      <td>...</td>\n",
              "      <td>1</td>\n",
              "      <td>1</td>\n",
              "      <td>1</td>\n",
              "      <td>3</td>\n",
              "      <td>2</td>\n",
              "      <td>2</td>\n",
              "      <td>1</td>\n",
              "      <td>1</td>\n",
              "      <td>5</td>\n",
              "      <td>2</td>\n",
              "    </tr>\n",
              "    <tr>\n",
              "      <th>4</th>\n",
              "      <td>1</td>\n",
              "      <td>0</td>\n",
              "      <td>16</td>\n",
              "      <td>1</td>\n",
              "      <td>0</td>\n",
              "      <td>1</td>\n",
              "      <td>3</td>\n",
              "      <td>3</td>\n",
              "      <td>4</td>\n",
              "      <td>4</td>\n",
              "      <td>...</td>\n",
              "      <td>1</td>\n",
              "      <td>0</td>\n",
              "      <td>0</td>\n",
              "      <td>4</td>\n",
              "      <td>3</td>\n",
              "      <td>2</td>\n",
              "      <td>1</td>\n",
              "      <td>2</td>\n",
              "      <td>5</td>\n",
              "      <td>4</td>\n",
              "    </tr>\n",
              "    <tr>\n",
              "      <th>...</th>\n",
              "      <td>...</td>\n",
              "      <td>...</td>\n",
              "      <td>...</td>\n",
              "      <td>...</td>\n",
              "      <td>...</td>\n",
              "      <td>...</td>\n",
              "      <td>...</td>\n",
              "      <td>...</td>\n",
              "      <td>...</td>\n",
              "      <td>...</td>\n",
              "      <td>...</td>\n",
              "      <td>...</td>\n",
              "      <td>...</td>\n",
              "      <td>...</td>\n",
              "      <td>...</td>\n",
              "      <td>...</td>\n",
              "      <td>...</td>\n",
              "      <td>...</td>\n",
              "      <td>...</td>\n",
              "      <td>...</td>\n",
              "      <td>...</td>\n",
              "    </tr>\n",
              "    <tr>\n",
              "      <th>390</th>\n",
              "      <td>0</td>\n",
              "      <td>1</td>\n",
              "      <td>20</td>\n",
              "      <td>1</td>\n",
              "      <td>1</td>\n",
              "      <td>0</td>\n",
              "      <td>2</td>\n",
              "      <td>2</td>\n",
              "      <td>2</td>\n",
              "      <td>2</td>\n",
              "      <td>...</td>\n",
              "      <td>1</td>\n",
              "      <td>0</td>\n",
              "      <td>0</td>\n",
              "      <td>5</td>\n",
              "      <td>5</td>\n",
              "      <td>4</td>\n",
              "      <td>4</td>\n",
              "      <td>5</td>\n",
              "      <td>4</td>\n",
              "      <td>11</td>\n",
              "    </tr>\n",
              "    <tr>\n",
              "      <th>391</th>\n",
              "      <td>0</td>\n",
              "      <td>1</td>\n",
              "      <td>17</td>\n",
              "      <td>1</td>\n",
              "      <td>1</td>\n",
              "      <td>1</td>\n",
              "      <td>3</td>\n",
              "      <td>1</td>\n",
              "      <td>2</td>\n",
              "      <td>2</td>\n",
              "      <td>...</td>\n",
              "      <td>1</td>\n",
              "      <td>1</td>\n",
              "      <td>0</td>\n",
              "      <td>2</td>\n",
              "      <td>4</td>\n",
              "      <td>5</td>\n",
              "      <td>3</td>\n",
              "      <td>4</td>\n",
              "      <td>2</td>\n",
              "      <td>3</td>\n",
              "    </tr>\n",
              "    <tr>\n",
              "      <th>392</th>\n",
              "      <td>0</td>\n",
              "      <td>1</td>\n",
              "      <td>21</td>\n",
              "      <td>0</td>\n",
              "      <td>0</td>\n",
              "      <td>1</td>\n",
              "      <td>1</td>\n",
              "      <td>1</td>\n",
              "      <td>4</td>\n",
              "      <td>4</td>\n",
              "      <td>...</td>\n",
              "      <td>1</td>\n",
              "      <td>0</td>\n",
              "      <td>0</td>\n",
              "      <td>5</td>\n",
              "      <td>5</td>\n",
              "      <td>3</td>\n",
              "      <td>3</td>\n",
              "      <td>3</td>\n",
              "      <td>3</td>\n",
              "      <td>3</td>\n",
              "    </tr>\n",
              "    <tr>\n",
              "      <th>393</th>\n",
              "      <td>0</td>\n",
              "      <td>1</td>\n",
              "      <td>18</td>\n",
              "      <td>0</td>\n",
              "      <td>1</td>\n",
              "      <td>1</td>\n",
              "      <td>3</td>\n",
              "      <td>2</td>\n",
              "      <td>2</td>\n",
              "      <td>4</td>\n",
              "      <td>...</td>\n",
              "      <td>1</td>\n",
              "      <td>1</td>\n",
              "      <td>0</td>\n",
              "      <td>4</td>\n",
              "      <td>4</td>\n",
              "      <td>1</td>\n",
              "      <td>3</td>\n",
              "      <td>4</td>\n",
              "      <td>5</td>\n",
              "      <td>0</td>\n",
              "    </tr>\n",
              "    <tr>\n",
              "      <th>394</th>\n",
              "      <td>0</td>\n",
              "      <td>1</td>\n",
              "      <td>19</td>\n",
              "      <td>1</td>\n",
              "      <td>1</td>\n",
              "      <td>1</td>\n",
              "      <td>1</td>\n",
              "      <td>1</td>\n",
              "      <td>4</td>\n",
              "      <td>3</td>\n",
              "      <td>...</td>\n",
              "      <td>1</td>\n",
              "      <td>1</td>\n",
              "      <td>0</td>\n",
              "      <td>3</td>\n",
              "      <td>2</td>\n",
              "      <td>3</td>\n",
              "      <td>3</td>\n",
              "      <td>3</td>\n",
              "      <td>5</td>\n",
              "      <td>5</td>\n",
              "    </tr>\n",
              "  </tbody>\n",
              "</table>\n",
              "<p>395 rows × 30 columns</p>\n",
              "</div>\n",
              "      <button class=\"colab-df-convert\" onclick=\"convertToInteractive('df-7254b31e-399f-411c-806f-d1482586459c')\"\n",
              "              title=\"Convert this dataframe to an interactive table.\"\n",
              "              style=\"display:none;\">\n",
              "        \n",
              "  <svg xmlns=\"http://www.w3.org/2000/svg\" height=\"24px\"viewBox=\"0 0 24 24\"\n",
              "       width=\"24px\">\n",
              "    <path d=\"M0 0h24v24H0V0z\" fill=\"none\"/>\n",
              "    <path d=\"M18.56 5.44l.94 2.06.94-2.06 2.06-.94-2.06-.94-.94-2.06-.94 2.06-2.06.94zm-11 1L8.5 8.5l.94-2.06 2.06-.94-2.06-.94L8.5 2.5l-.94 2.06-2.06.94zm10 10l.94 2.06.94-2.06 2.06-.94-2.06-.94-.94-2.06-.94 2.06-2.06.94z\"/><path d=\"M17.41 7.96l-1.37-1.37c-.4-.4-.92-.59-1.43-.59-.52 0-1.04.2-1.43.59L10.3 9.45l-7.72 7.72c-.78.78-.78 2.05 0 2.83L4 21.41c.39.39.9.59 1.41.59.51 0 1.02-.2 1.41-.59l7.78-7.78 2.81-2.81c.8-.78.8-2.07 0-2.86zM5.41 20L4 18.59l7.72-7.72 1.47 1.35L5.41 20z\"/>\n",
              "  </svg>\n",
              "      </button>\n",
              "      \n",
              "  <style>\n",
              "    .colab-df-container {\n",
              "      display:flex;\n",
              "      flex-wrap:wrap;\n",
              "      gap: 12px;\n",
              "    }\n",
              "\n",
              "    .colab-df-convert {\n",
              "      background-color: #E8F0FE;\n",
              "      border: none;\n",
              "      border-radius: 50%;\n",
              "      cursor: pointer;\n",
              "      display: none;\n",
              "      fill: #1967D2;\n",
              "      height: 32px;\n",
              "      padding: 0 0 0 0;\n",
              "      width: 32px;\n",
              "    }\n",
              "\n",
              "    .colab-df-convert:hover {\n",
              "      background-color: #E2EBFA;\n",
              "      box-shadow: 0px 1px 2px rgba(60, 64, 67, 0.3), 0px 1px 3px 1px rgba(60, 64, 67, 0.15);\n",
              "      fill: #174EA6;\n",
              "    }\n",
              "\n",
              "    [theme=dark] .colab-df-convert {\n",
              "      background-color: #3B4455;\n",
              "      fill: #D2E3FC;\n",
              "    }\n",
              "\n",
              "    [theme=dark] .colab-df-convert:hover {\n",
              "      background-color: #434B5C;\n",
              "      box-shadow: 0px 1px 3px 1px rgba(0, 0, 0, 0.15);\n",
              "      filter: drop-shadow(0px 1px 2px rgba(0, 0, 0, 0.3));\n",
              "      fill: #FFFFFF;\n",
              "    }\n",
              "  </style>\n",
              "\n",
              "      <script>\n",
              "        const buttonEl =\n",
              "          document.querySelector('#df-7254b31e-399f-411c-806f-d1482586459c button.colab-df-convert');\n",
              "        buttonEl.style.display =\n",
              "          google.colab.kernel.accessAllowed ? 'block' : 'none';\n",
              "\n",
              "        async function convertToInteractive(key) {\n",
              "          const element = document.querySelector('#df-7254b31e-399f-411c-806f-d1482586459c');\n",
              "          const dataTable =\n",
              "            await google.colab.kernel.invokeFunction('convertToInteractive',\n",
              "                                                     [key], {});\n",
              "          if (!dataTable) return;\n",
              "\n",
              "          const docLinkHtml = 'Like what you see? Visit the ' +\n",
              "            '<a target=\"_blank\" href=https://colab.research.google.com/notebooks/data_table.ipynb>data table notebook</a>'\n",
              "            + ' to learn more about interactive tables.';\n",
              "          element.innerHTML = '';\n",
              "          dataTable['output_type'] = 'display_data';\n",
              "          await google.colab.output.renderOutput(dataTable, element);\n",
              "          const docLink = document.createElement('div');\n",
              "          docLink.innerHTML = docLinkHtml;\n",
              "          element.appendChild(docLink);\n",
              "        }\n",
              "      </script>\n",
              "    </div>\n",
              "  </div>\n",
              "  "
            ]
          },
          "metadata": {},
          "execution_count": 4
        }
      ],
      "source": [
        "#Converting range of Y from 0-20 to 5 catagories\n",
        "Y = pd.cut(Y, bins=[-1,4,8,12,16,20], labels=[1,2,3,4,5], ordered=False)\n",
        "\n",
        "#Converting catigorical inputs to numerical values\n",
        "school = {'GP': 1,'MS': 0}\n",
        "X_pd.school = [school[item] for item in X_pd.school]\n",
        "\n",
        "sex = {'M': 1,'F': 0}\n",
        "X_pd.sex = [sex[item] for item in X_pd.sex]\n",
        "\n",
        "address = {'U': 1,'R': 0}\n",
        "X_pd.address = [address[item] for item in X_pd.address]\n",
        "\n",
        "famsize = {'LE3': 1,'GT3': 0}\n",
        "X_pd.famsize = [famsize[item] for item in X_pd.famsize]\n",
        "\n",
        "Pstatus = {'T': 1,'A': 0}\n",
        "X_pd.Pstatus = [Pstatus[item] for item in X_pd.Pstatus]\n",
        "\n",
        "Mjob = {'teacher': 0,'health': 1, 'services' : 2, 'at_home' : 3, 'other' : 4}\n",
        "X_pd.Mjob = [Mjob[item] for item in X_pd.Mjob]\n",
        "\n",
        "Fjob = {'teacher': 0,'health': 1, 'services' : 2, 'at_home' : 3, 'other' : 4}\n",
        "X_pd.Fjob = [Fjob[item] for item in X_pd.Fjob]\n",
        "\n",
        "reason = {'home': 0,'reputation': 1, 'course' : 2, 'other' : 3}\n",
        "X_pd.reason = [reason[item] for item in X_pd.reason]\n",
        "\n",
        "guardian = {'mother': 0,'father': 1, 'other' : 2}\n",
        "X_pd.guardian = [guardian[item] for item in X_pd.guardian]\n",
        "\n",
        "yesNo = {'no': 0,'yes': 1}\n",
        "X_pd.schoolsup = [yesNo[item] for item in X_pd.schoolsup]\n",
        "X_pd.famsup = [yesNo[item] for item in X_pd.famsup]\n",
        "X_pd.paid = [yesNo[item] for item in X_pd.paid]\n",
        "X_pd.activities = [yesNo[item] for item in X_pd.activities]\n",
        "X_pd.nursery = [yesNo[item] for item in X_pd.nursery]\n",
        "X_pd.higher = [yesNo[item] for item in X_pd.higher]\n",
        "X_pd.internet = [yesNo[item] for item in X_pd.internet]\n",
        "X_pd.romantic = [yesNo[item] for item in X_pd.romantic]\n",
        "\n",
        "X_pd"
      ]
    },
    {
      "cell_type": "code",
      "execution_count": 5,
      "metadata": {
        "id": "lQDWlRclQj9y"
      },
      "outputs": [],
      "source": [
        "Y = Y.to_numpy()\n",
        "X = X_pd.to_numpy()"
      ]
    },
    {
      "cell_type": "code",
      "execution_count": 6,
      "metadata": {
        "id": "OmTW5DkNXOeP"
      },
      "outputs": [],
      "source": [
        "#Scaling\n",
        "#X = (X - np.min(X)) / (np.max(X) - np.min(X)) #normalization\n",
        "X = (X - np.mean(X)) / np.std(X) #STD"
      ]
    },
    {
      "cell_type": "code",
      "execution_count": 7,
      "metadata": {
        "id": "l4rM9za3Waxk"
      },
      "outputs": [],
      "source": [
        "def plot_confusion_matrix(cm, classes, normalize=False, \n",
        "                          title='Confusion matrix', cmap=plt.cm.Blues):\n",
        "    if normalize:\n",
        "        cm = cm.astype('float') / cm.sum(axis=1)[:, np.newaxis]\n",
        "\n",
        "    plt.imshow(cm, interpolation='nearest', cmap=cmap)\n",
        "    plt.title(title)\n",
        "    plt.colorbar()\n",
        "    tick_marks = np.arange(len(classes))\n",
        "    plt.xticks(tick_marks, classes, rotation=45)\n",
        "    plt.yticks(tick_marks, classes)\n",
        "\n",
        "    fmt = '.2f' if normalize else 'd'\n",
        "    thresh = cm.max() / 2.\n",
        "    for i, j in itertools.product(range(cm.shape[0]), range(cm.shape[1])):\n",
        "        plt.text(j, i, format(cm[i, j], fmt), horizontalalignment=\"center\", \n",
        "                 color=\"white\" if cm[i, j] > thresh else \"black\")\n",
        "\n",
        "    plt.tight_layout()\n",
        "    plt.ylabel('True label')\n",
        "    plt.xlabel('Predicted label')"
      ]
    },
    {
      "cell_type": "code",
      "execution_count": 8,
      "metadata": {
        "colab": {
          "base_uri": "https://localhost:8080/",
          "height": 424
        },
        "id": "z6YwDs26ZDJg",
        "outputId": "db9f0592-64cb-4c68-bc0f-14376658ef16"
      },
      "outputs": [
        {
          "output_type": "execute_result",
          "data": {
            "text/plain": [
              "     school  sex  age  address  famsize  Pstatus  Medu  Fedu  Mjob  Fjob  ...  \\\n",
              "0         1    0   18        1        0        0     4     4     3     0  ...   \n",
              "1         1    0   17        1        0        1     1     1     3     4  ...   \n",
              "2         1    0   15        1        1        1     1     1     3     4  ...   \n",
              "3         1    0   15        1        0        1     4     2     1     2  ...   \n",
              "4         1    0   16        1        0        1     3     3     4     4  ...   \n",
              "..      ...  ...  ...      ...      ...      ...   ...   ...   ...   ...  ...   \n",
              "390       0    1   20        1        1        0     2     2     2     2  ...   \n",
              "391       0    1   17        1        1        1     3     1     2     2  ...   \n",
              "392       0    1   21        0        0        1     1     1     4     4  ...   \n",
              "393       0    1   18        0        1        1     3     2     2     4  ...   \n",
              "394       0    1   19        1        1        1     1     1     4     3  ...   \n",
              "\n",
              "     higher  internet  romantic  famrel  freetime  goout  Dalc  Walc  health  \\\n",
              "0         1         0         0       4         3      4     1     1       3   \n",
              "1         1         1         0       5         3      3     1     1       3   \n",
              "2         1         1         0       4         3      2     2     3       3   \n",
              "3         1         1         1       3         2      2     1     1       5   \n",
              "4         1         0         0       4         3      2     1     2       5   \n",
              "..      ...       ...       ...     ...       ...    ...   ...   ...     ...   \n",
              "390       1         0         0       5         5      4     4     5       4   \n",
              "391       1         1         0       2         4      5     3     4       2   \n",
              "392       1         0         0       5         5      3     3     3       3   \n",
              "393       1         1         0       4         4      1     3     4       5   \n",
              "394       1         1         0       3         2      3     3     3       5   \n",
              "\n",
              "     absences  \n",
              "0           6  \n",
              "1           4  \n",
              "2          10  \n",
              "3           2  \n",
              "4           4  \n",
              "..        ...  \n",
              "390        11  \n",
              "391         3  \n",
              "392         3  \n",
              "393         0  \n",
              "394         5  \n",
              "\n",
              "[395 rows x 30 columns]"
            ],
            "text/html": [
              "\n",
              "  <div id=\"df-abbcf040-98aa-4f6a-a166-1949b97c0287\">\n",
              "    <div class=\"colab-df-container\">\n",
              "      <div>\n",
              "<style scoped>\n",
              "    .dataframe tbody tr th:only-of-type {\n",
              "        vertical-align: middle;\n",
              "    }\n",
              "\n",
              "    .dataframe tbody tr th {\n",
              "        vertical-align: top;\n",
              "    }\n",
              "\n",
              "    .dataframe thead th {\n",
              "        text-align: right;\n",
              "    }\n",
              "</style>\n",
              "<table border=\"1\" class=\"dataframe\">\n",
              "  <thead>\n",
              "    <tr style=\"text-align: right;\">\n",
              "      <th></th>\n",
              "      <th>school</th>\n",
              "      <th>sex</th>\n",
              "      <th>age</th>\n",
              "      <th>address</th>\n",
              "      <th>famsize</th>\n",
              "      <th>Pstatus</th>\n",
              "      <th>Medu</th>\n",
              "      <th>Fedu</th>\n",
              "      <th>Mjob</th>\n",
              "      <th>Fjob</th>\n",
              "      <th>...</th>\n",
              "      <th>higher</th>\n",
              "      <th>internet</th>\n",
              "      <th>romantic</th>\n",
              "      <th>famrel</th>\n",
              "      <th>freetime</th>\n",
              "      <th>goout</th>\n",
              "      <th>Dalc</th>\n",
              "      <th>Walc</th>\n",
              "      <th>health</th>\n",
              "      <th>absences</th>\n",
              "    </tr>\n",
              "  </thead>\n",
              "  <tbody>\n",
              "    <tr>\n",
              "      <th>0</th>\n",
              "      <td>1</td>\n",
              "      <td>0</td>\n",
              "      <td>18</td>\n",
              "      <td>1</td>\n",
              "      <td>0</td>\n",
              "      <td>0</td>\n",
              "      <td>4</td>\n",
              "      <td>4</td>\n",
              "      <td>3</td>\n",
              "      <td>0</td>\n",
              "      <td>...</td>\n",
              "      <td>1</td>\n",
              "      <td>0</td>\n",
              "      <td>0</td>\n",
              "      <td>4</td>\n",
              "      <td>3</td>\n",
              "      <td>4</td>\n",
              "      <td>1</td>\n",
              "      <td>1</td>\n",
              "      <td>3</td>\n",
              "      <td>6</td>\n",
              "    </tr>\n",
              "    <tr>\n",
              "      <th>1</th>\n",
              "      <td>1</td>\n",
              "      <td>0</td>\n",
              "      <td>17</td>\n",
              "      <td>1</td>\n",
              "      <td>0</td>\n",
              "      <td>1</td>\n",
              "      <td>1</td>\n",
              "      <td>1</td>\n",
              "      <td>3</td>\n",
              "      <td>4</td>\n",
              "      <td>...</td>\n",
              "      <td>1</td>\n",
              "      <td>1</td>\n",
              "      <td>0</td>\n",
              "      <td>5</td>\n",
              "      <td>3</td>\n",
              "      <td>3</td>\n",
              "      <td>1</td>\n",
              "      <td>1</td>\n",
              "      <td>3</td>\n",
              "      <td>4</td>\n",
              "    </tr>\n",
              "    <tr>\n",
              "      <th>2</th>\n",
              "      <td>1</td>\n",
              "      <td>0</td>\n",
              "      <td>15</td>\n",
              "      <td>1</td>\n",
              "      <td>1</td>\n",
              "      <td>1</td>\n",
              "      <td>1</td>\n",
              "      <td>1</td>\n",
              "      <td>3</td>\n",
              "      <td>4</td>\n",
              "      <td>...</td>\n",
              "      <td>1</td>\n",
              "      <td>1</td>\n",
              "      <td>0</td>\n",
              "      <td>4</td>\n",
              "      <td>3</td>\n",
              "      <td>2</td>\n",
              "      <td>2</td>\n",
              "      <td>3</td>\n",
              "      <td>3</td>\n",
              "      <td>10</td>\n",
              "    </tr>\n",
              "    <tr>\n",
              "      <th>3</th>\n",
              "      <td>1</td>\n",
              "      <td>0</td>\n",
              "      <td>15</td>\n",
              "      <td>1</td>\n",
              "      <td>0</td>\n",
              "      <td>1</td>\n",
              "      <td>4</td>\n",
              "      <td>2</td>\n",
              "      <td>1</td>\n",
              "      <td>2</td>\n",
              "      <td>...</td>\n",
              "      <td>1</td>\n",
              "      <td>1</td>\n",
              "      <td>1</td>\n",
              "      <td>3</td>\n",
              "      <td>2</td>\n",
              "      <td>2</td>\n",
              "      <td>1</td>\n",
              "      <td>1</td>\n",
              "      <td>5</td>\n",
              "      <td>2</td>\n",
              "    </tr>\n",
              "    <tr>\n",
              "      <th>4</th>\n",
              "      <td>1</td>\n",
              "      <td>0</td>\n",
              "      <td>16</td>\n",
              "      <td>1</td>\n",
              "      <td>0</td>\n",
              "      <td>1</td>\n",
              "      <td>3</td>\n",
              "      <td>3</td>\n",
              "      <td>4</td>\n",
              "      <td>4</td>\n",
              "      <td>...</td>\n",
              "      <td>1</td>\n",
              "      <td>0</td>\n",
              "      <td>0</td>\n",
              "      <td>4</td>\n",
              "      <td>3</td>\n",
              "      <td>2</td>\n",
              "      <td>1</td>\n",
              "      <td>2</td>\n",
              "      <td>5</td>\n",
              "      <td>4</td>\n",
              "    </tr>\n",
              "    <tr>\n",
              "      <th>...</th>\n",
              "      <td>...</td>\n",
              "      <td>...</td>\n",
              "      <td>...</td>\n",
              "      <td>...</td>\n",
              "      <td>...</td>\n",
              "      <td>...</td>\n",
              "      <td>...</td>\n",
              "      <td>...</td>\n",
              "      <td>...</td>\n",
              "      <td>...</td>\n",
              "      <td>...</td>\n",
              "      <td>...</td>\n",
              "      <td>...</td>\n",
              "      <td>...</td>\n",
              "      <td>...</td>\n",
              "      <td>...</td>\n",
              "      <td>...</td>\n",
              "      <td>...</td>\n",
              "      <td>...</td>\n",
              "      <td>...</td>\n",
              "      <td>...</td>\n",
              "    </tr>\n",
              "    <tr>\n",
              "      <th>390</th>\n",
              "      <td>0</td>\n",
              "      <td>1</td>\n",
              "      <td>20</td>\n",
              "      <td>1</td>\n",
              "      <td>1</td>\n",
              "      <td>0</td>\n",
              "      <td>2</td>\n",
              "      <td>2</td>\n",
              "      <td>2</td>\n",
              "      <td>2</td>\n",
              "      <td>...</td>\n",
              "      <td>1</td>\n",
              "      <td>0</td>\n",
              "      <td>0</td>\n",
              "      <td>5</td>\n",
              "      <td>5</td>\n",
              "      <td>4</td>\n",
              "      <td>4</td>\n",
              "      <td>5</td>\n",
              "      <td>4</td>\n",
              "      <td>11</td>\n",
              "    </tr>\n",
              "    <tr>\n",
              "      <th>391</th>\n",
              "      <td>0</td>\n",
              "      <td>1</td>\n",
              "      <td>17</td>\n",
              "      <td>1</td>\n",
              "      <td>1</td>\n",
              "      <td>1</td>\n",
              "      <td>3</td>\n",
              "      <td>1</td>\n",
              "      <td>2</td>\n",
              "      <td>2</td>\n",
              "      <td>...</td>\n",
              "      <td>1</td>\n",
              "      <td>1</td>\n",
              "      <td>0</td>\n",
              "      <td>2</td>\n",
              "      <td>4</td>\n",
              "      <td>5</td>\n",
              "      <td>3</td>\n",
              "      <td>4</td>\n",
              "      <td>2</td>\n",
              "      <td>3</td>\n",
              "    </tr>\n",
              "    <tr>\n",
              "      <th>392</th>\n",
              "      <td>0</td>\n",
              "      <td>1</td>\n",
              "      <td>21</td>\n",
              "      <td>0</td>\n",
              "      <td>0</td>\n",
              "      <td>1</td>\n",
              "      <td>1</td>\n",
              "      <td>1</td>\n",
              "      <td>4</td>\n",
              "      <td>4</td>\n",
              "      <td>...</td>\n",
              "      <td>1</td>\n",
              "      <td>0</td>\n",
              "      <td>0</td>\n",
              "      <td>5</td>\n",
              "      <td>5</td>\n",
              "      <td>3</td>\n",
              "      <td>3</td>\n",
              "      <td>3</td>\n",
              "      <td>3</td>\n",
              "      <td>3</td>\n",
              "    </tr>\n",
              "    <tr>\n",
              "      <th>393</th>\n",
              "      <td>0</td>\n",
              "      <td>1</td>\n",
              "      <td>18</td>\n",
              "      <td>0</td>\n",
              "      <td>1</td>\n",
              "      <td>1</td>\n",
              "      <td>3</td>\n",
              "      <td>2</td>\n",
              "      <td>2</td>\n",
              "      <td>4</td>\n",
              "      <td>...</td>\n",
              "      <td>1</td>\n",
              "      <td>1</td>\n",
              "      <td>0</td>\n",
              "      <td>4</td>\n",
              "      <td>4</td>\n",
              "      <td>1</td>\n",
              "      <td>3</td>\n",
              "      <td>4</td>\n",
              "      <td>5</td>\n",
              "      <td>0</td>\n",
              "    </tr>\n",
              "    <tr>\n",
              "      <th>394</th>\n",
              "      <td>0</td>\n",
              "      <td>1</td>\n",
              "      <td>19</td>\n",
              "      <td>1</td>\n",
              "      <td>1</td>\n",
              "      <td>1</td>\n",
              "      <td>1</td>\n",
              "      <td>1</td>\n",
              "      <td>4</td>\n",
              "      <td>3</td>\n",
              "      <td>...</td>\n",
              "      <td>1</td>\n",
              "      <td>1</td>\n",
              "      <td>0</td>\n",
              "      <td>3</td>\n",
              "      <td>2</td>\n",
              "      <td>3</td>\n",
              "      <td>3</td>\n",
              "      <td>3</td>\n",
              "      <td>5</td>\n",
              "      <td>5</td>\n",
              "    </tr>\n",
              "  </tbody>\n",
              "</table>\n",
              "<p>395 rows × 30 columns</p>\n",
              "</div>\n",
              "      <button class=\"colab-df-convert\" onclick=\"convertToInteractive('df-abbcf040-98aa-4f6a-a166-1949b97c0287')\"\n",
              "              title=\"Convert this dataframe to an interactive table.\"\n",
              "              style=\"display:none;\">\n",
              "        \n",
              "  <svg xmlns=\"http://www.w3.org/2000/svg\" height=\"24px\"viewBox=\"0 0 24 24\"\n",
              "       width=\"24px\">\n",
              "    <path d=\"M0 0h24v24H0V0z\" fill=\"none\"/>\n",
              "    <path d=\"M18.56 5.44l.94 2.06.94-2.06 2.06-.94-2.06-.94-.94-2.06-.94 2.06-2.06.94zm-11 1L8.5 8.5l.94-2.06 2.06-.94-2.06-.94L8.5 2.5l-.94 2.06-2.06.94zm10 10l.94 2.06.94-2.06 2.06-.94-2.06-.94-.94-2.06-.94 2.06-2.06.94z\"/><path d=\"M17.41 7.96l-1.37-1.37c-.4-.4-.92-.59-1.43-.59-.52 0-1.04.2-1.43.59L10.3 9.45l-7.72 7.72c-.78.78-.78 2.05 0 2.83L4 21.41c.39.39.9.59 1.41.59.51 0 1.02-.2 1.41-.59l7.78-7.78 2.81-2.81c.8-.78.8-2.07 0-2.86zM5.41 20L4 18.59l7.72-7.72 1.47 1.35L5.41 20z\"/>\n",
              "  </svg>\n",
              "      </button>\n",
              "      \n",
              "  <style>\n",
              "    .colab-df-container {\n",
              "      display:flex;\n",
              "      flex-wrap:wrap;\n",
              "      gap: 12px;\n",
              "    }\n",
              "\n",
              "    .colab-df-convert {\n",
              "      background-color: #E8F0FE;\n",
              "      border: none;\n",
              "      border-radius: 50%;\n",
              "      cursor: pointer;\n",
              "      display: none;\n",
              "      fill: #1967D2;\n",
              "      height: 32px;\n",
              "      padding: 0 0 0 0;\n",
              "      width: 32px;\n",
              "    }\n",
              "\n",
              "    .colab-df-convert:hover {\n",
              "      background-color: #E2EBFA;\n",
              "      box-shadow: 0px 1px 2px rgba(60, 64, 67, 0.3), 0px 1px 3px 1px rgba(60, 64, 67, 0.15);\n",
              "      fill: #174EA6;\n",
              "    }\n",
              "\n",
              "    [theme=dark] .colab-df-convert {\n",
              "      background-color: #3B4455;\n",
              "      fill: #D2E3FC;\n",
              "    }\n",
              "\n",
              "    [theme=dark] .colab-df-convert:hover {\n",
              "      background-color: #434B5C;\n",
              "      box-shadow: 0px 1px 3px 1px rgba(0, 0, 0, 0.15);\n",
              "      filter: drop-shadow(0px 1px 2px rgba(0, 0, 0, 0.3));\n",
              "      fill: #FFFFFF;\n",
              "    }\n",
              "  </style>\n",
              "\n",
              "      <script>\n",
              "        const buttonEl =\n",
              "          document.querySelector('#df-abbcf040-98aa-4f6a-a166-1949b97c0287 button.colab-df-convert');\n",
              "        buttonEl.style.display =\n",
              "          google.colab.kernel.accessAllowed ? 'block' : 'none';\n",
              "\n",
              "        async function convertToInteractive(key) {\n",
              "          const element = document.querySelector('#df-abbcf040-98aa-4f6a-a166-1949b97c0287');\n",
              "          const dataTable =\n",
              "            await google.colab.kernel.invokeFunction('convertToInteractive',\n",
              "                                                     [key], {});\n",
              "          if (!dataTable) return;\n",
              "\n",
              "          const docLinkHtml = 'Like what you see? Visit the ' +\n",
              "            '<a target=\"_blank\" href=https://colab.research.google.com/notebooks/data_table.ipynb>data table notebook</a>'\n",
              "            + ' to learn more about interactive tables.';\n",
              "          element.innerHTML = '';\n",
              "          dataTable['output_type'] = 'display_data';\n",
              "          await google.colab.output.renderOutput(dataTable, element);\n",
              "          const docLink = document.createElement('div');\n",
              "          docLink.innerHTML = docLinkHtml;\n",
              "          element.appendChild(docLink);\n",
              "        }\n",
              "      </script>\n",
              "    </div>\n",
              "  </div>\n",
              "  "
            ]
          },
          "metadata": {},
          "execution_count": 8
        }
      ],
      "source": [
        "X_pd"
      ]
    },
    {
      "cell_type": "code",
      "execution_count": 9,
      "metadata": {
        "colab": {
          "base_uri": "https://localhost:8080/",
          "height": 424
        },
        "id": "0_fRkpAIa8Mx",
        "outputId": "6adc3f4f-9534-451f-b5e9-a0f0fe36d45d"
      },
      "outputs": [
        {
          "output_type": "execute_result",
          "data": {
            "text/plain": [
              "     traveltime  studytime  romantic  freetime  goout  Dalc  Walc\n",
              "0             2          2         0         3      4     1     1\n",
              "1             1          2         0         3      3     1     1\n",
              "2             1          2         0         3      2     2     3\n",
              "3             1          3         1         2      2     1     1\n",
              "4             1          2         0         3      2     1     2\n",
              "..          ...        ...       ...       ...    ...   ...   ...\n",
              "390           1          2         0         5      4     4     5\n",
              "391           2          1         0         4      5     3     4\n",
              "392           1          1         0         5      3     3     3\n",
              "393           3          1         0         4      1     3     4\n",
              "394           1          1         0         2      3     3     3\n",
              "\n",
              "[395 rows x 7 columns]"
            ],
            "text/html": [
              "\n",
              "  <div id=\"df-1f73d2fd-fc9e-44c6-9413-d4f536df1674\">\n",
              "    <div class=\"colab-df-container\">\n",
              "      <div>\n",
              "<style scoped>\n",
              "    .dataframe tbody tr th:only-of-type {\n",
              "        vertical-align: middle;\n",
              "    }\n",
              "\n",
              "    .dataframe tbody tr th {\n",
              "        vertical-align: top;\n",
              "    }\n",
              "\n",
              "    .dataframe thead th {\n",
              "        text-align: right;\n",
              "    }\n",
              "</style>\n",
              "<table border=\"1\" class=\"dataframe\">\n",
              "  <thead>\n",
              "    <tr style=\"text-align: right;\">\n",
              "      <th></th>\n",
              "      <th>traveltime</th>\n",
              "      <th>studytime</th>\n",
              "      <th>romantic</th>\n",
              "      <th>freetime</th>\n",
              "      <th>goout</th>\n",
              "      <th>Dalc</th>\n",
              "      <th>Walc</th>\n",
              "    </tr>\n",
              "  </thead>\n",
              "  <tbody>\n",
              "    <tr>\n",
              "      <th>0</th>\n",
              "      <td>2</td>\n",
              "      <td>2</td>\n",
              "      <td>0</td>\n",
              "      <td>3</td>\n",
              "      <td>4</td>\n",
              "      <td>1</td>\n",
              "      <td>1</td>\n",
              "    </tr>\n",
              "    <tr>\n",
              "      <th>1</th>\n",
              "      <td>1</td>\n",
              "      <td>2</td>\n",
              "      <td>0</td>\n",
              "      <td>3</td>\n",
              "      <td>3</td>\n",
              "      <td>1</td>\n",
              "      <td>1</td>\n",
              "    </tr>\n",
              "    <tr>\n",
              "      <th>2</th>\n",
              "      <td>1</td>\n",
              "      <td>2</td>\n",
              "      <td>0</td>\n",
              "      <td>3</td>\n",
              "      <td>2</td>\n",
              "      <td>2</td>\n",
              "      <td>3</td>\n",
              "    </tr>\n",
              "    <tr>\n",
              "      <th>3</th>\n",
              "      <td>1</td>\n",
              "      <td>3</td>\n",
              "      <td>1</td>\n",
              "      <td>2</td>\n",
              "      <td>2</td>\n",
              "      <td>1</td>\n",
              "      <td>1</td>\n",
              "    </tr>\n",
              "    <tr>\n",
              "      <th>4</th>\n",
              "      <td>1</td>\n",
              "      <td>2</td>\n",
              "      <td>0</td>\n",
              "      <td>3</td>\n",
              "      <td>2</td>\n",
              "      <td>1</td>\n",
              "      <td>2</td>\n",
              "    </tr>\n",
              "    <tr>\n",
              "      <th>...</th>\n",
              "      <td>...</td>\n",
              "      <td>...</td>\n",
              "      <td>...</td>\n",
              "      <td>...</td>\n",
              "      <td>...</td>\n",
              "      <td>...</td>\n",
              "      <td>...</td>\n",
              "    </tr>\n",
              "    <tr>\n",
              "      <th>390</th>\n",
              "      <td>1</td>\n",
              "      <td>2</td>\n",
              "      <td>0</td>\n",
              "      <td>5</td>\n",
              "      <td>4</td>\n",
              "      <td>4</td>\n",
              "      <td>5</td>\n",
              "    </tr>\n",
              "    <tr>\n",
              "      <th>391</th>\n",
              "      <td>2</td>\n",
              "      <td>1</td>\n",
              "      <td>0</td>\n",
              "      <td>4</td>\n",
              "      <td>5</td>\n",
              "      <td>3</td>\n",
              "      <td>4</td>\n",
              "    </tr>\n",
              "    <tr>\n",
              "      <th>392</th>\n",
              "      <td>1</td>\n",
              "      <td>1</td>\n",
              "      <td>0</td>\n",
              "      <td>5</td>\n",
              "      <td>3</td>\n",
              "      <td>3</td>\n",
              "      <td>3</td>\n",
              "    </tr>\n",
              "    <tr>\n",
              "      <th>393</th>\n",
              "      <td>3</td>\n",
              "      <td>1</td>\n",
              "      <td>0</td>\n",
              "      <td>4</td>\n",
              "      <td>1</td>\n",
              "      <td>3</td>\n",
              "      <td>4</td>\n",
              "    </tr>\n",
              "    <tr>\n",
              "      <th>394</th>\n",
              "      <td>1</td>\n",
              "      <td>1</td>\n",
              "      <td>0</td>\n",
              "      <td>2</td>\n",
              "      <td>3</td>\n",
              "      <td>3</td>\n",
              "      <td>3</td>\n",
              "    </tr>\n",
              "  </tbody>\n",
              "</table>\n",
              "<p>395 rows × 7 columns</p>\n",
              "</div>\n",
              "      <button class=\"colab-df-convert\" onclick=\"convertToInteractive('df-1f73d2fd-fc9e-44c6-9413-d4f536df1674')\"\n",
              "              title=\"Convert this dataframe to an interactive table.\"\n",
              "              style=\"display:none;\">\n",
              "        \n",
              "  <svg xmlns=\"http://www.w3.org/2000/svg\" height=\"24px\"viewBox=\"0 0 24 24\"\n",
              "       width=\"24px\">\n",
              "    <path d=\"M0 0h24v24H0V0z\" fill=\"none\"/>\n",
              "    <path d=\"M18.56 5.44l.94 2.06.94-2.06 2.06-.94-2.06-.94-.94-2.06-.94 2.06-2.06.94zm-11 1L8.5 8.5l.94-2.06 2.06-.94-2.06-.94L8.5 2.5l-.94 2.06-2.06.94zm10 10l.94 2.06.94-2.06 2.06-.94-2.06-.94-.94-2.06-.94 2.06-2.06.94z\"/><path d=\"M17.41 7.96l-1.37-1.37c-.4-.4-.92-.59-1.43-.59-.52 0-1.04.2-1.43.59L10.3 9.45l-7.72 7.72c-.78.78-.78 2.05 0 2.83L4 21.41c.39.39.9.59 1.41.59.51 0 1.02-.2 1.41-.59l7.78-7.78 2.81-2.81c.8-.78.8-2.07 0-2.86zM5.41 20L4 18.59l7.72-7.72 1.47 1.35L5.41 20z\"/>\n",
              "  </svg>\n",
              "      </button>\n",
              "      \n",
              "  <style>\n",
              "    .colab-df-container {\n",
              "      display:flex;\n",
              "      flex-wrap:wrap;\n",
              "      gap: 12px;\n",
              "    }\n",
              "\n",
              "    .colab-df-convert {\n",
              "      background-color: #E8F0FE;\n",
              "      border: none;\n",
              "      border-radius: 50%;\n",
              "      cursor: pointer;\n",
              "      display: none;\n",
              "      fill: #1967D2;\n",
              "      height: 32px;\n",
              "      padding: 0 0 0 0;\n",
              "      width: 32px;\n",
              "    }\n",
              "\n",
              "    .colab-df-convert:hover {\n",
              "      background-color: #E2EBFA;\n",
              "      box-shadow: 0px 1px 2px rgba(60, 64, 67, 0.3), 0px 1px 3px 1px rgba(60, 64, 67, 0.15);\n",
              "      fill: #174EA6;\n",
              "    }\n",
              "\n",
              "    [theme=dark] .colab-df-convert {\n",
              "      background-color: #3B4455;\n",
              "      fill: #D2E3FC;\n",
              "    }\n",
              "\n",
              "    [theme=dark] .colab-df-convert:hover {\n",
              "      background-color: #434B5C;\n",
              "      box-shadow: 0px 1px 3px 1px rgba(0, 0, 0, 0.15);\n",
              "      filter: drop-shadow(0px 1px 2px rgba(0, 0, 0, 0.3));\n",
              "      fill: #FFFFFF;\n",
              "    }\n",
              "  </style>\n",
              "\n",
              "      <script>\n",
              "        const buttonEl =\n",
              "          document.querySelector('#df-1f73d2fd-fc9e-44c6-9413-d4f536df1674 button.colab-df-convert');\n",
              "        buttonEl.style.display =\n",
              "          google.colab.kernel.accessAllowed ? 'block' : 'none';\n",
              "\n",
              "        async function convertToInteractive(key) {\n",
              "          const element = document.querySelector('#df-1f73d2fd-fc9e-44c6-9413-d4f536df1674');\n",
              "          const dataTable =\n",
              "            await google.colab.kernel.invokeFunction('convertToInteractive',\n",
              "                                                     [key], {});\n",
              "          if (!dataTable) return;\n",
              "\n",
              "          const docLinkHtml = 'Like what you see? Visit the ' +\n",
              "            '<a target=\"_blank\" href=https://colab.research.google.com/notebooks/data_table.ipynb>data table notebook</a>'\n",
              "            + ' to learn more about interactive tables.';\n",
              "          element.innerHTML = '';\n",
              "          dataTable['output_type'] = 'display_data';\n",
              "          await google.colab.output.renderOutput(dataTable, element);\n",
              "          const docLink = document.createElement('div');\n",
              "          docLink.innerHTML = docLinkHtml;\n",
              "          element.appendChild(docLink);\n",
              "        }\n",
              "      </script>\n",
              "    </div>\n",
              "  </div>\n",
              "  "
            ]
          },
          "metadata": {},
          "execution_count": 9
        }
      ],
      "source": [
        "X1_pd = X_pd.drop(['school', 'sex', 'age', 'famsize', 'Mjob', 'Fjob', 'reason', 'guardian', 'health', 'address', 'Pstatus', 'Medu', 'Fedu', 'failures', 'schoolsup', 'famsup', 'paid', 'activities', 'nursery', 'higher', 'internet', 'famrel', 'absences'], axis=1)\n",
        "X1 = X1_pd.to_numpy()\n",
        "X1 = (X1 - np.mean(X1)) / np.std(X1)\n",
        "X1_pd"
      ]
    },
    {
      "cell_type": "code",
      "execution_count": 10,
      "metadata": {
        "colab": {
          "base_uri": "https://localhost:8080/",
          "height": 424
        },
        "id": "6u93jfN5ZepG",
        "outputId": "562c70d5-4d58-4c8e-a7dc-87b818ea6a1c"
      },
      "outputs": [
        {
          "output_type": "execute_result",
          "data": {
            "text/plain": [
              "     Pstatus  Medu  Fedu  failures  famsup  paid  nursery  internet  absences\n",
              "0          0     4     4         0       0     0        1         0         6\n",
              "1          1     1     1         0       1     0        0         1         4\n",
              "2          1     1     1         3       0     1        1         1        10\n",
              "3          1     4     2         0       1     1        1         1         2\n",
              "4          1     3     3         0       1     1        1         0         4\n",
              "..       ...   ...   ...       ...     ...   ...      ...       ...       ...\n",
              "390        0     2     2         2       1     1        1         0        11\n",
              "391        1     3     1         0       0     0        0         1         3\n",
              "392        1     1     1         3       0     0        0         0         3\n",
              "393        1     3     2         0       0     0        0         1         0\n",
              "394        1     1     1         0       0     0        1         1         5\n",
              "\n",
              "[395 rows x 9 columns]"
            ],
            "text/html": [
              "\n",
              "  <div id=\"df-5b7a9043-fbd1-4ded-b53a-0105be19cc6e\">\n",
              "    <div class=\"colab-df-container\">\n",
              "      <div>\n",
              "<style scoped>\n",
              "    .dataframe tbody tr th:only-of-type {\n",
              "        vertical-align: middle;\n",
              "    }\n",
              "\n",
              "    .dataframe tbody tr th {\n",
              "        vertical-align: top;\n",
              "    }\n",
              "\n",
              "    .dataframe thead th {\n",
              "        text-align: right;\n",
              "    }\n",
              "</style>\n",
              "<table border=\"1\" class=\"dataframe\">\n",
              "  <thead>\n",
              "    <tr style=\"text-align: right;\">\n",
              "      <th></th>\n",
              "      <th>Pstatus</th>\n",
              "      <th>Medu</th>\n",
              "      <th>Fedu</th>\n",
              "      <th>failures</th>\n",
              "      <th>famsup</th>\n",
              "      <th>paid</th>\n",
              "      <th>nursery</th>\n",
              "      <th>internet</th>\n",
              "      <th>absences</th>\n",
              "    </tr>\n",
              "  </thead>\n",
              "  <tbody>\n",
              "    <tr>\n",
              "      <th>0</th>\n",
              "      <td>0</td>\n",
              "      <td>4</td>\n",
              "      <td>4</td>\n",
              "      <td>0</td>\n",
              "      <td>0</td>\n",
              "      <td>0</td>\n",
              "      <td>1</td>\n",
              "      <td>0</td>\n",
              "      <td>6</td>\n",
              "    </tr>\n",
              "    <tr>\n",
              "      <th>1</th>\n",
              "      <td>1</td>\n",
              "      <td>1</td>\n",
              "      <td>1</td>\n",
              "      <td>0</td>\n",
              "      <td>1</td>\n",
              "      <td>0</td>\n",
              "      <td>0</td>\n",
              "      <td>1</td>\n",
              "      <td>4</td>\n",
              "    </tr>\n",
              "    <tr>\n",
              "      <th>2</th>\n",
              "      <td>1</td>\n",
              "      <td>1</td>\n",
              "      <td>1</td>\n",
              "      <td>3</td>\n",
              "      <td>0</td>\n",
              "      <td>1</td>\n",
              "      <td>1</td>\n",
              "      <td>1</td>\n",
              "      <td>10</td>\n",
              "    </tr>\n",
              "    <tr>\n",
              "      <th>3</th>\n",
              "      <td>1</td>\n",
              "      <td>4</td>\n",
              "      <td>2</td>\n",
              "      <td>0</td>\n",
              "      <td>1</td>\n",
              "      <td>1</td>\n",
              "      <td>1</td>\n",
              "      <td>1</td>\n",
              "      <td>2</td>\n",
              "    </tr>\n",
              "    <tr>\n",
              "      <th>4</th>\n",
              "      <td>1</td>\n",
              "      <td>3</td>\n",
              "      <td>3</td>\n",
              "      <td>0</td>\n",
              "      <td>1</td>\n",
              "      <td>1</td>\n",
              "      <td>1</td>\n",
              "      <td>0</td>\n",
              "      <td>4</td>\n",
              "    </tr>\n",
              "    <tr>\n",
              "      <th>...</th>\n",
              "      <td>...</td>\n",
              "      <td>...</td>\n",
              "      <td>...</td>\n",
              "      <td>...</td>\n",
              "      <td>...</td>\n",
              "      <td>...</td>\n",
              "      <td>...</td>\n",
              "      <td>...</td>\n",
              "      <td>...</td>\n",
              "    </tr>\n",
              "    <tr>\n",
              "      <th>390</th>\n",
              "      <td>0</td>\n",
              "      <td>2</td>\n",
              "      <td>2</td>\n",
              "      <td>2</td>\n",
              "      <td>1</td>\n",
              "      <td>1</td>\n",
              "      <td>1</td>\n",
              "      <td>0</td>\n",
              "      <td>11</td>\n",
              "    </tr>\n",
              "    <tr>\n",
              "      <th>391</th>\n",
              "      <td>1</td>\n",
              "      <td>3</td>\n",
              "      <td>1</td>\n",
              "      <td>0</td>\n",
              "      <td>0</td>\n",
              "      <td>0</td>\n",
              "      <td>0</td>\n",
              "      <td>1</td>\n",
              "      <td>3</td>\n",
              "    </tr>\n",
              "    <tr>\n",
              "      <th>392</th>\n",
              "      <td>1</td>\n",
              "      <td>1</td>\n",
              "      <td>1</td>\n",
              "      <td>3</td>\n",
              "      <td>0</td>\n",
              "      <td>0</td>\n",
              "      <td>0</td>\n",
              "      <td>0</td>\n",
              "      <td>3</td>\n",
              "    </tr>\n",
              "    <tr>\n",
              "      <th>393</th>\n",
              "      <td>1</td>\n",
              "      <td>3</td>\n",
              "      <td>2</td>\n",
              "      <td>0</td>\n",
              "      <td>0</td>\n",
              "      <td>0</td>\n",
              "      <td>0</td>\n",
              "      <td>1</td>\n",
              "      <td>0</td>\n",
              "    </tr>\n",
              "    <tr>\n",
              "      <th>394</th>\n",
              "      <td>1</td>\n",
              "      <td>1</td>\n",
              "      <td>1</td>\n",
              "      <td>0</td>\n",
              "      <td>0</td>\n",
              "      <td>0</td>\n",
              "      <td>1</td>\n",
              "      <td>1</td>\n",
              "      <td>5</td>\n",
              "    </tr>\n",
              "  </tbody>\n",
              "</table>\n",
              "<p>395 rows × 9 columns</p>\n",
              "</div>\n",
              "      <button class=\"colab-df-convert\" onclick=\"convertToInteractive('df-5b7a9043-fbd1-4ded-b53a-0105be19cc6e')\"\n",
              "              title=\"Convert this dataframe to an interactive table.\"\n",
              "              style=\"display:none;\">\n",
              "        \n",
              "  <svg xmlns=\"http://www.w3.org/2000/svg\" height=\"24px\"viewBox=\"0 0 24 24\"\n",
              "       width=\"24px\">\n",
              "    <path d=\"M0 0h24v24H0V0z\" fill=\"none\"/>\n",
              "    <path d=\"M18.56 5.44l.94 2.06.94-2.06 2.06-.94-2.06-.94-.94-2.06-.94 2.06-2.06.94zm-11 1L8.5 8.5l.94-2.06 2.06-.94-2.06-.94L8.5 2.5l-.94 2.06-2.06.94zm10 10l.94 2.06.94-2.06 2.06-.94-2.06-.94-.94-2.06-.94 2.06-2.06.94z\"/><path d=\"M17.41 7.96l-1.37-1.37c-.4-.4-.92-.59-1.43-.59-.52 0-1.04.2-1.43.59L10.3 9.45l-7.72 7.72c-.78.78-.78 2.05 0 2.83L4 21.41c.39.39.9.59 1.41.59.51 0 1.02-.2 1.41-.59l7.78-7.78 2.81-2.81c.8-.78.8-2.07 0-2.86zM5.41 20L4 18.59l7.72-7.72 1.47 1.35L5.41 20z\"/>\n",
              "  </svg>\n",
              "      </button>\n",
              "      \n",
              "  <style>\n",
              "    .colab-df-container {\n",
              "      display:flex;\n",
              "      flex-wrap:wrap;\n",
              "      gap: 12px;\n",
              "    }\n",
              "\n",
              "    .colab-df-convert {\n",
              "      background-color: #E8F0FE;\n",
              "      border: none;\n",
              "      border-radius: 50%;\n",
              "      cursor: pointer;\n",
              "      display: none;\n",
              "      fill: #1967D2;\n",
              "      height: 32px;\n",
              "      padding: 0 0 0 0;\n",
              "      width: 32px;\n",
              "    }\n",
              "\n",
              "    .colab-df-convert:hover {\n",
              "      background-color: #E2EBFA;\n",
              "      box-shadow: 0px 1px 2px rgba(60, 64, 67, 0.3), 0px 1px 3px 1px rgba(60, 64, 67, 0.15);\n",
              "      fill: #174EA6;\n",
              "    }\n",
              "\n",
              "    [theme=dark] .colab-df-convert {\n",
              "      background-color: #3B4455;\n",
              "      fill: #D2E3FC;\n",
              "    }\n",
              "\n",
              "    [theme=dark] .colab-df-convert:hover {\n",
              "      background-color: #434B5C;\n",
              "      box-shadow: 0px 1px 3px 1px rgba(0, 0, 0, 0.15);\n",
              "      filter: drop-shadow(0px 1px 2px rgba(0, 0, 0, 0.3));\n",
              "      fill: #FFFFFF;\n",
              "    }\n",
              "  </style>\n",
              "\n",
              "      <script>\n",
              "        const buttonEl =\n",
              "          document.querySelector('#df-5b7a9043-fbd1-4ded-b53a-0105be19cc6e button.colab-df-convert');\n",
              "        buttonEl.style.display =\n",
              "          google.colab.kernel.accessAllowed ? 'block' : 'none';\n",
              "\n",
              "        async function convertToInteractive(key) {\n",
              "          const element = document.querySelector('#df-5b7a9043-fbd1-4ded-b53a-0105be19cc6e');\n",
              "          const dataTable =\n",
              "            await google.colab.kernel.invokeFunction('convertToInteractive',\n",
              "                                                     [key], {});\n",
              "          if (!dataTable) return;\n",
              "\n",
              "          const docLinkHtml = 'Like what you see? Visit the ' +\n",
              "            '<a target=\"_blank\" href=https://colab.research.google.com/notebooks/data_table.ipynb>data table notebook</a>'\n",
              "            + ' to learn more about interactive tables.';\n",
              "          element.innerHTML = '';\n",
              "          dataTable['output_type'] = 'display_data';\n",
              "          await google.colab.output.renderOutput(dataTable, element);\n",
              "          const docLink = document.createElement('div');\n",
              "          docLink.innerHTML = docLinkHtml;\n",
              "          element.appendChild(docLink);\n",
              "        }\n",
              "      </script>\n",
              "    </div>\n",
              "  </div>\n",
              "  "
            ]
          },
          "metadata": {},
          "execution_count": 10
        }
      ],
      "source": [
        "X2_pd = X_pd.drop(['school', 'sex', 'age', 'famsize', 'Mjob', 'Fjob', 'reason', 'guardian', 'health', 'address', 'schoolsup', 'activities', 'higher', 'famrel', 'traveltime', 'studytime', 'romantic', 'freetime', 'goout', 'Dalc', 'Walc'], axis=1)\n",
        "X2 = X2_pd.to_numpy()\n",
        "X2 = (X2 - np.mean(X2)) / np.std(X2)\n",
        "X2_pd"
      ]
    },
    {
      "cell_type": "markdown",
      "metadata": {
        "id": "tX7VbMiegvfb"
      },
      "source": [
        "#Model 1 - Logistic Regression"
      ]
    },
    {
      "cell_type": "markdown",
      "metadata": {
        "id": "uPk6E9EOgxOg"
      },
      "source": [
        "##Model 1 Code"
      ]
    },
    {
      "cell_type": "code",
      "execution_count": 11,
      "metadata": {
        "colab": {
          "base_uri": "https://localhost:8080/"
        },
        "id": "ehRftnpzhTbC",
        "outputId": "dc06a449-3edc-4729-e862-94eed1eec52e"
      },
      "outputs": [
        {
          "output_type": "stream",
          "name": "stdout",
          "text": [
            "Accuracy: 0.46835443037974683\n"
          ]
        }
      ],
      "source": [
        "#Split the data\n",
        "X_train, X_test, Y_train, Y_test = train_test_split(X, Y, test_size=0.2)\n",
        "X_train.shape, X_test.shape, Y_train.shape, Y_test.shape\n",
        "\n",
        "#train the model\n",
        "clf = LogisticRegression(solver='newton-cg',C=1.0, max_iter=1000) #Using best results\n",
        "clf.fit(X_train, Y_train)\n",
        "\n",
        "#Predict the response for test dataset\n",
        "Y_pred = clf.predict(X_test)\n",
        "\n",
        "# Model Accuracy: how often the classifier is correct\n",
        "print(\"Accuracy:\",metrics.accuracy_score(Y_test, Y_pred))"
      ]
    },
    {
      "cell_type": "code",
      "execution_count": 12,
      "metadata": {
        "colab": {
          "base_uri": "https://localhost:8080/",
          "height": 506
        },
        "id": "I3-azLt5hTbE",
        "outputId": "542267a5-6f65-4c78-a61d-0965c3df3581"
      },
      "outputs": [
        {
          "output_type": "display_data",
          "data": {
            "text/plain": [
              "<Figure size 640x480 with 2 Axes>"
            ],
            "image/png": "[encoded data removed]"
          },
          "metadata": {}
        }
      ],
      "source": [
        "cm = confusion_matrix(Y_test, Y_pred)\n",
        "cm_labels = [\"[0,4]\",\"(4,8]\",\"(8,12]\",\"(12,16]\",\"(16,20]\"]\n",
        "plot_confusion_matrix(cm, cm_labels)  \n",
        "plt.show()"
      ]
    },
    {
      "cell_type": "code",
      "execution_count": 13,
      "metadata": {
        "id": "KFMq9NLdHi1u"
      },
      "outputs": [],
      "source": [
        "#s is solver, c is C, m is max_iter\n",
        "def LogisticLooper(s, c, m, X, Y):\n",
        "  Accuracy = np.zeros(100)\n",
        "  for x in range(100):\n",
        "    #Split the data\n",
        "    X_train, X_test, y_train, y_test = train_test_split(X, Y, test_size=0.2)\n",
        "    X_train.shape, X_test.shape, y_train.shape, y_test.shape\n",
        "    #train the model (Here you should change the hyperparameters)\n",
        "    clf = LogisticRegression(solver=s, C=c, max_iter=m)\n",
        "    clf.fit(X_train, y_train) # Train Logistic Regression Classifer\n",
        "    #Predict the response for test dataset\n",
        "    y_pred = clf.predict(X_test)\n",
        "    Accuracy[x] = float(metrics.accuracy_score(y_test, y_pred))\n",
        "  print(np.average(Accuracy))"
      ]
    },
    {
      "cell_type": "code",
      "execution_count": 14,
      "metadata": {
        "colab": {
          "base_uri": "https://localhost:8080/"
        },
        "id": "ZH5Y0M6hIXG4",
        "outputId": "258b4e00-cb56-4c6b-f364-1e47295607f4"
      },
      "outputs": [
        {
          "output_type": "stream",
          "name": "stdout",
          "text": [
            "\n",
            "s=newton-cg, c=10.0\n",
            "0.4162025316455696\n",
            "0.41772151898734167\n",
            "0.4091139240506329\n",
            "\n",
            "s=newton-cg, c=1.0\n",
            "0.42696202531645566\n",
            "0.4231645569620253\n",
            "0.42683544303797466\n",
            "\n",
            "s=newton-cg, c=0.1\n",
            "0.4146835443037975\n",
            "0.4205063291139241\n",
            "0.42177215189873424\n"
          ]
        }
      ],
      "source": [
        "#c = 10.0, 1.0, 0.1   default 1.0\n",
        "#s = 'newton-cg', 'lbfgs', 'liblinear', 'sag', 'saga'   default 'lbfgs'\n",
        "#m = 10000, 1000, 100, 10   default 100\n",
        "\n",
        "#newton-cg, m=10 does not converge\n",
        "print('\\ns=newton-cg, c=10.0')\n",
        "LogisticLooper('newton-cg', 10.0, 10000, X, Y)\n",
        "LogisticLooper('newton-cg', 10.0, 1000, X, Y)\n",
        "LogisticLooper('newton-cg', 10.0, 100, X, Y)\n",
        "#LogisticLooper('newton-cg', 10.0, 10, X, Y)\n",
        "print('\\ns=newton-cg, c=1.0')\n",
        "LogisticLooper('newton-cg', 1.0, 10000, X, Y)\n",
        "LogisticLooper('newton-cg', 1.0, 1000, X, Y)\n",
        "LogisticLooper('newton-cg', 1.0, 100, X, Y)\n",
        "#LogisticLooper('newton-cg', 1.0, 10, X, Y)\n",
        "print('\\ns=newton-cg, c=0.1')\n",
        "LogisticLooper('newton-cg', 0.1, 10000, X, Y)\n",
        "LogisticLooper('newton-cg', 0.1, 1000, X, Y)\n",
        "LogisticLooper('newton-cg', 0.1, 100, X, Y)\n",
        "#LogisticLooper('newton-cg', 0.1, 10, X, Y)"
      ]
    },
    {
      "cell_type": "code",
      "execution_count": 15,
      "metadata": {
        "colab": {
          "base_uri": "https://localhost:8080/"
        },
        "id": "AeuJ0IhsIXFU",
        "outputId": "a5a973f5-12b1-4966-9ec5-3af3277488bc"
      },
      "outputs": [
        {
          "output_type": "stream",
          "name": "stdout",
          "text": [
            "\n",
            "s=lbfgs, c=10.0\n",
            "0.42240506329113925\n",
            "0.40721518987341776\n",
            "\n",
            "s=lbfgs, c=1.0\n",
            "0.42405063291139244\n",
            "0.4237974683544304\n",
            "\n",
            "s=lbfgs, c=0.1\n",
            "0.4064556962025317\n",
            "0.41417721518987344\n"
          ]
        }
      ],
      "source": [
        "#lbfgs, m=100 does not converge\n",
        "print('\\ns=lbfgs, c=10.0')\n",
        "LogisticLooper('lbfgs', 10.0, 10000, X, Y)\n",
        "LogisticLooper('lbfgs', 10.0, 1000, X, Y)\n",
        "#LogisticLooper('lbfgs', 10.0, 100, X, Y)\n",
        "#LogisticLooper('lbfgs', 10.0, 10, X, Y)\n",
        "print('\\ns=lbfgs, c=1.0')\n",
        "LogisticLooper('lbfgs', 1.0, 10000, X, Y)\n",
        "LogisticLooper('lbfgs', 1.0, 1000, X, Y)\n",
        "#LogisticLooper('lbfgs', 1.0, 100, X, Y)\n",
        "#LogisticLooper('lbfgs', 1.0, 10, X, Y)\n",
        "print('\\ns=lbfgs, c=0.1')\n",
        "LogisticLooper('lbfgs', 0.1, 10000, X, Y)\n",
        "LogisticLooper('lbfgs', 0.1, 1000, X, Y)\n",
        "#LogisticLooper('lbfgs', 0.1, 100, X, Y)\n",
        "#LogisticLooper('lbfgs', 1.0, 10, X, Y)"
      ]
    },
    {
      "cell_type": "code",
      "execution_count": 16,
      "metadata": {
        "colab": {
          "base_uri": "https://localhost:8080/"
        },
        "id": "6EQFuE8mLvZC",
        "outputId": "fead68dc-a9f7-44b6-d5fb-a5c238598f4e"
      },
      "outputs": [
        {
          "output_type": "stream",
          "name": "stdout",
          "text": [
            "\n",
            "s=liblinear, c=10.0\n",
            "0.4212658227848102\n",
            "0.4324050632911392\n",
            "0.41493670886075945\n",
            "\n",
            "s=liblinear, c=1.0\n",
            "0.4188607594936709\n",
            "0.41493670886075945\n",
            "0.4222784810126582\n",
            "\n",
            "s=liblinear, c=0.1\n",
            "0.410253164556962\n",
            "0.40329113924050625\n",
            "0.40050632911392403\n",
            "0.4137974683544304\n"
          ]
        }
      ],
      "source": [
        "#liblinear, m=10 converges only when c=0.1\n",
        "print('\\ns=liblinear, c=10.0')\n",
        "LogisticLooper('liblinear', 10.0, 10000, X, Y)\n",
        "LogisticLooper('liblinear', 10.0, 1000, X, Y)\n",
        "LogisticLooper('liblinear', 10.0, 100, X, Y)\n",
        "#LogisticLooper('liblinear', 10.0, 10, X, Y)\n",
        "\n",
        "print('\\ns=liblinear, c=1.0')\n",
        "LogisticLooper('liblinear', 1.0, 10000, X, Y)\n",
        "LogisticLooper('liblinear', 1.0, 1000, X, Y)\n",
        "LogisticLooper('liblinear', 1.0, 100, X, Y)\n",
        "#LogisticLooper('liblinear', 1.0, 10, X, Y)\n",
        "\n",
        "print('\\ns=liblinear, c=0.1')\n",
        "LogisticLooper('liblinear', 0.1, 10000, X, Y)\n",
        "LogisticLooper('liblinear', 0.1, 1000, X, Y)\n",
        "LogisticLooper('liblinear', 0.1, 100, X, Y)\n",
        "LogisticLooper('liblinear', 0.1, 10, X, Y)"
      ]
    },
    {
      "cell_type": "code",
      "execution_count": 17,
      "metadata": {
        "colab": {
          "base_uri": "https://localhost:8080/"
        },
        "id": "5G93RPM2Lvbe",
        "outputId": "9495545c-bd13-457c-906d-eb08f63f4b84"
      },
      "outputs": [
        {
          "output_type": "stream",
          "name": "stdout",
          "text": [
            "\n",
            "s=sag, c=10.0\n",
            "0.4177215189873417\n",
            "\n",
            "s=sag, c=1.0\n",
            "0.4222784810126583\n",
            "\n",
            "s=sag, c=0.1\n",
            "0.4269620253164558\n",
            "0.4130379746835443\n"
          ]
        }
      ],
      "source": [
        "#sag, m=1000 converges when c=0.1, lower does not converge\n",
        "print('\\ns=sag, c=10.0')\n",
        "LogisticLooper('sag', 10.0, 10000, X, Y)\n",
        "#LogisticLooper('sag', 10.0, 1000, X, Y)\n",
        "#LogisticLooper('sag', 10.0, 100, X, Y)\n",
        "#LogisticLooper('sag', 10.0, 10, X, Y)\n",
        "print('\\ns=sag, c=1.0')\n",
        "LogisticLooper('sag', 1.0, 10000, X, Y)\n",
        "#LogisticLooper('sag', 1.0, 1000, X, Y)\n",
        "#LogisticLooper('sag', 1.0, 100, X, Y)\n",
        "#LogisticLooper('sag', 1.0, 10, X, Y)\n",
        "print('\\ns=sag, c=0.1')\n",
        "LogisticLooper('sag', 0.1, 10000, X, Y)\n",
        "LogisticLooper('sag', 0.1, 1000, X, Y)\n",
        "#LogisticLooper('sag', 0.1, 100, X, Y)\n",
        "#LogisticLooper('sag', 0.1, 10, X, Y)"
      ]
    },
    {
      "cell_type": "code",
      "execution_count": 18,
      "metadata": {
        "colab": {
          "base_uri": "https://localhost:8080/"
        },
        "id": "WEHthV5fNDSg",
        "outputId": "b72d2dcd-f9b0-4523-ecdf-7963cc052f2e"
      },
      "outputs": [
        {
          "output_type": "stream",
          "name": "stdout",
          "text": [
            "\n",
            "s=saga, c=10.0\n",
            "0.4207594936708861\n",
            "\n",
            "s=saga, c=1.0\n",
            "0.4222784810126582\n",
            "0.4250632911392405\n",
            "\n",
            "s=saga, c=0.1\n",
            "0.4143037974683545\n"
          ]
        },
        {
          "output_type": "stream",
          "name": "stderr",
          "text": [
            "/usr/local/lib/python3.10/dist-packages/sklearn/linear_model/_sag.py:350: ConvergenceWarning: The max_iter was reached which means the coef_ did not converge\n",
            "  warnings.warn(\n"
          ]
        },
        {
          "output_type": "stream",
          "name": "stdout",
          "text": [
            "0.41556962025316446\n"
          ]
        }
      ],
      "source": [
        "#saga\n",
        "print('\\ns=saga, c=10.0')\n",
        "LogisticLooper('saga', 10.0, 10000, X, Y)\n",
        "#LogisticLooper('saga', 10.0, 1000, X, Y)\n",
        "#LogisticLooper('saga', 10.0, 100, X, Y)\n",
        "#LogisticLooper('saga', 10.0, 10, X, Y)\n",
        "print('\\ns=saga, c=1.0')\n",
        "LogisticLooper('saga', 1.0, 10000, X, Y)\n",
        "#LogisticLooper('saga', 1.0, 1000, X, Y) #failed to converge 3/100\n",
        "#LogisticLooper('saga', 1.0, 1100, X, Y) #failed to converge 1/100\n",
        "#LogisticLooper('saga', 1.0, 1200, X, Y) #failed to converge 2/100\n",
        "LogisticLooper('saga', 1.0, 1500, X, Y) #converged\n",
        "#LogisticLooper('saga', 1.0, 100, X, Y)\n",
        "#LogisticLooper('saga', 1.0, 10, X, Y)\n",
        "print('\\ns=saga, c=0.1')\n",
        "LogisticLooper('saga', 0.1, 10000, X, Y)\n",
        "LogisticLooper('saga', 0.1, 1000, X, Y)\n",
        "#LogisticLooper('saga', 0.1, 100, X, Y)\n",
        "#LogisticLooper('saga', 0.1, 10, X, Y)"
      ]
    },
    {
      "cell_type": "markdown",
      "metadata": {
        "id": "I51ZNPCgLvoV"
      },
      "source": [
        "##Model 1 Results"
      ]
    },
    {
      "cell_type": "markdown",
      "metadata": {
        "id": "cYPPRCJpT0hh"
      },
      "source": [
        "The maximum accuracy of any solver was obtained with the 'newton-cg' solver : 0.431392\n",
        "\n",
        "This maximum exceeds the maximum of the next best solver by 0.000127, or 0.01% less accurate.\n",
        "\n",
        "This maximum exceeds the maximum of the second-next best solver by 0.005949, or 0.59% less accurate.\n",
        "\n",
        "This maximum was obtained by using C=1.0, max_iter=1000. The next best configuration (C=1.0, max_iter=10000) differed by 0.000633, or 0.06% less accurate.\n",
        "\n",
        "---\n",
        "\n",
        "Even the best configuration we could find is insufficinet to be a reliable predictor for a given student's G3 grade, being that it is only 43.1% accurate in predicting our test set. These poor results are possibly due the logistic regressor being ill-fit for our data, in which case we should test the data set using an SVM regressor as well. The results may also be flawed due to red herrings in the data; if this is the case, we should choose out input features that we would have the best correlation to the student's final grade. It is also possible that all correlations between the input features and the final grade are weak, in which case our studies are unlikely to produce a viable model."
      ]
    },
    {
      "cell_type": "markdown",
      "metadata": {
        "id": "-TOI3rR7Lxxm"
      },
      "source": [
        "Hyperparameter combinations data dump. Values represent the average accuracy of a hyperparameter configuration over 100 iterations.\n",
        "\n",
        "Lines prepended by solver (s) and C (c) settings. Values listed in-line in order of m=10000, 1000 (or 1500), 100, 10. Missing values mean the tests with lower m did not converge.\n",
        "\n",
        "---\n",
        "\n",
        "s=newton-cg, c=10.0\n",
        "0.4140506329113924\n",
        "0.42265822784810125\n",
        "0.40531645569620245\n",
        "\n",
        "s=newton-cg, c=1.0\n",
        "0.43075949367088606\n",
        "0.4313924050632912\n",
        "0.4253164556962027\n",
        "\n",
        "s=newton-cg, c=0.1\n",
        "0.41506329113924045\n",
        "0.40734177215189865\n",
        "0.42050632911392405\n",
        "\n",
        "s=lbfgs, c=10.0\n",
        "0.41645569620253164\n",
        "0.41265822784810124\n",
        "\n",
        "s=lbfgs, c=1.0\n",
        "0.42379746835443044\n",
        "0.4254430379746835\n",
        "\n",
        "s=lbfgs, c=0.1\n",
        "0.4189873417721518\n",
        "0.41189873417721523\n",
        "\n",
        "s=liblinear, c=10.0\n",
        "0.4064556962025317\n",
        "0.41620253164556964\n",
        "0.40607594936708863\n",
        "\n",
        "s=liblinear, c=1.0\n",
        "0.4312658227848102\n",
        "0.4143037974683545\n",
        "0.41683544303797476\n",
        "\n",
        "s=liblinear, c=0.1\n",
        "0.4083544303797469\n",
        "0.4068354430379747\n",
        "0.40987341772151903\n",
        "0.40506329113924044\n",
        "\n",
        "s=sag, c=10.0\n",
        "0.4217721518987341\n",
        "\n",
        "s=sag, c=1.0\n",
        "0.4249367088607595\n",
        "\n",
        "s=sag, c=0.1\n",
        "0.4072151898734176\n",
        "0.4116455696202532\n",
        "\n",
        "s=saga, c=10.0\n",
        "0.41164556962025306\n",
        "\n",
        "s=saga, c=1.0\n",
        "0.42417721518987334\n",
        "0.4248101265822784\n",
        "\n",
        "s=saga, c=0.1\n",
        "0.4215189873417722\n",
        "0.41417721518987344"
      ]
    },
    {
      "cell_type": "markdown",
      "source": [
        "##Model 1 Group 1"
      ],
      "metadata": {
        "id": "LN9gXE3qmdOm"
      }
    },
    {
      "cell_type": "code",
      "source": [
        "#Split the data\n",
        "X_train, X_test, Y_train, Y_test = train_test_split(X1, Y, test_size=0.2)\n",
        "X_train.shape, X_test.shape, Y_train.shape, Y_test.shape\n",
        "\n",
        "#train the model\n",
        "clf = LogisticRegression(solver='newton-cg',C=1.0, max_iter=1000) #Using best results\n",
        "clf.fit(X_train, Y_train)\n",
        "\n",
        "#Predict the response for test dataset\n",
        "Y_pred = clf.predict(X_test)\n",
        "\n",
        "# Model Accuracy: how often the classifier is correct\n",
        "print(\"Accuracy:\",metrics.accuracy_score(Y_test, Y_pred))"
      ],
      "metadata": {
        "colab": {
          "base_uri": "https://localhost:8080/"
        },
        "outputId": "f3d2aad0-4043-4b05-b302-37e8d239b146",
        "id": "gZXRBK0FmyEx"
      },
      "execution_count": 19,
      "outputs": [
        {
          "output_type": "stream",
          "name": "stdout",
          "text": [
            "Accuracy: 0.379746835443038\n"
          ]
        }
      ]
    },
    {
      "cell_type": "code",
      "source": [
        "cm = confusion_matrix(Y_test, Y_pred)\n",
        "cm_labels = [\"[0,4]\",\"(4,8]\",\"(8,12]\",\"(12,16]\",\"(16,20]\"]\n",
        "plot_confusion_matrix(cm, cm_labels)  \n",
        "plt.show()"
      ],
      "metadata": {
        "colab": {
          "base_uri": "https://localhost:8080/",
          "height": 506
        },
        "outputId": "f1fb6061-de0e-4e62-d167-454476954914",
        "id": "HAwaLKORmyEy"
      },
      "execution_count": 20,
      "outputs": [
        {
          "output_type": "display_data",
          "data": {
            "text/plain": [
              "<Figure size 640x480 with 2 Axes>"
            ],
            "image/png": "[encoded data removed]"
          },
          "metadata": {}
        }
      ]
    },
    {
      "cell_type": "code",
      "source": [
        "#s is solver, c is C, m is max_iter\n",
        "def LogisticLooper(s, c, m, X, Y):\n",
        "  Accuracy = np.zeros(100)\n",
        "  for x in range(100):\n",
        "    #Split the data\n",
        "    X_train, X_test, y_train, y_test = train_test_split(X, Y, test_size=0.2)\n",
        "    X_train.shape, X_test.shape, y_train.shape, y_test.shape\n",
        "    #train the model (Here you should change the hyperparameters)\n",
        "    clf = LogisticRegression(solver=s, C=c, max_iter=m)\n",
        "    clf.fit(X_train, y_train) # Train Logistic Regression Classifer\n",
        "    #Predict the response for test dataset\n",
        "    y_pred = clf.predict(X_test)\n",
        "    Accuracy[x] = float(metrics.accuracy_score(y_test, y_pred))\n",
        "  print(np.average(Accuracy))"
      ],
      "metadata": {
        "id": "zIcBMvBbmyEz"
      },
      "execution_count": 21,
      "outputs": []
    },
    {
      "cell_type": "code",
      "source": [
        "#c = 10.0, 1.0, 0.1   default 1.0\n",
        "#s = 'newton-cg', 'lbfgs', 'liblinear', 'sag', 'saga'   default 'lbfgs'\n",
        "#m = 10000, 1000, 100, 10   default 100\n",
        "\n",
        "#newton-cg, m=10 does not converge\n",
        "print('\\ns=newton-cg, c=10.0')\n",
        "LogisticLooper('newton-cg', 10.0, 10000, X1, Y)\n",
        "LogisticLooper('newton-cg', 10.0, 1000, X1, Y)\n",
        "LogisticLooper('newton-cg', 10.0, 100, X1, Y)\n",
        "#LogisticLooper('newton-cg', 10.0, 10, X1, Y)\n",
        "print('\\ns=newton-cg, c=1.0')\n",
        "LogisticLooper('newton-cg', 1.0, 10000, X1, Y)\n",
        "LogisticLooper('newton-cg', 1.0, 1000, X1, Y)\n",
        "LogisticLooper('newton-cg', 1.0, 100, X1, Y)\n",
        "#LogisticLooper('newton-cg', 1.0, 10, X1, Y)\n",
        "print('\\ns=newton-cg, c=0.1')\n",
        "LogisticLooper('newton-cg', 0.1, 10000, X1, Y)\n",
        "LogisticLooper('newton-cg', 0.1, 1000, X1, Y)\n",
        "LogisticLooper('newton-cg', 0.1, 100, X1, Y)\n",
        "#LogisticLooper('newton-cg', 0.1, 10, X1, Y)"
      ],
      "metadata": {
        "colab": {
          "base_uri": "https://localhost:8080/"
        },
        "outputId": "666a91fd-5d2a-48a5-bdfa-bba35b244b0e",
        "id": "-MUDiT9OmyEz"
      },
      "execution_count": 22,
      "outputs": [
        {
          "output_type": "stream",
          "name": "stdout",
          "text": [
            "\n",
            "s=newton-cg, c=10.0\n",
            "0.3713924050632911\n",
            "0.3849367088607595\n",
            "0.37164556962025314\n",
            "\n",
            "s=newton-cg, c=1.0\n",
            "0.3751898734177215\n",
            "0.3687341772151899\n",
            "0.37544303797468354\n",
            "\n",
            "s=newton-cg, c=0.1\n",
            "0.38367088607594946\n",
            "0.3899999999999999\n",
            "0.3846835443037974\n"
          ]
        }
      ]
    },
    {
      "cell_type": "code",
      "source": [
        "#lbfgs, m=100 does not converge\n",
        "print('\\ns=lbfgs, c=10.0')\n",
        "LogisticLooper('lbfgs', 10.0, 10000, X1, Y)\n",
        "LogisticLooper('lbfgs', 10.0, 1000, X1, Y)\n",
        "LogisticLooper('lbfgs', 10.0, 100, X1, Y)\n",
        "#LogisticLooper('lbfgs', 10.0, 10, X1, Y)\n",
        "print('\\ns=lbfgs, c=1.0')\n",
        "LogisticLooper('lbfgs', 1.0, 10000, X1, Y)\n",
        "LogisticLooper('lbfgs', 1.0, 1000, X1, Y)\n",
        "LogisticLooper('lbfgs', 1.0, 100, X1, Y)\n",
        "#LogisticLooper('lbfgs', 1.0, 10, X1, Y)\n",
        "print('\\ns=lbfgs, c=0.1')\n",
        "LogisticLooper('lbfgs', 0.1, 10000, X1, Y)\n",
        "LogisticLooper('lbfgs', 0.1, 1000, X1, Y)\n",
        "LogisticLooper('lbfgs', 0.1, 100, X1, Y)\n",
        "#LogisticLooper('lbfgs', 1.0, 10, X1, Y)"
      ],
      "metadata": {
        "colab": {
          "base_uri": "https://localhost:8080/"
        },
        "outputId": "33184258-3a5f-4eae-cc68-83768d270ceb",
        "id": "NkOAXAtDmyE0"
      },
      "execution_count": 23,
      "outputs": [
        {
          "output_type": "stream",
          "name": "stdout",
          "text": [
            "\n",
            "s=lbfgs, c=10.0\n",
            "0.37544303797468354\n",
            "0.3708860759493671\n"
          ]
        },
        {
          "output_type": "stream",
          "name": "stderr",
          "text": [
            "/usr/local/lib/python3.10/dist-packages/sklearn/linear_model/_logistic.py:458: ConvergenceWarning: lbfgs failed to converge (status=1):\n",
            "STOP: TOTAL NO. of ITERATIONS REACHED LIMIT.\n",
            "\n",
            "Increase the number of iterations (max_iter) or scale the data as shown in:\n",
            "    https://scikit-learn.org/stable/modules/preprocessing.html\n",
            "Please also refer to the documentation for alternative solver options:\n",
            "    https://scikit-learn.org/stable/modules/linear_model.html#logistic-regression\n",
            "  n_iter_i = _check_optimize_result(\n"
          ]
        },
        {
          "output_type": "stream",
          "name": "stdout",
          "text": [
            "0.3770886075949366\n",
            "\n",
            "s=lbfgs, c=1.0\n",
            "0.38164556962025314\n",
            "0.36746835443037973\n",
            "0.3812658227848102\n",
            "\n",
            "s=lbfgs, c=0.1\n",
            "0.3920253164556962\n",
            "0.38481012658227853\n",
            "0.39\n"
          ]
        }
      ]
    },
    {
      "cell_type": "code",
      "source": [
        "#liblinear, m=10 converges only when c=0.1\n",
        "print('\\ns=liblinear, c=10.0')\n",
        "LogisticLooper('liblinear', 10.0, 10000, X1, Y)\n",
        "LogisticLooper('liblinear', 10.0, 1000, X1, Y)\n",
        "LogisticLooper('liblinear', 10.0, 100, X1, Y)\n",
        "LogisticLooper('liblinear', 10.0, 10, X1, Y)\n",
        "\n",
        "print('\\ns=liblinear, c=1.0')\n",
        "LogisticLooper('liblinear', 1.0, 10000, X1, Y)\n",
        "LogisticLooper('liblinear', 1.0, 1000, X1, Y)\n",
        "LogisticLooper('liblinear', 1.0, 100, X1, Y)\n",
        "LogisticLooper('liblinear', 1.0, 10, X1, Y)\n",
        "\n",
        "print('\\ns=liblinear, c=0.1')\n",
        "LogisticLooper('liblinear', 0.1, 10000, X1, Y)\n",
        "LogisticLooper('liblinear', 0.1, 1000, X1, Y)\n",
        "LogisticLooper('liblinear', 0.1, 100, X1, Y)\n",
        "LogisticLooper('liblinear', 0.1, 10, X1, Y)"
      ],
      "metadata": {
        "colab": {
          "base_uri": "https://localhost:8080/"
        },
        "outputId": "7b7a280e-5ddf-4e26-aa7f-93044ef40db4",
        "id": "8HdgkKs6myE1"
      },
      "execution_count": 24,
      "outputs": [
        {
          "output_type": "stream",
          "name": "stdout",
          "text": [
            "\n",
            "s=liblinear, c=10.0\n",
            "0.38253164556962027\n",
            "0.37784810126582274\n",
            "0.37556962025316454\n",
            "0.380253164556962\n",
            "\n",
            "s=liblinear, c=1.0\n",
            "0.3783544303797469\n",
            "0.38810126582278487\n",
            "0.3830379746835442\n",
            "0.37746835443037974\n",
            "\n",
            "s=liblinear, c=0.1\n",
            "0.39860759493670883\n",
            "0.38848101265822776\n",
            "0.3948101265822784\n",
            "0.39291139240506334\n"
          ]
        }
      ]
    },
    {
      "cell_type": "code",
      "source": [
        "#sag, m=1000 converges when c=0.1, lower does not converge\n",
        "print('\\ns=sag, c=10.0')\n",
        "LogisticLooper('sag', 10.0, 10000, X1, Y)\n",
        "LogisticLooper('sag', 10.0, 1000, X1, Y)\n",
        "#LogisticLooper('sag', 10.0, 100, X1, Y)\n",
        "#LogisticLooper('sag', 10.0, 10, X1, Y)\n",
        "print('\\ns=sag, c=1.0')\n",
        "LogisticLooper('sag', 1.0, 10000, X1, Y)\n",
        "LogisticLooper('sag', 1.0, 1000, X1, Y)\n",
        "LogisticLooper('sag', 1.0, 100, X1, Y)\n",
        "#LogisticLooper('sag', 1.0, 10, X1, Y)\n",
        "print('\\ns=sag, c=0.1')\n",
        "LogisticLooper('sag', 0.1, 10000, X1, Y)\n",
        "LogisticLooper('sag', 0.1, 1000, X1, Y)\n",
        "LogisticLooper('sag', 0.1, 100, X1, Y)\n",
        "#LogisticLooper('sag', 0.1, 10, X1, Y)"
      ],
      "metadata": {
        "colab": {
          "base_uri": "https://localhost:8080/"
        },
        "outputId": "523e115a-74b2-46ba-c9b3-ab4db0da4314",
        "id": "ZDL2hn6DmyE1"
      },
      "execution_count": 25,
      "outputs": [
        {
          "output_type": "stream",
          "name": "stdout",
          "text": [
            "\n",
            "s=sag, c=10.0\n",
            "0.38139240506329114\n",
            "0.37607594936708866\n",
            "\n",
            "s=sag, c=1.0\n",
            "0.37468354430379747\n",
            "0.3788607594936708\n",
            "0.38215189873417726\n",
            "\n",
            "s=sag, c=0.1\n",
            "0.38949367088607595\n",
            "0.39949367088607596\n",
            "0.39481012658227854\n"
          ]
        }
      ]
    },
    {
      "cell_type": "code",
      "source": [
        "#saga\n",
        "print('\\ns=saga, c=10.0')\n",
        "LogisticLooper('saga', 10.0, 10000, X1, Y)\n",
        "LogisticLooper('saga', 10.0, 1000, X1, Y)\n",
        "#LogisticLooper('saga', 10.0, 100, X1, Y)\n",
        "#LogisticLooper('saga', 10.0, 10, X1, Y)\n",
        "print('\\ns=saga, c=1.0')\n",
        "LogisticLooper('saga', 1.0, 10000, X1, Y)\n",
        "LogisticLooper('saga', 1.0, 1000, X1, Y)\n",
        "#LogisticLooper('saga', 1.0, 100, X1, Y)\n",
        "#LogisticLooper('saga', 1.0, 10, X1, Y)\n",
        "print('\\ns=saga, c=0.1')\n",
        "LogisticLooper('saga', 0.1, 10000, X1, Y)\n",
        "LogisticLooper('saga', 0.1, 1000, X1, Y)\n",
        "LogisticLooper('saga', 0.1, 100, X1, Y)\n",
        "#LogisticLooper('saga', 0.1, 10, X1, Y)"
      ],
      "metadata": {
        "colab": {
          "base_uri": "https://localhost:8080/"
        },
        "id": "jMs7yWSjmyE1",
        "outputId": "94999f79-a5ff-4a44-b851-04f3ed705e7d"
      },
      "execution_count": 26,
      "outputs": [
        {
          "output_type": "stream",
          "name": "stdout",
          "text": [
            "\n",
            "s=saga, c=10.0\n",
            "0.37063291139240506\n",
            "0.3813924050632911\n",
            "\n",
            "s=saga, c=1.0\n",
            "0.3756962025316456\n",
            "0.3759493670886076\n",
            "\n",
            "s=saga, c=0.1\n",
            "0.39253164556962017\n",
            "0.37987341772151906\n",
            "0.3913924050632911\n"
          ]
        }
      ]
    },
    {
      "cell_type": "markdown",
      "source": [
        "##Model 1 Group 1 Results"
      ],
      "metadata": {
        "id": "pXzOXF6Umk6p"
      }
    },
    {
      "cell_type": "markdown",
      "source": [
        "The maximum accuracy of any solver was obtained with the 'liblinear' solver : 0.400886\n",
        "\n",
        "This maximum exceeds the maximum of the next best solver by 0.002532, or 0.25% less accurate.\n",
        "\n",
        "This maximum exceeds the maximum of the second-next best solver by 0.003165, or 0.32% less accurate.\n",
        "\n",
        "This maximum was obtained by using C=1.0, max_iter=1000. The next best configuration (C=1.0, max_iter=10000) differed by 0.000253, or 0.03% less accurate.\n",
        "\n",
        "---\n",
        "\n",
        "Even the best configuration we could find is insufficinet to be a reliable predictor for a given student's G3 grade, being that it is only 40.1% accurate in predicting our test set. These poor results are possibly due the logistic regressor being ill-fit for our data, in which case we should test the data set using an SVM regressor as well. It is also possible that all correlations between the input features and the final grade are weak, in which case our studies are unlikely to produce a viable model."
      ],
      "metadata": {
        "id": "7PliNmCCmr_t"
      }
    },
    {
      "cell_type": "markdown",
      "source": [
        "Hyperparameter combinations data dump. Values represent the average accuracy of a hyperparameter configuration over 100 iterations.\n",
        "\n",
        "Lines prepended by solver (s) and C (c) settings. Values listed in-line in order of m=10000, 1000, 100, 10. Missing values mean the tests with lower m did not converge.\n",
        "\n",
        "---\n",
        "\n",
        "s=newton-cg, c=10.0\n",
        "0.3735443037974683\n",
        "0.3741772151898734\n",
        "0.3718987341772152\n",
        "\n",
        "s=newton-cg, c=1.0\n",
        "0.3744303797468354\n",
        "0.3789873417721519\n",
        "0.3754430379746836\n",
        "\n",
        "s=newton-cg, c=0.1\n",
        "0.38936708860759495\n",
        "0.38227848101265816\n",
        "0.38759493670886075\n",
        "\n",
        "s=lbfgs, c=10.0\n",
        "0.37772151898734174\n",
        "0.37227848101265826\n",
        "0.3721518987341772\n",
        "\n",
        "s=lbfgs, c=1.0\n",
        "0.3758227848101266\n",
        "0.3732911392405062\n",
        "0.37620253164556955\n",
        "\n",
        "s=lbfgs, c=0.1\n",
        "0.3864556962025317\n",
        "0.3916455696202532\n",
        "0.3825316455696202\n",
        "\n",
        "s=liblinear, c=10.0\n",
        "0.3820253164556962\n",
        "0.381012658227848\n",
        "0.3824050632911393\n",
        "0.3832911392405063\n",
        "\n",
        "s=liblinear, c=1.0\n",
        "0.37784810126582286\n",
        "0.37506329113924053\n",
        "0.38594936708860755\n",
        "0.3779746835443037\n",
        "\n",
        "s=liblinear, c=0.1\n",
        "0.40063291139240503\n",
        "0.4008860759493671\n",
        "0.3982278481012657\n",
        "0.3949367088607595\n",
        "\n",
        "s=sag, c=10.0\n",
        "0.37949367088607594\n",
        "0.36835443037974686\n",
        "\n",
        "s=sag, c=1.0\n",
        "0.37620253164556966\n",
        "0.3732911392405064\n",
        "0.3727848101265823\n",
        "\n",
        "s=sag, c=0.1\n",
        "0.38443037974683547\n",
        "0.39835443037974677\n",
        "0.39291139240506334\n",
        "\n",
        "s=saga, c=10.0\n",
        "0.36911392405063287\n",
        "0.3791139240506329\n",
        "\n",
        "s=saga, c=1.0\n",
        "0.37822784810126586\n",
        "0.3763291139240506\n",
        "\n",
        "s=saga, c=0.1\n",
        "0.38810126582278487\n",
        "0.39417721518987336\n",
        "0.3977215189873417"
      ],
      "metadata": {
        "id": "Mu9uUfjAmsB8"
      }
    },
    {
      "cell_type": "markdown",
      "source": [
        "##Model 1 Group 2"
      ],
      "metadata": {
        "id": "damMqO8XmgDj"
      }
    },
    {
      "cell_type": "code",
      "source": [
        "#Split the data\n",
        "X_train, X_test, Y_train, Y_test = train_test_split(X2, Y, test_size=0.2)\n",
        "X_train.shape, X_test.shape, Y_train.shape, Y_test.shape\n",
        "\n",
        "#train the model\n",
        "clf = LogisticRegression(solver='newton-cg',C=1.0, max_iter=1000) #Using best results\n",
        "clf.fit(X_train, Y_train)\n",
        "\n",
        "#Predict the response for test dataset\n",
        "Y_pred = clf.predict(X_test)\n",
        "\n",
        "# Model Accuracy: how often the classifier is correct\n",
        "print(\"Accuracy:\",metrics.accuracy_score(Y_test, Y_pred))"
      ],
      "metadata": {
        "colab": {
          "base_uri": "https://localhost:8080/"
        },
        "outputId": "673438d6-72ab-4389-8eaa-0fce94fb691d",
        "id": "KvXVFaMIn0YW"
      },
      "execution_count": 27,
      "outputs": [
        {
          "output_type": "stream",
          "name": "stdout",
          "text": [
            "Accuracy: 0.43037974683544306\n"
          ]
        }
      ]
    },
    {
      "cell_type": "code",
      "source": [
        "cm = confusion_matrix(Y_test, Y_pred)\n",
        "cm_labels = [\"[0,4]\",\"(4,8]\",\"(8,12]\",\"(12,16]\",\"(16,20]\"]\n",
        "plot_confusion_matrix(cm, cm_labels)  \n",
        "plt.show()"
      ],
      "metadata": {
        "colab": {
          "base_uri": "https://localhost:8080/",
          "height": 506
        },
        "outputId": "37d6ee86-e40b-4caa-87ef-63be34496693",
        "id": "3o-Akf5in0YY"
      },
      "execution_count": 28,
      "outputs": [
        {
          "output_type": "display_data",
          "data": {
            "text/plain": [
              "<Figure size 640x480 with 2 Axes>"
            ],
            "image/png": "[encoded data removed]"
          },
          "metadata": {}
        }
      ]
    },
    {
      "cell_type": "code",
      "source": [
        "#s is solver, c is C, m is max_iter\n",
        "def LogisticLooper(s, c, m, X, Y):\n",
        "  Accuracy = np.zeros(100)\n",
        "  for x in range(100):\n",
        "    #Split the data\n",
        "    X_train, X_test, y_train, y_test = train_test_split(X, Y, test_size=0.2)\n",
        "    X_train.shape, X_test.shape, y_train.shape, y_test.shape\n",
        "    #train the model (Here you should change the hyperparameters)\n",
        "    clf = LogisticRegression(solver=s, C=c, max_iter=m)\n",
        "    clf.fit(X_train, y_train) # Train Logistic Regression Classifer\n",
        "    #Predict the response for test dataset\n",
        "    y_pred = clf.predict(X_test)\n",
        "    Accuracy[x] = float(metrics.accuracy_score(y_test, y_pred))\n",
        "  print(np.average(Accuracy))"
      ],
      "metadata": {
        "id": "Kq1Jwls6n0YY"
      },
      "execution_count": 29,
      "outputs": []
    },
    {
      "cell_type": "code",
      "source": [
        "#c = 10.0, 1.0, 0.1   default 1.0\n",
        "#s = 'newton-cg', 'lbfgs', 'liblinear', 'sag', 'saga'   default 'lbfgs'\n",
        "#m = 10000, 1000, 100, 10   default 100\n",
        "\n",
        "#newton-cg, m=10 does not converge\n",
        "print('\\ns=newton-cg, c=10.0')\n",
        "LogisticLooper('newton-cg', 10.0, 10000, X2, Y)\n",
        "LogisticLooper('newton-cg', 10.0, 1000, X2, Y)\n",
        "LogisticLooper('newton-cg', 10.0, 100, X2, Y)\n",
        "#LogisticLooper('newton-cg', 10.0, 10, X2, Y)\n",
        "print('\\ns=newton-cg, c=1.0')\n",
        "LogisticLooper('newton-cg', 1.0, 10000, X2, Y)\n",
        "LogisticLooper('newton-cg', 1.0, 1000, X2, Y)\n",
        "LogisticLooper('newton-cg', 1.0, 100, X2, Y)\n",
        "#LogisticLooper('newton-cg', 1.0, 10, X2, Y)\n",
        "print('\\ns=newton-cg, c=0.1')\n",
        "LogisticLooper('newton-cg', 0.1, 10000, X2, Y)\n",
        "LogisticLooper('newton-cg', 0.1, 1000, X2, Y)\n",
        "LogisticLooper('newton-cg', 0.1, 100, X2, Y)\n",
        "#LogisticLooper('newton-cg', 0.1, 10, X2, Y)"
      ],
      "metadata": {
        "colab": {
          "base_uri": "https://localhost:8080/"
        },
        "outputId": "3c121cf3-ff6d-4dec-ff98-cf4a857d74d0",
        "id": "5LI6x44tn0Ya"
      },
      "execution_count": 30,
      "outputs": [
        {
          "output_type": "stream",
          "name": "stdout",
          "text": [
            "\n",
            "s=newton-cg, c=10.0\n",
            "0.4315189873417722\n",
            "0.4324050632911392\n",
            "0.4236708860759494\n",
            "\n",
            "s=newton-cg, c=1.0\n",
            "0.4421518987341772\n",
            "0.43683544303797467\n",
            "0.43670886075949367\n",
            "\n",
            "s=newton-cg, c=0.1\n",
            "0.40860759493670884\n",
            "0.4131645569620253\n",
            "0.4140506329113924\n"
          ]
        }
      ]
    },
    {
      "cell_type": "code",
      "source": [
        "#lbfgs, m=100 does not converge\n",
        "print('\\ns=lbfgs, c=10.0')\n",
        "LogisticLooper('lbfgs', 10.0, 10000, X2, Y)\n",
        "LogisticLooper('lbfgs', 10.0, 1000, X2, Y)\n",
        "#LogisticLooper('lbfgs', 10.0, 100, X2, Y)\n",
        "#LogisticLooper('lbfgs', 10.0, 10, X2, Y)\n",
        "print('\\ns=lbfgs, c=1.0')\n",
        "LogisticLooper('lbfgs', 1.0, 10000, X2, Y)\n",
        "LogisticLooper('lbfgs', 1.0, 1000, X2, Y)\n",
        "LogisticLooper('lbfgs', 1.0, 100, X2, Y)\n",
        "#LogisticLooper('lbfgs', 1.0, 10, X2, Y)\n",
        "print('\\ns=lbfgs, c=0.1')\n",
        "LogisticLooper('lbfgs', 0.1, 10000, X2, Y)\n",
        "LogisticLooper('lbfgs', 0.1, 1000, X2, Y)\n",
        "LogisticLooper('lbfgs', 0.1, 100, X2, Y)\n",
        "#LogisticLooper('lbfgs', 1.0, 10, X2, Y)"
      ],
      "metadata": {
        "colab": {
          "base_uri": "https://localhost:8080/"
        },
        "outputId": "7503694c-a4f1-4405-d9b1-c3ce11ad8874",
        "id": "feTwuJvwn0Ya"
      },
      "execution_count": 31,
      "outputs": [
        {
          "output_type": "stream",
          "name": "stdout",
          "text": [
            "\n",
            "s=lbfgs, c=10.0\n",
            "0.43025316455696205\n",
            "0.42215189873417713\n",
            "\n",
            "s=lbfgs, c=1.0\n",
            "0.43379746835443045\n",
            "0.4367088607594936\n",
            "0.43962025316455694\n",
            "\n",
            "s=lbfgs, c=0.1\n",
            "0.4216455696202532\n",
            "0.4058227848101266\n",
            "0.41696202531645565\n"
          ]
        }
      ]
    },
    {
      "cell_type": "code",
      "source": [
        "#liblinear, m=10 converges only when c=0.1\n",
        "print('\\ns=liblinear, c=10.0')\n",
        "LogisticLooper('liblinear', 10.0, 10000, X2, Y)\n",
        "LogisticLooper('liblinear', 10.0, 1000, X2, Y)\n",
        "LogisticLooper('liblinear', 10.0, 100, X2, Y)\n",
        "#LogisticLooper('liblinear', 10.0, 10, X2, Y)\n",
        "print('\\ns=liblinear, c=1.0')\n",
        "LogisticLooper('liblinear', 1.0, 10000, X2, Y)\n",
        "LogisticLooper('liblinear', 1.0, 1000, X2, Y)\n",
        "LogisticLooper('liblinear', 1.0, 100, X2, Y)\n",
        "LogisticLooper('liblinear', 1.0, 10, X2, Y)\n",
        "print('\\ns=liblinear, c=0.1')\n",
        "LogisticLooper('liblinear', 0.1, 10000, X2, Y)\n",
        "LogisticLooper('liblinear', 0.1, 1000, X2, Y)\n",
        "LogisticLooper('liblinear', 0.1, 100, X2, Y)\n",
        "LogisticLooper('liblinear', 0.1, 10, X2, Y)"
      ],
      "metadata": {
        "colab": {
          "base_uri": "https://localhost:8080/"
        },
        "outputId": "a27e2ecb-e4bc-4201-dd19-c12c9d614d7d",
        "id": "_cpN0AUyn0Ya"
      },
      "execution_count": 32,
      "outputs": [
        {
          "output_type": "stream",
          "name": "stdout",
          "text": [
            "\n",
            "s=liblinear, c=10.0\n",
            "0.42632911392405065\n",
            "0.4346835443037974\n",
            "0.42569620253164553\n",
            "\n",
            "s=liblinear, c=1.0\n",
            "0.43126582278481007\n",
            "0.4292405063291138\n",
            "0.4346835443037974\n",
            "0.4260759493670886\n",
            "\n",
            "s=liblinear, c=0.1\n",
            "0.4069620253164556\n",
            "0.40417721518987343\n",
            "0.4081012658227847\n",
            "0.4108860759493671\n"
          ]
        }
      ]
    },
    {
      "cell_type": "code",
      "source": [
        "#sag, m=1000 converges when c=0.1, lower does not converge\n",
        "print('\\ns=sag, c=10.0')\n",
        "LogisticLooper('sag', 10.0, 10000, X2, Y)\n",
        "#LogisticLooper('sag', 10.0, 1000, X2, Y)\n",
        "#LogisticLooper('sag', 10.0, 100, X2, Y)\n",
        "#LogisticLooper('sag', 10.0, 10, X2, Y)\n",
        "print('\\ns=sag, c=1.0')\n",
        "LogisticLooper('sag', 1.0, 10000, X2, Y)\n",
        "LogisticLooper('sag', 1.0, 1000, X2, Y)\n",
        "#LogisticLooper('sag', 1.0, 100, X2, Y)\n",
        "#LogisticLooper('sag', 1.0, 10, X2, Y)\n",
        "print('\\ns=sag, c=0.1')\n",
        "LogisticLooper('sag', 0.1, 10000, X2, Y)\n",
        "LogisticLooper('sag', 0.1, 1000, X2, Y)\n",
        "#LogisticLooper('sag', 0.1, 100, X2, Y)\n",
        "#LogisticLooper('sag', 0.1, 10, X2, Y)"
      ],
      "metadata": {
        "colab": {
          "base_uri": "https://localhost:8080/"
        },
        "outputId": "13bda436-05ea-4ba5-ce28-d925e981557e",
        "id": "pbDqxs4vn0Yb"
      },
      "execution_count": 33,
      "outputs": [
        {
          "output_type": "stream",
          "name": "stdout",
          "text": [
            "\n",
            "s=sag, c=10.0\n",
            "0.4253164556962025\n",
            "\n",
            "s=sag, c=1.0\n",
            "0.43240506329113915\n",
            "0.441012658227848\n",
            "\n",
            "s=sag, c=0.1\n",
            "0.4182278481012658\n",
            "0.41721518987341766\n"
          ]
        }
      ]
    },
    {
      "cell_type": "code",
      "source": [
        "#saga\n",
        "print('\\ns=saga, c=10.0')\n",
        "LogisticLooper('saga', 10.0, 10000, X2, Y)\n",
        "#LogisticLooper('saga', 10.0, 1000, X2, Y)\n",
        "#LogisticLooper('saga', 10.0, 100, X2, Y)\n",
        "#LogisticLooper('saga', 10.0, 10, X2, Y)\n",
        "print('\\ns=saga, c=1.0')\n",
        "LogisticLooper('saga', 1.0, 10000, X2, Y)\n",
        "LogisticLooper('saga', 1.0, 1000, X2, Y)\n",
        "#LogisticLooper('saga', 1.0, 100, X2, Y)\n",
        "#LogisticLooper('saga', 1.0, 10, X2, Y)\n",
        "print('\\ns=saga, c=0.1')\n",
        "LogisticLooper('saga', 0.1, 10000, X2, Y)\n",
        "LogisticLooper('saga', 0.1, 1000, X2, Y)\n",
        "#LogisticLooper('saga', 0.1, 100, X2, Y)\n",
        "#LogisticLooper('saga', 0.1, 10, X2, Y)"
      ],
      "metadata": {
        "colab": {
          "base_uri": "https://localhost:8080/"
        },
        "id": "paHl06kUn0Yb",
        "outputId": "0fa8459f-6e46-4cef-c7b4-73fd98770cb4"
      },
      "execution_count": 34,
      "outputs": [
        {
          "output_type": "stream",
          "name": "stdout",
          "text": [
            "\n",
            "s=saga, c=10.0\n",
            "0.43620253164556955\n",
            "\n",
            "s=saga, c=1.0\n",
            "0.42860759493670886\n",
            "0.43253164556962026\n",
            "\n",
            "s=saga, c=0.1\n",
            "0.4067088607594937\n",
            "0.4101265822784811\n"
          ]
        }
      ]
    },
    {
      "cell_type": "markdown",
      "source": [
        "##Model 1 Group 2 Results"
      ],
      "metadata": {
        "id": "0MG4NazumnGc"
      }
    },
    {
      "cell_type": "markdown",
      "source": [
        "The maximum accuracy of any solver was obtained with the 'sag' solver : 0.443924\n",
        "\n",
        "This maximum exceeds the maximum of the next best solver by 0.001139, or 0.1% less accurate.\n",
        "\n",
        "This maximum exceeds the maximum of the second-next best solver by 0.002911, or 0.29% less accurate.\n",
        "\n",
        "This maximum was obtained by using C=1.0, max_iter=10000. The next best configuration (C=1.0, max_iter=1000) differed by 0.009747, or 0.97% less accurate.\n",
        "\n",
        "---\n",
        "\n",
        "Even the best configuration we could find is insufficinet to be a reliable predictor for a given student's G3 grade, being that it is only 44.4% accurate in predicting our test set. These poor results are possibly due the logistic regressor being ill-fit for our data, in which case we should test the data set using an SVM regressor as well. It is also possible that all correlations between the input features and the final grade are weak, in which case our studies are unlikely to produce a viable model."
      ],
      "metadata": {
        "id": "4N3wI-Yemplw"
      }
    },
    {
      "cell_type": "markdown",
      "source": [
        "Hyperparameter combinations data dump. Values represent the average accuracy of a hyperparameter configuration over 100 iterations.\n",
        "\n",
        "Lines prepended by solver (s) and C (c) settings. Values listed in-line in order of m=10000, 1000, 100, 10. Missing values mean the tests with lower m did not converge.\n",
        "\n",
        "---\n",
        "\n",
        "s=newton-cg, c=10.0\n",
        "0.4355696202531644\n",
        "0.42974683544303793\n",
        "0.43291139240506316\n",
        "\n",
        "s=newton-cg, c=1.0\n",
        "0.4335443037974682\n",
        "0.43784810126582274\n",
        "0.44278481012658216\n",
        "\n",
        "s=newton-cg, c=0.1\n",
        "0.40924050632911396\n",
        "0.41151898734177217\n",
        "0.4087341772151898\n",
        "\n",
        "s=lbfgs, c=10.0\n",
        "0.43240506329113926\n",
        "0.4251898734177215\n",
        "\n",
        "s=lbfgs, c=1.0\n",
        "0.43443037974683546\n",
        "0.4287341772151898\n",
        "0.43531645569620253\n",
        "\n",
        "s=lbfgs, c=0.1\n",
        "0.410379746835443\n",
        "0.41075949367088604\n",
        "0.40721518987341776\n",
        "\n",
        "s=liblinear, c=10.0\n",
        "0.42987341772151894\n",
        "0.43075949367088606\n",
        "0.4278481012658228\n",
        "\n",
        "s=liblinear, c=1.0\n",
        "0.441012658227848\n",
        "0.43506329113924047\n",
        "0.43405063291139234\n",
        "0.4270886075949367\n",
        "\n",
        "s=liblinear, c=0.1\n",
        "0.40455696202531644\n",
        "0.40506329113924056\n",
        "0.40886075949367084\n",
        "0.4137974683544302\n",
        "\n",
        "s=sag, c=10.0\n",
        "0.42860759493670886\n",
        "\n",
        "s=sag, c=1.0\n",
        "0.44392405063291135\n",
        "0.43417721518987334\n",
        "\n",
        "s=sag, c=0.1\n",
        "0.4081012658227847\n",
        "0.4135443037974684\n",
        "\n",
        "s=saga, c=10.0\n",
        "0.42759493670886073\n",
        "\n",
        "s=saga, c=1.0\n",
        "0.42683544303797466\n",
        "0.4337974683544303\n",
        "\n",
        "s=saga, c=0.1\n",
        "0.41493670886075945\n",
        "0.4140506329113924"
      ],
      "metadata": {
        "id": "cNBbqbk3mqU_"
      }
    },
    {
      "cell_type": "markdown",
      "metadata": {
        "id": "9HlGKbiMiiK8"
      },
      "source": [
        "#Model 2 - SVM"
      ]
    },
    {
      "cell_type": "markdown",
      "metadata": {
        "id": "bbMZ4k9rnwac"
      },
      "source": [
        "##Model 2 All Inputs"
      ]
    },
    {
      "cell_type": "code",
      "execution_count": 35,
      "metadata": {
        "colab": {
          "base_uri": "https://localhost:8080/"
        },
        "id": "EdqNw-FVRHsx",
        "outputId": "67ec30e8-b251-4039-db84-6a344aa34613"
      },
      "outputs": [
        {
          "output_type": "stream",
          "name": "stdout",
          "text": [
            "Accuracy: 0.43037974683544306\n"
          ]
        }
      ],
      "source": [
        "#Split the data\n",
        "X_train, X_test, Y_train, Y_test = train_test_split(X, Y, test_size=0.2)\n",
        "X_train.shape, X_test.shape, Y_train.shape, Y_test.shape\n",
        "\n",
        "#train the model\n",
        "clf = svm.SVC(kernel='linear', C=1, tol=0.01) #Using best results\n",
        "clf.fit(X_train, Y_train)\n",
        "\n",
        "#Predict the response for test dataset\n",
        "Y_pred = clf.predict(X_test)\n",
        "\n",
        "# Model Accuracy: how often the classifier is correct\n",
        "print(\"Accuracy:\",metrics.accuracy_score(Y_test, Y_pred))"
      ]
    },
    {
      "cell_type": "code",
      "execution_count": 36,
      "metadata": {
        "id": "GUYZtOvnRHsy",
        "colab": {
          "base_uri": "https://localhost:8080/",
          "height": 506
        },
        "outputId": "c3152179-4f32-4293-c5ef-e17ad3b9ad4a"
      },
      "outputs": [
        {
          "output_type": "display_data",
          "data": {
            "text/plain": [
              "<Figure size 640x480 with 2 Axes>"
            ],
            "image/png": "[encoded data removed]"
          },
          "metadata": {}
        }
      ],
      "source": [
        "cm = confusion_matrix(Y_test, Y_pred)\n",
        "cm_labels = [\"[0,4]\",\"(4,8]\",\"(8,12]\",\"(12,16]\",\"(16,20]\"]\n",
        "plot_confusion_matrix(cm, cm_labels)  \n",
        "plt.show()"
      ]
    },
    {
      "cell_type": "code",
      "execution_count": 37,
      "metadata": {
        "id": "AZG9Vjq4gWYN"
      },
      "outputs": [],
      "source": [
        "#k is kernel, c is C, t is tol\n",
        "def SVMLooper(k, c, t, X, Y):\n",
        "  Accuracy = np.zeros(100)\n",
        "  for x in range(100):\n",
        "    #Split the data\n",
        "    X_train, X_test, y_train, y_test = train_test_split(X, Y, test_size=0.2)\n",
        "    X_train.shape, X_test.shape, y_train.shape, y_test.shape\n",
        "    #train the model (Here you should change the hyperparameters)\n",
        "    clf = clf = svm.SVC(kernel=k, C=c, tol=t)\n",
        "    clf.fit(X_train, y_train) # Train Logistic Regression Classifer\n",
        "    #Predict the response for test dataset\n",
        "    y_pred = clf.predict(X_test)\n",
        "    Accuracy[x] = float(metrics.accuracy_score(y_test, y_pred))\n",
        "  print(np.average(Accuracy))"
      ]
    },
    {
      "cell_type": "code",
      "execution_count": 38,
      "metadata": {
        "id": "0b5ncEqsgWYO",
        "colab": {
          "base_uri": "https://localhost:8080/"
        },
        "outputId": "b8ee7ac4-522d-4991-931f-950a7a27b4f9"
      },
      "outputs": [
        {
          "output_type": "stream",
          "name": "stdout",
          "text": [
            "\n",
            "k=linear, c=10.0\n",
            "0.4275949367088607\n",
            "0.430632911392405\n",
            "0.4236708860759494\n",
            "0.41645569620253153\n",
            "0.4207594936708861\n",
            "\n",
            "k=linear, c=1.0\n",
            "0.4213924050632911\n",
            "0.42620253164556965\n",
            "0.4218987341772151\n",
            "0.42974683544303793\n",
            "0.4364556962025316\n",
            "\n",
            "k=linear, c=0.1\n",
            "0.3978481012658228\n",
            "0.4087341772151899\n",
            "0.39898734177215195\n",
            "0.40810126582278483\n",
            "0.4156962025316456\n"
          ]
        }
      ],
      "source": [
        "#k = 'linear','poly','rbf', 'sigmoid'   default rbf\n",
        "#c = 10.0, 1.0, 0.1   default 1.0\n",
        "#t = 0.0001, 0.001, 0.01, 0.1, 1.0   default 1e-3\n",
        "\n",
        "#linear\n",
        "print('\\nk=linear, c=10.0')\n",
        "SVMLooper('linear', 10.0, 0.0001, X, Y)\n",
        "SVMLooper('linear', 10.0, 0.001, X, Y)\n",
        "SVMLooper('linear', 10.0, 0.01, X, Y)\n",
        "SVMLooper('linear', 10.0, 0.1, X, Y)\n",
        "SVMLooper('linear', 10.0, 1.0, X, Y)\n",
        "print('\\nk=linear, c=1.0')\n",
        "SVMLooper('linear', 1.0, 0.0001, X, Y)\n",
        "SVMLooper('linear', 1.0, 0.001, X, Y)\n",
        "SVMLooper('linear', 1.0, 0.01, X, Y)\n",
        "SVMLooper('linear', 1.0, 0.1, X, Y)\n",
        "SVMLooper('linear', 1.0, 1.0, X, Y)\n",
        "print('\\nk=linear, c=0.1')\n",
        "SVMLooper('linear', 0.1, 0.0001, X, Y)\n",
        "SVMLooper('linear', 0.1, 0.001, X, Y)\n",
        "SVMLooper('linear', 0.1, 0.01, X, Y)\n",
        "SVMLooper('linear', 0.1, 0.1, X, Y)\n",
        "SVMLooper('linear', 0.1, 1.0, X, Y)"
      ]
    },
    {
      "cell_type": "code",
      "execution_count": 39,
      "metadata": {
        "id": "srGtWvJ2gWYQ",
        "colab": {
          "base_uri": "https://localhost:8080/"
        },
        "outputId": "370e7627-e2ae-43ef-c917-3f2f965668b2"
      },
      "outputs": [
        {
          "output_type": "stream",
          "name": "stdout",
          "text": [
            "\n",
            "k=poly, c=10.0\n",
            "0.4091139240506328\n",
            "0.4039240506329113\n",
            "0.4097468354430379\n",
            "0.4001265822784809\n",
            "0.4134177215189873\n",
            "\n",
            "k=poly, c=1.0\n",
            "0.40670886075949364\n",
            "0.39810126582278477\n",
            "0.4084810126582278\n",
            "0.40493670886075944\n",
            "0.40506329113924044\n",
            "\n",
            "k=poly, c=0.1\n",
            "0.41202531645569623\n",
            "0.40974683544303786\n",
            "0.4139240506329114\n",
            "0.4027848101265821\n",
            "0.40607594936708863\n"
          ]
        }
      ],
      "source": [
        "#poly\n",
        "print('\\nk=poly, c=10.0')\n",
        "SVMLooper('poly', 10.0, 0.0001, X, Y)\n",
        "SVMLooper('poly', 10.0, 0.001, X, Y)\n",
        "SVMLooper('poly', 10.0, 0.01, X, Y)\n",
        "SVMLooper('poly', 10.0, 0.1, X, Y)\n",
        "SVMLooper('poly', 10.0, 1.0, X, Y)\n",
        "print('\\nk=poly, c=1.0')\n",
        "SVMLooper('poly', 1.0, 0.0001, X, Y)\n",
        "SVMLooper('poly', 1.0, 0.001, X, Y)\n",
        "SVMLooper('poly', 1.0, 0.01, X, Y)\n",
        "SVMLooper('poly', 1.0, 0.1, X, Y)\n",
        "SVMLooper('poly', 1.0, 1.0, X, Y)\n",
        "print('\\nk=poly, c=0.1')\n",
        "SVMLooper('poly', 0.1, 0.0001, X, Y)\n",
        "SVMLooper('poly', 0.1, 0.001, X, Y)\n",
        "SVMLooper('poly', 0.1, 0.01, X, Y)\n",
        "SVMLooper('poly', 0.1, 0.1, X, Y)\n",
        "SVMLooper('poly', 0.1, 1.0, X, Y)"
      ]
    },
    {
      "cell_type": "code",
      "execution_count": 40,
      "metadata": {
        "id": "iAfUwhizgWYR",
        "colab": {
          "base_uri": "https://localhost:8080/"
        },
        "outputId": "e0598452-1f2d-4ce1-ffb5-1de92a7c8afa"
      },
      "outputs": [
        {
          "output_type": "stream",
          "name": "stdout",
          "text": [
            "\n",
            "k=rbf, c=10.0\n",
            "0.41506329113924045\n",
            "0.41582278481012663\n",
            "0.41810126582278484\n",
            "0.41924050632911397\n",
            "0.41481012658227845\n",
            "\n",
            "k=rbf, c=1.0\n",
            "0.3988607594936709\n",
            "0.4049367088607594\n",
            "0.40594936708860757\n",
            "0.40898734177215196\n",
            "0.4046835443037975\n",
            "\n",
            "k=rbf, c=0.1\n",
            "0.4035443037974683\n",
            "0.41405063291139244\n",
            "0.40443037974683543\n",
            "0.4062025316455697\n",
            "0.40962025316455697\n"
          ]
        }
      ],
      "source": [
        "#rbf\n",
        "print('\\nk=rbf, c=10.0')\n",
        "SVMLooper('rbf', 10.0, 0.0001, X, Y)\n",
        "SVMLooper('rbf', 10.0, 0.001, X, Y)\n",
        "SVMLooper('rbf', 10.0, 0.01, X, Y)\n",
        "SVMLooper('rbf', 10.0, 0.1, X, Y)\n",
        "SVMLooper('rbf', 10.0, 1.0, X, Y)\n",
        "print('\\nk=rbf, c=1.0')\n",
        "SVMLooper('rbf', 1.0, 0.0001, X, Y)\n",
        "SVMLooper('rbf', 1.0, 0.001, X, Y)\n",
        "SVMLooper('rbf', 1.0, 0.01, X, Y)\n",
        "SVMLooper('rbf', 1.0, 0.1, X, Y)\n",
        "SVMLooper('rbf', 1.0, 1.0, X, Y)\n",
        "print('\\nk=rbf, c=0.1')\n",
        "SVMLooper('rbf', 0.1, 0.0001, X, Y)\n",
        "SVMLooper('rbf', 0.1, 0.001, X, Y)\n",
        "SVMLooper('rbf', 0.1, 0.01, X, Y)\n",
        "SVMLooper('rbf', 0.1, 0.1, X, Y)\n",
        "SVMLooper('rbf', 0.1, 1.0, X, Y)"
      ]
    },
    {
      "cell_type": "code",
      "execution_count": 41,
      "metadata": {
        "id": "3rN19gDKgWYT",
        "colab": {
          "base_uri": "https://localhost:8080/"
        },
        "outputId": "218fddfb-1898-43ab-98d3-2f7575a2f608"
      },
      "outputs": [
        {
          "output_type": "stream",
          "name": "stdout",
          "text": [
            "\n",
            "k=sigmoid, c=10.0\n",
            "0.3982278481012658\n",
            "0.3921518987341772\n",
            "0.39291139240506323\n",
            "0.3884810126582278\n",
            "0.39240506329113933\n",
            "\n",
            "k=sigmoid, c=1.0\n",
            "0.39506329113924055\n",
            "0.3958227848101265\n",
            "0.39582278481012656\n",
            "0.39265822784810117\n",
            "0.39949367088607596\n",
            "\n",
            "k=sigmoid, c=0.1\n",
            "0.4087341772151899\n",
            "0.4091139240506329\n",
            "0.41860759493670885\n",
            "0.409240506329114\n",
            "0.4084810126582279\n"
          ]
        }
      ],
      "source": [
        "#sigmoid\n",
        "print('\\nk=sigmoid, c=10.0')\n",
        "SVMLooper('sigmoid', 10.0, 0.0001, X, Y)\n",
        "SVMLooper('sigmoid', 10.0, 0.001, X, Y)\n",
        "SVMLooper('sigmoid', 10.0, 0.01, X, Y)\n",
        "SVMLooper('sigmoid', 10.0, 0.1, X, Y)\n",
        "SVMLooper('sigmoid', 10.0, 1.0, X, Y)\n",
        "print('\\nk=sigmoid, c=1.0')\n",
        "SVMLooper('sigmoid', 1.0, 0.0001, X, Y)\n",
        "SVMLooper('sigmoid', 1.0, 0.001, X, Y)\n",
        "SVMLooper('sigmoid', 1.0, 0.01, X, Y)\n",
        "SVMLooper('sigmoid', 1.0, 0.1, X, Y)\n",
        "SVMLooper('sigmoid', 1.0, 1.0, X, Y)\n",
        "print('\\nk=sigmoid, c=0.1')\n",
        "SVMLooper('sigmoid', 0.1, 0.0001, X, Y)\n",
        "SVMLooper('sigmoid', 0.1, 0.001, X, Y)\n",
        "SVMLooper('sigmoid', 0.1, 0.01, X, Y)\n",
        "SVMLooper('sigmoid', 0.1, 0.1, X, Y)\n",
        "SVMLooper('sigmoid', 0.1, 1.0, X, Y)"
      ]
    },
    {
      "cell_type": "markdown",
      "source": [
        "##Model 2 Group 1 Inputs"
      ],
      "metadata": {
        "id": "fOO5iGs4q-4k"
      }
    },
    {
      "cell_type": "code",
      "source": [
        "#Split the data\n",
        "X_train, X_test, Y_train, Y_test = train_test_split(X1, Y, test_size=0.2)\n",
        "X_train.shape, X_test.shape, Y_train.shape, Y_test.shape\n",
        "\n",
        "#train the model\n",
        "clf = svm.SVC(kernel='linear', C=1, tol=0.1) #Using best results\n",
        "clf.fit(X_train, Y_train)\n",
        "\n",
        "#Predict the response for test dataset\n",
        "Y_pred = clf.predict(X_test)\n",
        "\n",
        "# Model Accuracy: how often the classifier is correct\n",
        "print(\"Accuracy:\",metrics.accuracy_score(Y_test, Y_pred))\n",
        "\n",
        "cm = confusion_matrix(Y_test, Y_pred)\n",
        "cm_labels = [\"[0,4]\",\"(4,8]\",\"(8,12]\",\"(12,16]\",\"(16,20]\"]\n",
        "plot_confusion_matrix(cm, cm_labels)  \n",
        "plt.show()"
      ],
      "metadata": {
        "colab": {
          "base_uri": "https://localhost:8080/",
          "height": 524
        },
        "id": "nsOFNCGys63M",
        "outputId": "f42f4352-db4f-40fa-9d03-4f4d58385961"
      },
      "execution_count": 42,
      "outputs": [
        {
          "output_type": "stream",
          "name": "stdout",
          "text": [
            "Accuracy: 0.4177215189873418\n"
          ]
        },
        {
          "output_type": "display_data",
          "data": {
            "text/plain": [
              "<Figure size 640x480 with 2 Axes>"
            ],
            "image/png": "[encoded data removed]"
          },
          "metadata": {}
        }
      ]
    },
    {
      "cell_type": "code",
      "source": [
        "#k = 'linear','poly','rbf', 'sigmoid'   default rbf\n",
        "#c = 10.0, 1.0, 0.1   default 1.0\n",
        "#t = 0.0001, 0.001, 0.01, 0.1, 1.0   default 1e-3\n",
        "\n",
        "#linear\n",
        "print('\\nk=linear, c=10.0')\n",
        "SVMLooper('linear', 10.0, 0.0001, X1, Y)\n",
        "SVMLooper('linear', 10.0, 0.001, X1, Y)\n",
        "SVMLooper('linear', 10.0, 0.01, X1, Y)\n",
        "SVMLooper('linear', 10.0, 0.1, X1, Y)\n",
        "SVMLooper('linear', 10.0, 1.0, X1, Y)\n",
        "print('\\nk=linear, c=1.0')\n",
        "SVMLooper('linear', 1.0, 0.0001, X1, Y)\n",
        "SVMLooper('linear', 1.0, 0.001, X1, Y)\n",
        "SVMLooper('linear', 1.0, 0.01, X1, Y)\n",
        "SVMLooper('linear', 1.0, 0.1, X1, Y)\n",
        "SVMLooper('linear', 1.0, 1.0, X1, Y)\n",
        "print('\\nk=linear, c=0.1')\n",
        "SVMLooper('linear', 0.1, 0.0001, X1, Y)\n",
        "SVMLooper('linear', 0.1, 0.001, X1, Y)\n",
        "SVMLooper('linear', 0.1, 0.01, X1, Y)\n",
        "SVMLooper('linear', 0.1, 0.1, X1, Y)\n",
        "SVMLooper('linear', 0.1, 1.0, X1, Y)"
      ],
      "metadata": {
        "colab": {
          "base_uri": "https://localhost:8080/"
        },
        "id": "vCbVh0KtrNRF",
        "outputId": "41792eac-9062-4717-ef32-ea33222f1d6d"
      },
      "execution_count": 43,
      "outputs": [
        {
          "output_type": "stream",
          "name": "stdout",
          "text": [
            "\n",
            "k=linear, c=10.0\n",
            "0.40518987341772145\n",
            "0.40594936708860757\n",
            "0.39924050632911395\n",
            "0.4069620253164558\n",
            "0.4044303797468355\n",
            "\n",
            "k=linear, c=1.0\n",
            "0.41303797468354425\n",
            "0.4100000000000001\n",
            "0.40734177215189876\n",
            "0.41202531645569623\n",
            "0.41291139240506325\n",
            "\n",
            "k=linear, c=0.1\n",
            "0.4117721518987342\n",
            "0.40632911392405063\n",
            "0.40430379746835443\n",
            "0.4088607594936709\n",
            "0.4129113924050633\n"
          ]
        }
      ]
    },
    {
      "cell_type": "code",
      "source": [
        "#sigmoid\n",
        "print('\\nk=sigmoid, c=10.0')\n",
        "SVMLooper('sigmoid', 10.0, 0.0001, X1, Y)\n",
        "SVMLooper('sigmoid', 10.0, 0.001, X1, Y)\n",
        "SVMLooper('sigmoid', 10.0, 0.01, X1, Y)\n",
        "SVMLooper('sigmoid', 10.0, 0.1, X1, Y)\n",
        "SVMLooper('sigmoid', 10.0, 1.0, X1, Y)\n",
        "print('\\nk=sigmoid, c=1.0')\n",
        "SVMLooper('sigmoid', 1.0, 0.0001, X1, Y)\n",
        "SVMLooper('sigmoid', 1.0, 0.001, X1, Y)\n",
        "SVMLooper('sigmoid', 1.0, 0.01, X1, Y)\n",
        "SVMLooper('sigmoid', 1.0, 0.1, X1, Y)\n",
        "SVMLooper('sigmoid', 1.0, 1.0, X1, Y)\n",
        "print('\\nk=sigmoid, c=0.1')\n",
        "SVMLooper('sigmoid', 0.1, 0.0001, X1, Y)\n",
        "SVMLooper('sigmoid', 0.1, 0.001, X1, Y)\n",
        "SVMLooper('sigmoid', 0.1, 0.01, X1, Y)\n",
        "SVMLooper('sigmoid', 0.1, 0.1, X1, Y)\n",
        "SVMLooper('sigmoid', 0.1, 1.0, X1, Y)"
      ],
      "metadata": {
        "colab": {
          "base_uri": "https://localhost:8080/"
        },
        "id": "RpQHDzVArEGE",
        "outputId": "682591d2-d0a2-4eb1-9085-ead5214161c1"
      },
      "execution_count": 44,
      "outputs": [
        {
          "output_type": "stream",
          "name": "stdout",
          "text": [
            "\n",
            "k=sigmoid, c=10.0\n",
            "0.31531645569620254\n",
            "0.30468354430379746\n",
            "0.31215189873417715\n",
            "0.3075949367088608\n",
            "0.31063291139240506\n",
            "\n",
            "k=sigmoid, c=1.0\n",
            "0.3721518987341772\n",
            "0.37278481012658227\n",
            "0.37392405063291134\n",
            "0.3763291139240506\n",
            "0.38531645569620254\n",
            "\n",
            "k=sigmoid, c=0.1\n",
            "0.4059493670886075\n",
            "0.4092405063291139\n",
            "0.4143037974683545\n",
            "0.410253164556962\n",
            "0.40594936708860757\n"
          ]
        }
      ]
    },
    {
      "cell_type": "code",
      "source": [
        "#rbf\n",
        "print('\\nk=rbf, c=10.0')\n",
        "SVMLooper('rbf', 10.0, 0.0001, X1, Y)\n",
        "SVMLooper('rbf', 10.0, 0.001, X1, Y)\n",
        "SVMLooper('rbf', 10.0, 0.01, X1, Y)\n",
        "SVMLooper('rbf', 10.0, 0.1, X1, Y)\n",
        "SVMLooper('rbf', 10.0, 1.0, X1, Y)\n",
        "print('\\nk=rbf, c=1.0')\n",
        "SVMLooper('rbf', 1.0, 0.0001, X1, Y)\n",
        "SVMLooper('rbf', 1.0, 0.001, X1, Y)\n",
        "SVMLooper('rbf', 1.0, 0.01, X1, Y)\n",
        "SVMLooper('rbf', 1.0, 0.1, X1, Y)\n",
        "SVMLooper('rbf', 1.0, 1.0, X1, Y)\n",
        "print('\\nk=rbf, c=0.1')\n",
        "SVMLooper('rbf', 0.1, 0.0001, X1, Y)\n",
        "SVMLooper('rbf', 0.1, 0.001, X1, Y)\n",
        "SVMLooper('rbf', 0.1, 0.01, X1, Y)\n",
        "SVMLooper('rbf', 0.1, 0.1, X1, Y)\n",
        "SVMLooper('rbf', 0.1, 1.0, X1, Y)"
      ],
      "metadata": {
        "colab": {
          "base_uri": "https://localhost:8080/"
        },
        "id": "5sbQNJisrHAw",
        "outputId": "955edc97-5f53-4dda-85f8-8aefb007abc4"
      },
      "execution_count": 45,
      "outputs": [
        {
          "output_type": "stream",
          "name": "stdout",
          "text": [
            "\n",
            "k=rbf, c=10.0\n",
            "0.37987341772151895\n",
            "0.37164556962025325\n",
            "0.36848101265822786\n",
            "0.3659493670886076\n",
            "0.3682278481012658\n",
            "\n",
            "k=rbf, c=1.0\n",
            "0.3887341772151899\n",
            "0.3988607594936709\n",
            "0.4039240506329113\n",
            "0.39670886075949363\n",
            "0.390632911392405\n",
            "\n",
            "k=rbf, c=0.1\n",
            "0.4129113924050633\n",
            "0.40721518987341776\n",
            "0.4106329113924051\n",
            "0.40417721518987343\n",
            "0.40518987341772145\n"
          ]
        }
      ]
    },
    {
      "cell_type": "code",
      "source": [
        "#poly\n",
        "print('\\nk=poly, c=10.0')\n",
        "SVMLooper('poly', 10.0, 0.0001, X1, Y)\n",
        "SVMLooper('poly', 10.0, 0.001, X1, Y)\n",
        "SVMLooper('poly', 10.0, 0.01, X1, Y)\n",
        "SVMLooper('poly', 10.0, 0.1, X1, Y)\n",
        "SVMLooper('poly', 10.0, 1.0, X1, Y)\n",
        "print('\\nk=poly, c=1.0')\n",
        "SVMLooper('poly', 1.0, 0.0001, X1, Y)\n",
        "SVMLooper('poly', 1.0, 0.001, X1, Y)\n",
        "SVMLooper('poly', 1.0, 0.01, X1, Y)\n",
        "SVMLooper('poly', 1.0, 0.1, X1, Y)\n",
        "SVMLooper('poly', 1.0, 1.0, X1, Y)\n",
        "print('\\nk=poly, c=0.1')\n",
        "SVMLooper('poly', 0.1, 0.0001, X1, Y)\n",
        "SVMLooper('poly', 0.1, 0.001, X1, Y)\n",
        "SVMLooper('poly', 0.1, 0.01, X1, Y)\n",
        "SVMLooper('poly', 0.1, 0.1, X1, Y)\n",
        "SVMLooper('poly', 0.1, 1.0, X1, Y)"
      ],
      "metadata": {
        "colab": {
          "base_uri": "https://localhost:8080/"
        },
        "id": "XuPandgwrKKW",
        "outputId": "ac5b51fb-7b95-4fd1-b48f-4d9d7180a98c"
      },
      "execution_count": 46,
      "outputs": [
        {
          "output_type": "stream",
          "name": "stdout",
          "text": [
            "\n",
            "k=poly, c=10.0\n",
            "0.37911392405063293\n",
            "0.3773417721518987\n",
            "0.37544303797468354\n",
            "0.3851898734177215\n",
            "0.38518987341772154\n",
            "\n",
            "k=poly, c=1.0\n",
            "0.3831645569620254\n",
            "0.3963291139240506\n",
            "0.3948101265822784\n",
            "0.39721518987341775\n",
            "0.38506329113924054\n",
            "\n",
            "k=poly, c=0.1\n",
            "0.41341772151898726\n",
            "0.4040506329113925\n",
            "0.4011392405063291\n",
            "0.40518987341772145\n",
            "0.4155696202531646\n"
          ]
        }
      ]
    },
    {
      "cell_type": "markdown",
      "source": [
        "##Model 2 Group 2 Inputs"
      ],
      "metadata": {
        "id": "S7cG6MXztjxY"
      }
    },
    {
      "cell_type": "code",
      "source": [
        "#Split the data\n",
        "X_train, X_test, Y_train, Y_test = train_test_split(X2, Y, test_size=0.2)\n",
        "X_train.shape, X_test.shape, Y_train.shape, Y_test.shape\n",
        "\n",
        "#train the model\n",
        "clf = svm.SVC(kernel='poly', C=1, tol=0.0001) #Using best results\n",
        "clf.fit(X_train, Y_train)\n",
        "\n",
        "#Predict the response for test dataset\n",
        "Y_pred = clf.predict(X_test)\n",
        "\n",
        "# Model Accuracy: how often the classifier is correct\n",
        "print(\"Accuracy:\",metrics.accuracy_score(Y_test, Y_pred))\n",
        "\n",
        "cm = confusion_matrix(Y_test, Y_pred)\n",
        "cm_labels = [\"[0,4]\",\"(4,8]\",\"(8,12]\",\"(12,16]\",\"(16,20]\"]\n",
        "plot_confusion_matrix(cm, cm_labels)  \n",
        "plt.show()"
      ],
      "metadata": {
        "colab": {
          "base_uri": "https://localhost:8080/",
          "height": 524
        },
        "id": "HS-xdY4FtngI",
        "outputId": "ca628f38-2315-4d93-89b6-0c8af281923b"
      },
      "execution_count": 47,
      "outputs": [
        {
          "output_type": "stream",
          "name": "stdout",
          "text": [
            "Accuracy: 0.43037974683544306\n"
          ]
        },
        {
          "output_type": "display_data",
          "data": {
            "text/plain": [
              "<Figure size 640x480 with 2 Axes>"
            ],
            "image/png": "[encoded data removed]"
          },
          "metadata": {}
        }
      ]
    },
    {
      "cell_type": "code",
      "source": [
        "#k = 'linear','poly','rbf', 'sigmoid'   default rbf\n",
        "#c = 10.0, 1.0, 0.1   default 1.0\n",
        "#t = 0.0001, 0.001, 0.01, 0.1, 1.0   default 1e-3\n",
        "\n",
        "#linear\n",
        "print('\\nk=linear, c=10.0')\n",
        "SVMLooper('linear', 10.0, 0.0001, X2, Y)\n",
        "SVMLooper('linear', 10.0, 0.001, X2, Y)\n",
        "SVMLooper('linear', 10.0, 0.01, X2, Y)\n",
        "SVMLooper('linear', 10.0, 0.1, X2, Y)\n",
        "SVMLooper('linear', 10.0, 1.0, X2, Y)\n",
        "print('\\nk=linear, c=1.0')\n",
        "SVMLooper('linear', 1.0, 0.0001, X2, Y)\n",
        "SVMLooper('linear', 1.0, 0.001, X2, Y)\n",
        "SVMLooper('linear', 1.0, 0.01, X2, Y)\n",
        "SVMLooper('linear', 1.0, 0.1, X2, Y)\n",
        "SVMLooper('linear', 1.0, 1.0, X2, Y)\n",
        "print('\\nk=linear, c=0.1')\n",
        "SVMLooper('linear', 0.1, 0.0001, X2, Y)\n",
        "SVMLooper('linear', 0.1, 0.001, X2, Y)\n",
        "SVMLooper('linear', 0.1, 0.01, X2, Y)\n",
        "SVMLooper('linear', 0.1, 0.1, X2, Y)\n",
        "SVMLooper('linear', 0.1, 1.0, X2, Y)"
      ],
      "metadata": {
        "colab": {
          "base_uri": "https://localhost:8080/"
        },
        "id": "Ih2h7x6ftqjy",
        "outputId": "f34396d2-3e8d-4014-a17a-60d6dae5d837"
      },
      "execution_count": 48,
      "outputs": [
        {
          "output_type": "stream",
          "name": "stdout",
          "text": [
            "\n",
            "k=linear, c=10.0\n",
            "0.42050632911392405\n",
            "0.42126582278481\n",
            "0.4144303797468354\n",
            "0.4169620253164556\n",
            "0.4075949367088608\n",
            "\n",
            "k=linear, c=1.0\n",
            "0.4118987341772151\n",
            "0.4134177215189873\n",
            "0.4146835443037975\n",
            "0.4136708860759494\n",
            "0.4078481012658227\n",
            "\n",
            "k=linear, c=0.1\n",
            "0.4074683544303797\n",
            "0.4144303797468354\n",
            "0.41658227848101265\n",
            "0.4139240506329114\n",
            "0.40632911392405063\n"
          ]
        }
      ]
    },
    {
      "cell_type": "code",
      "source": [
        "#poly\n",
        "print('\\nk=poly, c=10.0')\n",
        "SVMLooper('poly', 10.0, 0.0001, X2, Y)\n",
        "SVMLooper('poly', 10.0, 0.001, X2, Y)\n",
        "SVMLooper('poly', 10.0, 0.01, X2, Y)\n",
        "SVMLooper('poly', 10.0, 0.1, X2, Y)\n",
        "SVMLooper('poly', 10.0, 1.0, X2, Y)\n",
        "print('\\nk=poly, c=1.0')\n",
        "SVMLooper('poly', 1.0, 0.0001, X2, Y)\n",
        "SVMLooper('poly', 1.0, 0.001, X2, Y)\n",
        "SVMLooper('poly', 1.0, 0.01, X2, Y)\n",
        "SVMLooper('poly', 1.0, 0.1, X2, Y)\n",
        "SVMLooper('poly', 1.0, 1.0, X2, Y)\n",
        "print('\\nk=poly, c=0.1')\n",
        "SVMLooper('poly', 0.1, 0.0001, X2, Y)\n",
        "SVMLooper('poly', 0.1, 0.001, X2, Y)\n",
        "SVMLooper('poly', 0.1, 0.01, X2, Y)\n",
        "SVMLooper('poly', 0.1, 0.1, X2, Y)\n",
        "SVMLooper('poly', 0.1, 1.0, X2, Y)"
      ],
      "metadata": {
        "colab": {
          "base_uri": "https://localhost:8080/"
        },
        "id": "SLck7txitvBH",
        "outputId": "42359bb3-e8c6-44f3-d408-17d439e2e428"
      },
      "execution_count": 49,
      "outputs": [
        {
          "output_type": "stream",
          "name": "stdout",
          "text": [
            "\n",
            "k=poly, c=10.0\n",
            "0.39822784810126577\n",
            "0.4\n",
            "0.39265822784810134\n",
            "0.4053164556962025\n",
            "0.3937974683544303\n",
            "\n",
            "k=poly, c=1.0\n",
            "0.4015189873417722\n",
            "0.41189873417721523\n",
            "0.40075949367088604\n",
            "0.39658227848101263\n",
            "0.40481012658227855\n",
            "\n",
            "k=poly, c=0.1\n",
            "0.4115189873417721\n",
            "0.40392405063291137\n",
            "0.41025316455696204\n",
            "0.3991139240506329\n",
            "0.41392405063291143\n"
          ]
        }
      ]
    },
    {
      "cell_type": "code",
      "source": [
        "#rbf\n",
        "print('\\nk=rbf, c=10.0')\n",
        "SVMLooper('rbf', 10.0, 0.0001, X2, Y)\n",
        "SVMLooper('rbf', 10.0, 0.001, X2, Y)\n",
        "SVMLooper('rbf', 10.0, 0.01, X2, Y)\n",
        "SVMLooper('rbf', 10.0, 0.1, X2, Y)\n",
        "SVMLooper('rbf', 10.0, 1.0, X2, Y)\n",
        "print('\\nk=rbf, c=1.0')\n",
        "SVMLooper('rbf', 1.0, 0.0001, X2, Y)\n",
        "SVMLooper('rbf', 1.0, 0.001, X2, Y)\n",
        "SVMLooper('rbf', 1.0, 0.01, X2, Y)\n",
        "SVMLooper('rbf', 1.0, 0.1, X2, Y)\n",
        "SVMLooper('rbf', 1.0, 1.0, X2, Y)\n",
        "print('\\nk=rbf, c=0.1')\n",
        "SVMLooper('rbf', 0.1, 0.0001, X2, Y)\n",
        "SVMLooper('rbf', 0.1, 0.001, X2, Y)\n",
        "SVMLooper('rbf', 0.1, 0.01, X2, Y)\n",
        "SVMLooper('rbf', 0.1, 0.1, X2, Y)\n",
        "SVMLooper('rbf', 0.1, 1.0, X2, Y)"
      ],
      "metadata": {
        "colab": {
          "base_uri": "https://localhost:8080/"
        },
        "id": "-LA82Eh1txEj",
        "outputId": "3094d688-2101-41ca-fb0e-2053e1aa6ff4"
      },
      "execution_count": 50,
      "outputs": [
        {
          "output_type": "stream",
          "name": "stdout",
          "text": [
            "\n",
            "k=rbf, c=10.0\n",
            "0.4162025316455696\n",
            "0.40734177215189876\n",
            "0.4079746835443038\n",
            "0.4124050632911392\n",
            "0.40835443037974684\n",
            "\n",
            "k=rbf, c=1.0\n",
            "0.40430379746835443\n",
            "0.4159493670886076\n",
            "0.40329113924050636\n",
            "0.41126582278481016\n",
            "0.40240506329113934\n",
            "\n",
            "k=rbf, c=0.1\n",
            "0.4144303797468355\n",
            "0.40063291139240503\n",
            "0.40670886075949364\n",
            "0.410379746835443\n",
            "0.4089873417721519\n"
          ]
        }
      ]
    },
    {
      "cell_type": "code",
      "source": [
        "#sigmoid\n",
        "print('\\nk=sigmoid, c=10.0')\n",
        "SVMLooper('sigmoid', 10.0, 0.0001, X2, Y)\n",
        "SVMLooper('sigmoid', 10.0, 0.001, X2, Y)\n",
        "SVMLooper('sigmoid', 10.0, 0.01, X2, Y)\n",
        "SVMLooper('sigmoid', 10.0, 0.1, X2, Y)\n",
        "SVMLooper('sigmoid', 10.0, 1.0, X2, Y)\n",
        "print('\\nk=sigmoid, c=1.0')\n",
        "SVMLooper('sigmoid', 1.0, 0.0001, X2, Y)\n",
        "SVMLooper('sigmoid', 1.0, 0.001, X2, Y)\n",
        "SVMLooper('sigmoid', 1.0, 0.01, X2, Y)\n",
        "SVMLooper('sigmoid', 1.0, 0.1, X2, Y)\n",
        "SVMLooper('sigmoid', 1.0, 1.0, X2, Y)\n",
        "print('\\nk=sigmoid, c=0.1')\n",
        "SVMLooper('sigmoid', 0.1, 0.0001, X2, Y)\n",
        "SVMLooper('sigmoid', 0.1, 0.001, X2, Y)\n",
        "SVMLooper('sigmoid', 0.1, 0.01, X2, Y)\n",
        "SVMLooper('sigmoid', 0.1, 0.1, X2, Y)\n",
        "SVMLooper('sigmoid', 0.1, 1.0, X2, Y)"
      ],
      "metadata": {
        "colab": {
          "base_uri": "https://localhost:8080/"
        },
        "id": "8w4s0WuSt0CM",
        "outputId": "4dc6fd6e-7ddc-4db2-c03a-a004d789a707"
      },
      "execution_count": 51,
      "outputs": [
        {
          "output_type": "stream",
          "name": "stdout",
          "text": [
            "\n",
            "k=sigmoid, c=10.0\n",
            "0.39164556962025315\n",
            "0.3789873417721519\n",
            "0.37822784810126586\n",
            "0.39506329113924044\n",
            "0.38088607594936713\n",
            "\n",
            "k=sigmoid, c=1.0\n",
            "0.36556962025316453\n",
            "0.369240506329114\n",
            "0.37481012658227847\n",
            "0.3667088607594936\n",
            "0.3649367088607595\n",
            "\n",
            "k=sigmoid, c=0.1\n",
            "0.4122784810126582\n",
            "0.41050632911392415\n",
            "0.40316455696202524\n",
            "0.4046835443037974\n",
            "0.39822784810126594\n"
          ]
        }
      ]
    },
    {
      "cell_type": "markdown",
      "metadata": {
        "id": "YzkWS-CAoEZg"
      },
      "source": [
        "##Model 2 Results"
      ]
    },
    {
      "cell_type": "markdown",
      "metadata": {
        "id": "6hDC04LUqxuW"
      },
      "source": [
        "The maximum accuracy of any kernel was obtained with the 'linear' kernel: 0.435949 for all inputs\n",
        "\n",
        "This maximum exceeds the maximum of the next best kernel by 0.014051, or 1.4% less accurate.\n",
        "\n",
        "This maximum was obtained by using C=1.0, tol=0.01. The next best configuration (C=1.0, tol=1.0) differed by 0.005316, or 0.5% less accurate.\n",
        "\n",
        "Using reduced inputs of X1 and X2 resulted it minimal change to accuracy with group 1's maximum accuraccy being 0.416582 and group 2's maximum being 0.421012\n",
        "\n",
        "---\n",
        "\n",
        "Even the best configuration we could find is insufficinet to be a reliable predictor for a given student's G3 grade, being that it is only 43.6% accurate in predicting our test set. These poor results are possibly due to red herrings in the data; if this is the case, we should choose out input features that we would have the best correlation to the student's final grade. It is also possible that all correlations between the input features and the final grade are weak, in which case our studies are unlikely to produce a viable model."
      ]
    },
    {
      "cell_type": "markdown",
      "metadata": {
        "id": "goXoUReFoHCy"
      },
      "source": [
        "Hyperparameter combinations data dump. Values represent the average accuracy of a hyperparameter configuration over 100 iterations.\n",
        "\n",
        "Lines prepended by kernel (k) and C (c) settings. Values listed in-line in order of t=0.0001, 0.001, 0.01, 0.1, 1.0\n",
        "\n",
        "---\n",
        "\n",
        "k=linear, c=10.0\n",
        "0.43\n",
        "0.42037974683544305\n",
        "0.41316455696202536\n",
        "0.4245569620253164\n",
        "0.4156962025316456\n",
        "\n",
        "k=linear, c=1.0\n",
        "0.4234177215189873\n",
        "0.42303797468354426\n",
        "0.4359493670886076\n",
        "0.42658227848101254\n",
        "0.430632911392405\n",
        "\n",
        "k=linear, c=0.1\n",
        "0.4043037974683545\n",
        "0.41189873417721523\n",
        "0.4008860759493672\n",
        "0.4118987341772151\n",
        "0.4101265822784809\n",
        "\n",
        "k=poly, c=10.0\n",
        "0.40379746835443037\n",
        "0.39468354430379743\n",
        "0.4099999999999999\n",
        "0.4129113924050632\n",
        "0.3986075949367089\n",
        "\n",
        "k=poly, c=1.0\n",
        "0.4045569620253165\n",
        "0.4013924050632912\n",
        "0.40506329113924044\n",
        "0.41050632911392404\n",
        "0.40278481012658224\n",
        "\n",
        "k=poly, c=0.1\n",
        "0.40886075949367084\n",
        "0.4069620253164557\n",
        "0.40670886075949364\n",
        "0.4021518987341772\n",
        "0.4086075949367089\n",
        "\n",
        "k=rbf, c=10.0\n",
        "0.4124050632911393\n",
        "0.410379746835443\n",
        "0.41658227848101265\n",
        "0.42189873417721513\n",
        "0.419873417721519\n",
        "\n",
        "k=rbf, c=1.0\n",
        "0.3986075949367089\n",
        "0.41506329113924045\n",
        "0.4155696202531646\n",
        "0.3992405063291139\n",
        "0.40303797468354424\n",
        "\n",
        "k=rbf, c=0.1\n",
        "0.4158227848101266\n",
        "0.4041772151898734\n",
        "0.4107594936708861\n",
        "0.4053164556962025\n",
        "0.41126582278481016\n",
        "\n",
        "k=sigmoid, c=10.0\n",
        "0.40784810126582277\n",
        "0.39417721518987336\n",
        "0.38594936708860755\n",
        "0.40329113924050625\n",
        "0.389746835443038\n",
        "\n",
        "k=sigmoid, c=1.0\n",
        "0.4006329113924052\n",
        "0.3945569620253164\n",
        "0.39417721518987325\n",
        "0.3982278481012658\n",
        "0.3981012658227849\n",
        "\n",
        "k=sigmoid, c=0.1\n",
        "0.40962025316455697\n",
        "0.41050632911392415\n",
        "0.4067088607594937\n",
        "0.40772151898734177\n",
        "0.4091139240506329"
      ]
    },
    {
      "cell_type": "markdown",
      "metadata": {
        "id": "4hZ9Ed2vqyAK"
      },
      "source": [
        "#Model 3 - Decision Tree"
      ]
    },
    {
      "cell_type": "markdown",
      "metadata": {
        "id": "ziBhX_6_QcGj"
      },
      "source": [
        "##All Inputs"
      ]
    },
    {
      "cell_type": "code",
      "execution_count": 52,
      "metadata": {
        "id": "_HI8itzb50xh"
      },
      "outputs": [],
      "source": [
        "#c is Critirion, depth is max_depth, leaf is max_leaf_nodes, split is min_sample_split, Defaults are the defualts or values close\n",
        "def TreeLooper(X, Y, c='gini', depth=1000, leaf=1000, split=2):\n",
        "  Accuracy = np.zeros(1000)\n",
        "  for x in range(1000):\n",
        "    #Split the data\n",
        "    X_train, X_test, y_train, y_test = train_test_split(X, Y, test_size=0.2)\n",
        "    X_train.shape, X_test.shape, y_train.shape, y_test.shape\n",
        "    #train the model (Here you should change the hyperparameters)\n",
        "    clf = tree.DecisionTreeClassifier(criterion=c ,max_leaf_nodes=leaf, max_depth=depth, min_samples_split=split)\n",
        "    clf.fit(X_train, y_train) # Train Logistic Regression Classifer\n",
        "    #Predict the response for test dataset\n",
        "    y_pred = clf.predict(X_test)\n",
        "    Accuracy[x] = float(metrics.accuracy_score(y_test, y_pred))\n",
        "  print(np.average(Accuracy))"
      ]
    },
    {
      "cell_type": "code",
      "execution_count": 52,
      "metadata": {
        "id": "AO85u1UqMewl"
      },
      "outputs": [],
      "source": []
    },
    {
      "cell_type": "code",
      "execution_count": 53,
      "metadata": {
        "id": "yV9PpGlpL-Lo",
        "colab": {
          "base_uri": "https://localhost:8080/"
        },
        "outputId": "e0472681-dcaf-40f4-b510-2d1b6cb86915"
      },
      "outputs": [
        {
          "output_type": "stream",
          "name": "stdout",
          "text": [
            "\n",
            "c=gini\n",
            "0.35032911392405064\n",
            "\n",
            "c=entropy\n",
            "0.34929113924050637\n"
          ]
        }
      ],
      "source": [
        "print('\\nc=gini')\n",
        "TreeLooper(X,Y,c='gini')\n",
        "\n",
        "print('\\nc=entropy')\n",
        "TreeLooper(X,Y,c='entropy')"
      ]
    },
    {
      "cell_type": "code",
      "execution_count": 54,
      "metadata": {
        "id": "5nuihP_78XFb",
        "colab": {
          "base_uri": "https://localhost:8080/"
        },
        "outputId": "00f559a9-67e7-4676-be16-a33902622023"
      },
      "outputs": [
        {
          "output_type": "stream",
          "name": "stdout",
          "text": [
            "\n",
            "c=gini, depth={1,2,3,5,10,100}\n",
            "0.41810126582278484\n",
            "0.41775949367088605\n",
            "0.42863291139240506\n",
            "0.4043544303797469\n",
            "0.35884810126582284\n",
            "0.3500886075949367\n",
            "\n",
            "c=entropy, depth={1,2,3,5,10,100}\n",
            "0.41872151898734183\n",
            "0.42202531645569613\n",
            "0.4178101265822785\n",
            "0.39065822784810134\n",
            "0.3563291139240506\n",
            "0.34827848101265824\n"
          ]
        }
      ],
      "source": [
        "print('\\nc=gini, depth={1,2,3,5,10,100}')\n",
        "TreeLooper(X,Y,c='gini', depth=1)\n",
        "TreeLooper(X,Y,c='gini', depth=2)\n",
        "TreeLooper(X,Y,c='gini', depth=3)     #Best\n",
        "TreeLooper(X,Y,c='gini', depth=5)\n",
        "TreeLooper(X,Y,c='gini', depth=10)\n",
        "TreeLooper(X,Y,c='gini', depth=100)\n",
        "\n",
        "print('\\nc=entropy, depth={1,2,3,5,10,100}')\n",
        "TreeLooper(X,Y,c='entropy', depth=1)\n",
        "TreeLooper(X,Y,c='entropy', depth=2)\n",
        "TreeLooper(X,Y,c='entropy', depth=3)\n",
        "TreeLooper(X,Y,c='entropy', depth=5)\n",
        "TreeLooper(X,Y,c='entropy', depth=10)\n",
        "TreeLooper(X,Y,c='entropy', depth=100)"
      ]
    },
    {
      "cell_type": "code",
      "execution_count": 55,
      "metadata": {
        "id": "v4TQp4gSHBn-",
        "colab": {
          "base_uri": "https://localhost:8080/"
        },
        "outputId": "9c4649b6-1c4d-485f-acec-ebc5f90a5450"
      },
      "outputs": [
        {
          "output_type": "stream",
          "name": "stdout",
          "text": [
            "\n",
            "c=gini, leaf={2,3,5,10,100}\n",
            "0.41758227848101265\n",
            "0.43481012658227847\n",
            "0.41675949367088605\n",
            "0.4173164556962025\n",
            "0.36140506329113925\n",
            "\n",
            "c=entropy, leaf={2,3,5,10,100}\n",
            "0.4192025316455696\n",
            "0.43330379746835446\n",
            "0.41624050632911397\n",
            "0.4068607594936709\n",
            "0.3531392405063291\n"
          ]
        }
      ],
      "source": [
        "print('\\nc=gini, leaf={2,3,5,10,100}')\n",
        "TreeLooper(X,Y,leaf=2)\n",
        "TreeLooper(X,Y,leaf=3)\n",
        "TreeLooper(X,Y,leaf=5)\n",
        "TreeLooper(X,Y,leaf=10)\n",
        "TreeLooper(X,Y,leaf=100)\n",
        "\n",
        "print('\\nc=entropy, leaf={2,3,5,10,100}')\n",
        "TreeLooper(X,Y,leaf=2, c='entropy')\n",
        "TreeLooper(X,Y,leaf=3, c='entropy')     #Best\n",
        "TreeLooper(X,Y,leaf=5, c='entropy')\n",
        "TreeLooper(X,Y,leaf=10, c='entropy')\n",
        "TreeLooper(X,Y,leaf=100, c='entropy')"
      ]
    },
    {
      "cell_type": "code",
      "execution_count": 56,
      "metadata": {
        "id": "IzHHHRB2Ib9L",
        "colab": {
          "base_uri": "https://localhost:8080/"
        },
        "outputId": "2fab58da-c024-4f3f-bf98-5516cb96f3c3"
      },
      "outputs": [
        {
          "output_type": "stream",
          "name": "stdout",
          "text": [
            "\n",
            "c=gini, split={2,3,5,10,100}\n",
            "0.34956962025316457\n",
            "0.35144303797468357\n",
            "0.3574810126582279\n",
            "0.3767974683544304\n",
            "0.38463291139240513\n",
            "\n",
            "c=entropy, split={2,3,5,10,100}\n",
            "0.34856962025316457\n",
            "0.3520126582278481\n",
            "0.3539493670886076\n",
            "0.36889873417721525\n",
            "0.385253164556962\n"
          ]
        }
      ],
      "source": [
        "print('\\nc=gini, split={2,3,5,10,100}')\n",
        "TreeLooper(X,Y,split=2)\n",
        "TreeLooper(X,Y,split=3)\n",
        "TreeLooper(X,Y,split=5)\n",
        "TreeLooper(X,Y,split=10)\n",
        "TreeLooper(X,Y,split=100)         #Best\n",
        "\n",
        "print('\\nc=entropy, split={2,3,5,10,100}')\n",
        "TreeLooper(X,Y,split=2, c='entropy')\n",
        "TreeLooper(X,Y,split=3, c='entropy')\n",
        "TreeLooper(X,Y,split=5, c='entropy')\n",
        "TreeLooper(X,Y,split=10, c='entropy')     \n",
        "TreeLooper(X,Y,split=100, c='entropy') "
      ]
    },
    {
      "cell_type": "markdown",
      "metadata": {
        "id": "ByO8tiCkNmgV"
      },
      "source": [
        "Picking the best preforming Hyper-parameter values for each one tuned, with gini chosen at random as all data shows that gini vs entropy shows little to no different between the two criterions. Gives us a lower accuracy than some tuned individually, however when you ignore the lowest performing hyper-parameter of split the accuracy is similar to the highest individual tune of max_leaf_nodes at 3"
      ]
    },
    {
      "cell_type": "code",
      "execution_count": 57,
      "metadata": {
        "id": "MB7LefiVOJPT",
        "colab": {
          "base_uri": "https://localhost:8080/"
        },
        "outputId": "a852e90a-c062-41cc-df0d-fc933794c9ea"
      },
      "outputs": [
        {
          "output_type": "stream",
          "name": "stdout",
          "text": [
            "\n",
            "c=gini, split=100, leaf=3, depth=3\n",
            "0.4003544303797469\n"
          ]
        }
      ],
      "source": [
        "print('\\nc=gini, split=100, leaf=3, depth=3')\n",
        "TreeLooper(X,Y,split=100, c='gini', leaf=3, depth=3)"
      ]
    },
    {
      "cell_type": "code",
      "execution_count": 58,
      "metadata": {
        "id": "T5MpYLmSPqu-",
        "colab": {
          "base_uri": "https://localhost:8080/"
        },
        "outputId": "064b9569-7da7-4061-ea00-1271402ab86e"
      },
      "outputs": [
        {
          "output_type": "stream",
          "name": "stdout",
          "text": [
            "\n",
            "c=gini, leaf=3, depth=3\n",
            "0.4355949367088607\n"
          ]
        }
      ],
      "source": [
        "print('\\nc=gini, leaf=3, depth=3')\n",
        "TreeLooper(X,Y, c='gini', leaf=3, depth=3)"
      ]
    },
    {
      "cell_type": "markdown",
      "metadata": {
        "id": "aR1ZIEOmS17f"
      },
      "source": [
        "Lastly creating the model with these selected hyper-parameter values and plotting it's confusion matrix."
      ]
    },
    {
      "cell_type": "code",
      "execution_count": 59,
      "metadata": {
        "id": "3hU6GhuZTEt7",
        "colab": {
          "base_uri": "https://localhost:8080/",
          "height": 506
        },
        "outputId": "744f90bd-abf2-4c77-df29-386507c715a2"
      },
      "outputs": [
        {
          "output_type": "display_data",
          "data": {
            "text/plain": [
              "<Figure size 640x480 with 2 Axes>"
            ],
            "image/png": "[encoded data removed]"
          },
          "metadata": {}
        }
      ],
      "source": [
        "#Split the data\n",
        "X_train, X_test, y_train, y_test = train_test_split(X, Y, test_size=0.2)\n",
        "X_train.shape, X_test.shape, y_train.shape, y_test.shape\n",
        "#train the model (Here you should change the hyperparameters)\n",
        "clf = tree.DecisionTreeClassifier(criterion='gini',max_leaf_nodes=3, max_depth=3)\n",
        "clf.fit(X_train, y_train) # Train Logistic Regression Classifer\n",
        "#Predict the response for test dataset\n",
        "y_pred = clf.predict(X_test)\n",
        "\n",
        "\n",
        "cm = confusion_matrix(y_test, y_pred)\n",
        "cm_labels = [\"[0,4]\",\"(4,8]\",\"(8,12]\",\"(12,16]\",\"(16,20]\"]\n",
        "plot_confusion_matrix(cm, cm_labels)  \n",
        "plt.show()"
      ]
    },
    {
      "cell_type": "markdown",
      "metadata": {
        "id": "RItPV-DpQIod"
      },
      "source": [
        "##Group 1 Inputs"
      ]
    },
    {
      "cell_type": "code",
      "execution_count": 60,
      "metadata": {
        "id": "1e6a7vrnQIWn",
        "colab": {
          "base_uri": "https://localhost:8080/"
        },
        "outputId": "1ea5d2a0-fd55-498a-bdcf-6dbd7d785024"
      },
      "outputs": [
        {
          "output_type": "stream",
          "name": "stdout",
          "text": [
            "\n",
            "c=gini\n",
            "0.28664556962025317\n",
            "\n",
            "c=entropy\n",
            "0.28356962025316457\n"
          ]
        }
      ],
      "source": [
        "print('\\nc=gini')\n",
        "TreeLooper(X1,Y,c='gini')\n",
        "\n",
        "print('\\nc=entropy')\n",
        "TreeLooper(X1,Y,c='entropy')"
      ]
    },
    {
      "cell_type": "code",
      "execution_count": 61,
      "metadata": {
        "id": "JodScYAIUKt1",
        "colab": {
          "base_uri": "https://localhost:8080/"
        },
        "outputId": "99f60934-d9ae-4535-82da-a3a61e999b35"
      },
      "outputs": [
        {
          "output_type": "stream",
          "name": "stdout",
          "text": [
            "\n",
            "c=gini, depth={1,2,3,5,10,100}\n",
            "0.4046708860759494\n",
            "0.39093670886075954\n",
            "0.36220253164556965\n",
            "0.3481898734177215\n",
            "0.31436708860759494\n",
            "0.2888987341772152\n",
            "\n",
            "c=entropy, depth={1,2,3,5,10,100}\n",
            "0.4073164556962025\n",
            "0.3901898734177215\n",
            "0.3835949367088608\n",
            "0.3589873417721519\n",
            "0.300873417721519\n",
            "0.28405063291139243\n"
          ]
        }
      ],
      "source": [
        "print('\\nc=gini, depth={1,2,3,5,10,100}')\n",
        "TreeLooper(X1,Y,c='gini', depth=1)    \n",
        "TreeLooper(X1,Y,c='gini', depth=2)\n",
        "TreeLooper(X1,Y,c='gini', depth=3)    \n",
        "TreeLooper(X1,Y,c='gini', depth=5)\n",
        "TreeLooper(X1,Y,c='gini', depth=10)\n",
        "TreeLooper(X1,Y,c='gini', depth=100)\n",
        "\n",
        "print('\\nc=entropy, depth={1,2,3,5,10,100}')\n",
        "TreeLooper(X1,Y,c='entropy', depth=1) #Best\n",
        "TreeLooper(X1,Y,c='entropy', depth=2)\n",
        "TreeLooper(X1,Y,c='entropy', depth=3)\n",
        "TreeLooper(X1,Y,c='entropy', depth=5)\n",
        "TreeLooper(X1,Y,c='entropy', depth=10)\n",
        "TreeLooper(X1,Y,c='entropy', depth=100)"
      ]
    },
    {
      "cell_type": "code",
      "execution_count": 62,
      "metadata": {
        "id": "dUgci_K_UOlA",
        "colab": {
          "base_uri": "https://localhost:8080/"
        },
        "outputId": "d75feb5f-8695-4266-8f77-2abac21f7ea4"
      },
      "outputs": [
        {
          "output_type": "stream",
          "name": "stdout",
          "text": [
            "\n",
            "c=gini, leaf={2,3,5,10,100}\n",
            "0.4057341772151899\n",
            "0.40088607594936715\n",
            "0.3768227848101266\n",
            "0.36510126582278485\n",
            "0.32291139240506334\n",
            "\n",
            "c=entropy, leaf={2,3,5,10,100}\n",
            "0.40901265822784816\n",
            "0.40036708860759496\n",
            "0.39321518987341775\n",
            "0.38221518987341774\n",
            "0.3067215189873418\n"
          ]
        }
      ],
      "source": [
        "print('\\nc=gini, leaf={2,3,5,10,100}')\n",
        "TreeLooper(X1,Y,leaf=2)   #Best\n",
        "TreeLooper(X1,Y,leaf=3)   \n",
        "TreeLooper(X1,Y,leaf=5)\n",
        "TreeLooper(X1,Y,leaf=10)\n",
        "TreeLooper(X1,Y,leaf=100)\n",
        "\n",
        "print('\\nc=entropy, leaf={2,3,5,10,100}')\n",
        "TreeLooper(X1,Y,leaf=2, c='entropy')\n",
        "TreeLooper(X1,Y,leaf=3, c='entropy')     \n",
        "TreeLooper(X1,Y,leaf=5, c='entropy')\n",
        "TreeLooper(X1,Y,leaf=10, c='entropy')\n",
        "TreeLooper(X1,Y,leaf=100, c='entropy')"
      ]
    },
    {
      "cell_type": "code",
      "execution_count": 63,
      "metadata": {
        "id": "1qca7rP_UR-K",
        "colab": {
          "base_uri": "https://localhost:8080/"
        },
        "outputId": "fb8d59c8-c345-4e9f-f3cd-d6bb7c686dea"
      },
      "outputs": [
        {
          "output_type": "stream",
          "name": "stdout",
          "text": [
            "\n",
            "c=gini, split={2,3,5,10,100}\n",
            "0.2891392405063291\n",
            "0.2874177215189873\n",
            "0.29624050632911386\n",
            "0.3209620253164557\n",
            "0.367746835443038\n",
            "\n",
            "c=entropy, split={2,3,5,10,100}\n",
            "0.28427848101265824\n",
            "0.2801772151898734\n",
            "0.29392405063291144\n",
            "0.3156075949367088\n",
            "0.37903797468354433\n"
          ]
        }
      ],
      "source": [
        "print('\\nc=gini, split={2,3,5,10,100}')\n",
        "TreeLooper(X1,Y,split=2)\n",
        "TreeLooper(X1,Y,split=3)\n",
        "TreeLooper(X1,Y,split=5)\n",
        "TreeLooper(X1,Y,split=10)\n",
        "TreeLooper(X1,Y,split=100)         \n",
        "\n",
        "print('\\nc=entropy, split={2,3,5,10,100}')\n",
        "TreeLooper(X1,Y,split=2, c='entropy')\n",
        "TreeLooper(X1,Y,split=3, c='entropy')\n",
        "TreeLooper(X1,Y,split=5, c='entropy')\n",
        "TreeLooper(X1,Y,split=10, c='entropy')     \n",
        "TreeLooper(X1,Y,split=100, c='entropy')   #Best"
      ]
    },
    {
      "cell_type": "markdown",
      "metadata": {
        "id": "2DsAIcb1U_6T"
      },
      "source": [
        "Picking the best preforming Hyper-parameter values for each one tuned, with gini chosen at random as all data shows that gini vs entropy shows little to no different between the two criterions when changing other hyper-parameters."
      ]
    },
    {
      "cell_type": "code",
      "execution_count": 64,
      "metadata": {
        "id": "GZ3shh_xVD1f",
        "colab": {
          "base_uri": "https://localhost:8080/"
        },
        "outputId": "e124d591-dcc0-4388-882a-cfe23b63806d"
      },
      "outputs": [
        {
          "output_type": "stream",
          "name": "stdout",
          "text": [
            "\n",
            "c=gini, split=100, leaf=3, depth=3\n",
            "0.4056582278481013\n"
          ]
        }
      ],
      "source": [
        "print('\\nc=gini, split=100, leaf=3, depth=3')\n",
        "TreeLooper(X1,Y,split=100, c='gini', leaf=2, depth=1)"
      ]
    },
    {
      "cell_type": "markdown",
      "metadata": {
        "id": "A5InwzfyVIk4"
      },
      "source": [
        "Lastly creating the model with these selected hyper-parameter values and plotting it's confusion matrix."
      ]
    },
    {
      "cell_type": "code",
      "execution_count": 65,
      "metadata": {
        "id": "wnp1glvkVN0D",
        "colab": {
          "base_uri": "https://localhost:8080/",
          "height": 506
        },
        "outputId": "ceeef9aa-a253-4472-c565-e76da4fa4572"
      },
      "outputs": [
        {
          "output_type": "display_data",
          "data": {
            "text/plain": [
              "<Figure size 640x480 with 2 Axes>"
            ],
            "image/png": "[encoded data removed]"
          },
          "metadata": {}
        }
      ],
      "source": [
        "#Split the data\n",
        "X_train, X_test, y_train, y_test = train_test_split(X1, Y, test_size=0.2)\n",
        "X_train.shape, X_test.shape, y_train.shape, y_test.shape\n",
        "#train the model (Here you should change the hyperparameters)\n",
        "clf = tree.DecisionTreeClassifier(criterion='gini',max_leaf_nodes=2, max_depth=1, min_samples_split=100)\n",
        "clf.fit(X_train, y_train) # Train Logistic Regression Classifer\n",
        "#Predict the response for test dataset\n",
        "y_pred = clf.predict(X_test)\n",
        "\n",
        "\n",
        "cm = confusion_matrix(y_test, y_pred)\n",
        "cm_labels = [\"[0,4]\",\"(4,8]\",\"(8,12]\",\"(12,16]\",\"(16,20]\"]\n",
        "plot_confusion_matrix(cm, cm_labels)  \n",
        "plt.show()"
      ]
    },
    {
      "cell_type": "markdown",
      "metadata": {
        "id": "rdXIHd92QgQR"
      },
      "source": [
        "##Group 2 Inputs"
      ]
    },
    {
      "cell_type": "code",
      "execution_count": 66,
      "metadata": {
        "id": "x38AyJ9DUjtG",
        "colab": {
          "base_uri": "https://localhost:8080/"
        },
        "outputId": "250623fb-7ea7-49b5-8d79-0fce533971b8"
      },
      "outputs": [
        {
          "output_type": "stream",
          "name": "stdout",
          "text": [
            "\n",
            "c=gini\n",
            "0.33629113924050635\n",
            "\n",
            "c=entropy\n",
            "0.32994936708860756\n"
          ]
        }
      ],
      "source": [
        "print('\\nc=gini')\n",
        "TreeLooper(X2,Y,c='gini')\n",
        "\n",
        "print('\\nc=entropy')\n",
        "TreeLooper(X2,Y,c='entropy')"
      ]
    },
    {
      "cell_type": "code",
      "execution_count": 67,
      "metadata": {
        "id": "71o4rGm8Ulqh",
        "colab": {
          "base_uri": "https://localhost:8080/"
        },
        "outputId": "7a8063b9-e894-4b24-d8c6-89a7a5d3a70b"
      },
      "outputs": [
        {
          "output_type": "stream",
          "name": "stdout",
          "text": [
            "\n",
            "c=gini, depth={1,2,3,5,10,100}\n",
            "0.4192025316455696\n",
            "0.41934177215189866\n",
            "0.4243164556962025\n",
            "0.39451898734177215\n",
            "0.3481898734177215\n",
            "0.33363291139240503\n",
            "\n",
            "c=entropy, depth={1,2,3,5,10,100}\n",
            "0.41988607594936705\n",
            "0.41925316455696204\n",
            "0.4202911392405064\n",
            "0.3945316455696202\n",
            "0.3328987341772152\n",
            "0.3301645569620253\n"
          ]
        }
      ],
      "source": [
        "print('\\nc=gini, depth={1,2,3,5,10,100}')\n",
        "TreeLooper(X2,Y,c='gini', depth=1)\n",
        "TreeLooper(X2,Y,c='gini', depth=2)\n",
        "TreeLooper(X2,Y,c='gini', depth=3)     #Best\n",
        "TreeLooper(X2,Y,c='gini', depth=5)\n",
        "TreeLooper(X2,Y,c='gini', depth=10)\n",
        "TreeLooper(X2,Y,c='gini', depth=100)\n",
        "\n",
        "print('\\nc=entropy, depth={1,2,3,5,10,100}')\n",
        "TreeLooper(X2,Y,c='entropy', depth=1)\n",
        "TreeLooper(X2,Y,c='entropy', depth=2)\n",
        "TreeLooper(X2,Y,c='entropy', depth=3)\n",
        "TreeLooper(X2,Y,c='entropy', depth=5)\n",
        "TreeLooper(X2,Y,c='entropy', depth=10)\n",
        "TreeLooper(X2,Y,c='entropy', depth=100)"
      ]
    },
    {
      "cell_type": "code",
      "execution_count": 68,
      "metadata": {
        "id": "A7yLwvRQUngK",
        "colab": {
          "base_uri": "https://localhost:8080/"
        },
        "outputId": "56845f12-8765-4988-94cb-84b8edfa952a"
      },
      "outputs": [
        {
          "output_type": "stream",
          "name": "stdout",
          "text": [
            "\n",
            "c=gini, leaf={2,3,5,10,100}\n",
            "0.41737974683544304\n",
            "0.4351645569620254\n",
            "0.42340506329113925\n",
            "0.41305063291139243\n",
            "0.34924050632911396\n",
            "\n",
            "c=entropy, leaf={2,3,5,10,100}\n",
            "0.4185443037974683\n",
            "0.43601265822784807\n",
            "0.41843037974683545\n",
            "0.4136455696202531\n",
            "0.34411392405063296\n"
          ]
        }
      ],
      "source": [
        "print('\\nc=gini, leaf={2,3,5,10,100}')\n",
        "TreeLooper(X2,Y,leaf=2)\n",
        "TreeLooper(X2,Y,leaf=3)\n",
        "TreeLooper(X2,Y,leaf=5)\n",
        "TreeLooper(X2,Y,leaf=10)\n",
        "TreeLooper(X2,Y,leaf=100)\n",
        "\n",
        "print('\\nc=entropy, leaf={2,3,5,10,100}')\n",
        "TreeLooper(X2,Y,leaf=2, c='entropy')\n",
        "TreeLooper(X2,Y,leaf=3, c='entropy')     #Best\n",
        "TreeLooper(X2,Y,leaf=5, c='entropy')\n",
        "TreeLooper(X2,Y,leaf=10, c='entropy')\n",
        "TreeLooper(X2,Y,leaf=100, c='entropy')"
      ]
    },
    {
      "cell_type": "code",
      "execution_count": 69,
      "metadata": {
        "id": "m3lUGq92UpsM",
        "colab": {
          "base_uri": "https://localhost:8080/"
        },
        "outputId": "5fdcc355-5327-444f-e2e0-5316578c439a"
      },
      "outputs": [
        {
          "output_type": "stream",
          "name": "stdout",
          "text": [
            "\n",
            "c=gini, split={2,3,5,10,100}\n",
            "0.3342278481012659\n",
            "0.3387974683544304\n",
            "0.34883544303797476\n",
            "0.36917721518987345\n",
            "0.39349367088607595\n",
            "\n",
            "c=entropy, split={2,3,5,10,100}\n",
            "0.32774683544303795\n",
            "0.3353291139240507\n",
            "0.3412784810126583\n",
            "0.36781012658227846\n",
            "0.3878101265822785\n"
          ]
        }
      ],
      "source": [
        "print('\\nc=gini, split={2,3,5,10,100}')\n",
        "TreeLooper(X2,Y,split=2)\n",
        "TreeLooper(X2,Y,split=3)\n",
        "TreeLooper(X2,Y,split=5)\n",
        "TreeLooper(X2,Y,split=10)\n",
        "TreeLooper(X2,Y,split=100)         #Best\n",
        "\n",
        "print('\\nc=entropy, split={2,3,5,10,100}')\n",
        "TreeLooper(X2,Y,split=2, c='entropy')\n",
        "TreeLooper(X2,Y,split=3, c='entropy')\n",
        "TreeLooper(X2,Y,split=5, c='entropy')\n",
        "TreeLooper(X2,Y,split=10, c='entropy')     \n",
        "TreeLooper(X2,Y,split=100, c='entropy') "
      ]
    },
    {
      "cell_type": "markdown",
      "metadata": {
        "id": "dbifAiRjVTXg"
      },
      "source": [
        "Picking the best preforming Hyper-parameter values for each one tuned, with gini chosen at random as all data shows that gini vs entropy shows little to no different between the two criterions. Gives us a lower accuracy than some tuned individually."
      ]
    },
    {
      "cell_type": "code",
      "execution_count": 70,
      "metadata": {
        "id": "KJPU-iqsVVJV",
        "colab": {
          "base_uri": "https://localhost:8080/"
        },
        "outputId": "caf1f2bf-2825-4bf6-ab8e-9fce06df8fdc"
      },
      "outputs": [
        {
          "output_type": "stream",
          "name": "stdout",
          "text": [
            "\n",
            "c=gini, split=100, leaf=3, depth=3\n",
            "0.4018101265822785\n"
          ]
        }
      ],
      "source": [
        "print('\\nc=gini, split=100, leaf=3, depth=3')\n",
        "TreeLooper(X2,Y,split=100, c='gini', leaf=3, depth=3)"
      ]
    },
    {
      "cell_type": "markdown",
      "metadata": {
        "id": "sgKkD7RcVUwN"
      },
      "source": [
        "Lastly creating the model with these selected hyper-parameter values and plotting it's confusion matrix."
      ]
    },
    {
      "cell_type": "code",
      "execution_count": 71,
      "metadata": {
        "id": "2VaZqHFbVUXu",
        "colab": {
          "base_uri": "https://localhost:8080/",
          "height": 506
        },
        "outputId": "31e11821-ebf2-405c-cc84-39f6506c0872"
      },
      "outputs": [
        {
          "output_type": "display_data",
          "data": {
            "text/plain": [
              "<Figure size 640x480 with 2 Axes>"
            ],
            "image/png": "[encoded data removed]"
          },
          "metadata": {}
        }
      ],
      "source": [
        "#Split the data\n",
        "X_train, X_test, y_train, y_test = train_test_split(X2, Y, test_size=0.2)\n",
        "X_train.shape, X_test.shape, y_train.shape, y_test.shape\n",
        "#train the model (Here you should change the hyperparameters)\n",
        "clf = tree.DecisionTreeClassifier(criterion='gini',max_leaf_nodes=3, max_depth=3)\n",
        "clf.fit(X_train, y_train) # Train Logistic Regression Classifer\n",
        "#Predict the response for test dataset\n",
        "y_pred = clf.predict(X_test)\n",
        "\n",
        "\n",
        "cm = confusion_matrix(y_test, y_pred)\n",
        "cm_labels = [\"[0,4]\",\"(4,8]\",\"(8,12]\",\"(12,16]\",\"(16,20]\"]\n",
        "plot_confusion_matrix(cm, cm_labels)  \n",
        "plt.show()"
      ]
    },
    {
      "cell_type": "markdown",
      "source": [
        "##Model 3 Results"
      ],
      "metadata": {
        "id": "Zuh3YMVRl4M9"
      }
    },
    {
      "cell_type": "markdown",
      "source": [
        "Over all the decission tree was only able to get to about 43.5% accuracy with all given inputs which is sadly far from an exceptible model. When using the far smaller data sets of X1 and X2 initally before any forms of tuning the accruacy took a sigificat drop down to around 28.8% for X1 and 33.0% for X2 both down from the accuracy of the total set which was sitting at 34.8%(all accuracies are an average of the models accuracy over 1000 different splits and trainings). After parameters where tuned the different in accuracy was far less aparent with group X1 and X2 sitting at around 40.5% compared to the 43.5% using all inputs.\n",
        "\n",
        "In the parameter tuning it showed that for different inputs different values seemed to be favored where in the full set a max_leaf_nodes and max_depth was favored at 3, while for X1 leaf scored highest at 2 and depth at 1.\n",
        "\n",
        "Overall looking at the confusion matrixs it seems the decission trees where not predicting off much, but more so just always predicting the most common answer to get to the 40ish%\n",
        "\n",
        "Tuning the weights of each inputs may help improve this model, however it's starting point is so low that it seems to be a fairly poor model for this problem."
      ],
      "metadata": {
        "id": "FyXObtGNl1zm"
      }
    },
    {
      "cell_type": "markdown",
      "source": [
        "#Final Conclusions"
      ],
      "metadata": {
        "id": "_OYM4TGqqRJ9"
      }
    },
    {
      "cell_type": "markdown",
      "source": [
        "All models Created could not get above a 45% accuracy. Looking at the confusion matrixs for each it seems that all models in the end did the same thing, predicted only the middle group of [8,12). Some changes that could be made to find a useable model could be to reduce the number of grade catigories from 5 to just 2 for passing and failing, as well as, getting an expert from the school district to help weight the values of each given input."
      ],
      "metadata": {
        "id": "to3wA44TxJf_"
      }
    },
    {
      "cell_type": "markdown",
      "source": [
        "Additional calculations/comparisons done in excel: https://uwplatt-my.sharepoint.com/:x:/g/personal/yeagerca_uwplatt_edu/EYqL57sHUyhHlS-VKYBLTroBmbeqrP-ncwN7P8NUzxkd3A?e=tcbfed\n",
        "\n",
        "Link to paper found on this data set: http://uu.diva-portal.org/smash/get/diva2:1464106/FULLTEXT01.pdf"
      ],
      "metadata": {
        "id": "HsNW9rUo1vqL"
      }
    }
  ],
  "metadata": {
    "colab": {
      "collapsed_sections": [
        "jlEvhersH4iS",
        "TzPr8ZiuH53x",
        "uPk6E9EOgxOg",
        "I51ZNPCgLvoV",
        "9HlGKbiMiiK8",
        "bbMZ4k9rnwac",
        "fOO5iGs4q-4k",
        "S7cG6MXztjxY",
        "YzkWS-CAoEZg",
        "4hZ9Ed2vqyAK",
        "ziBhX_6_QcGj"
      ],
      "provenance": [],
      "toc_visible": true,
      "include_colab_link": true
    },
    "kernelspec": {
      "display_name": "Python 3",
      "name": "python3"
    },
    "language_info": {
      "name": "python"
    }
  },
  "nbformat": 4,
  "nbformat_minor": 0
}